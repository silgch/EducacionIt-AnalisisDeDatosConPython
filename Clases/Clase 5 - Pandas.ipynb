{
 "cells": [
  {
   "cell_type": "markdown",
   "id": "19cdd9ca",
   "metadata": {},
   "source": [
    "# Clase 5 : Pandas"
   ]
  },
  {
   "cell_type": "markdown",
   "id": "8aa62a0d",
   "metadata": {},
   "source": [
    "En este modulo veremos:\n",
    "-  Series\n",
    "- Dataframe\n",
    "- Read"
   ]
  },
  {
   "cell_type": "markdown",
   "id": "56eaf1b7",
   "metadata": {},
   "source": [
    "## Pandas VI\n"
   ]
  },
  {
   "cell_type": "markdown",
   "id": "18280fb7",
   "metadata": {},
   "source": [
    "### groupby\n",
    "Como hemos visto, es muy fácil hacer estadísticas sobre columnas de un dataframe. Pero muchas veces estamos interesados en realizar **estadísticas a subconjuntos de esos datos según la categoría a la que pertenezcan.** Por ejemplo, encontrar el promedio de edad para hombres y mujeres, o para hombres y mujeres divididos también por la clase en la que viajaban.<br>\n",
    "Para este tipo de operaciones existe el método groupby, que permite hacer los agrupamientos de una forma eficiente y sencilla. Este método crea una estructura de datos particular a la que le podemos aplicar diferentes operaciones estadísticas. Sólo cuando aplicamos estas operaciones se devuelve un dataframe con la información.<br>"
   ]
  },
  {
   "cell_type": "markdown",
   "id": "7728b6ed",
   "metadata": {},
   "source": [
    "Típicamente vamos a usar el groupby para agrupar los datos según los valores de una\n",
    "o más columnas y lo vamos a combinar con algún método de va a realizar las\n",
    "estadísticas sobre el resto de las columnas si es posible. <br>\n",
    "**El método groupby sólo crea\n",
    "la estructura de datos a la que se le puede aplicar la función de agregación.**"
   ]
  },
  {
   "cell_type": "code",
   "execution_count": 3,
   "id": "181c4676",
   "metadata": {},
   "outputs": [
    {
     "data": {
      "text/html": [
       "<div>\n",
       "<style scoped>\n",
       "    .dataframe tbody tr th:only-of-type {\n",
       "        vertical-align: middle;\n",
       "    }\n",
       "\n",
       "    .dataframe tbody tr th {\n",
       "        vertical-align: top;\n",
       "    }\n",
       "\n",
       "    .dataframe thead th {\n",
       "        text-align: right;\n",
       "    }\n",
       "</style>\n",
       "<table border=\"1\" class=\"dataframe\">\n",
       "  <thead>\n",
       "    <tr style=\"text-align: right;\">\n",
       "      <th></th>\n",
       "      <th>PassengerId</th>\n",
       "      <th>Survived</th>\n",
       "      <th>Pclass</th>\n",
       "      <th>Name</th>\n",
       "      <th>Age</th>\n",
       "      <th>SibSp</th>\n",
       "      <th>Parch</th>\n",
       "      <th>Ticket</th>\n",
       "      <th>Fare</th>\n",
       "      <th>Cabin</th>\n",
       "      <th>Embarked</th>\n",
       "    </tr>\n",
       "    <tr>\n",
       "      <th>Sex</th>\n",
       "      <th></th>\n",
       "      <th></th>\n",
       "      <th></th>\n",
       "      <th></th>\n",
       "      <th></th>\n",
       "      <th></th>\n",
       "      <th></th>\n",
       "      <th></th>\n",
       "      <th></th>\n",
       "      <th></th>\n",
       "      <th></th>\n",
       "    </tr>\n",
       "  </thead>\n",
       "  <tbody>\n",
       "    <tr>\n",
       "      <th>female</th>\n",
       "      <td>314</td>\n",
       "      <td>314</td>\n",
       "      <td>314</td>\n",
       "      <td>314</td>\n",
       "      <td>261</td>\n",
       "      <td>314</td>\n",
       "      <td>314</td>\n",
       "      <td>314</td>\n",
       "      <td>314</td>\n",
       "      <td>97</td>\n",
       "      <td>312</td>\n",
       "    </tr>\n",
       "    <tr>\n",
       "      <th>male</th>\n",
       "      <td>577</td>\n",
       "      <td>577</td>\n",
       "      <td>577</td>\n",
       "      <td>577</td>\n",
       "      <td>453</td>\n",
       "      <td>577</td>\n",
       "      <td>577</td>\n",
       "      <td>577</td>\n",
       "      <td>577</td>\n",
       "      <td>107</td>\n",
       "      <td>577</td>\n",
       "    </tr>\n",
       "  </tbody>\n",
       "</table>\n",
       "</div>"
      ],
      "text/plain": [
       "        PassengerId  Survived  Pclass  Name  ...  Ticket  Fare  Cabin  Embarked\n",
       "Sex                                          ...                               \n",
       "female          314       314     314   314  ...     314   314     97       312\n",
       "male            577       577     577   577  ...     577   577    107       577\n",
       "\n",
       "[2 rows x 11 columns]"
      ]
     },
     "execution_count": 3,
     "metadata": {},
     "output_type": "execute_result"
    }
   ],
   "source": [
    "import pandas as pd\n",
    "data= pd.read_csv(\"../Recursos/titanic.csv\")\n",
    "data.groupby(\"Sex\").count()"
   ]
  },
  {
   "cell_type": "markdown",
   "id": "462651a5",
   "metadata": {},
   "source": [
    "Si la operación a realizar solamente admite números, se aplica a las columnas numéricas exclusivamente. "
   ]
  },
  {
   "cell_type": "code",
   "execution_count": 7,
   "id": "8f3af2e3",
   "metadata": {},
   "outputs": [
    {
     "data": {
      "text/html": [
       "<div>\n",
       "<style scoped>\n",
       "    .dataframe tbody tr th:only-of-type {\n",
       "        vertical-align: middle;\n",
       "    }\n",
       "\n",
       "    .dataframe tbody tr th {\n",
       "        vertical-align: top;\n",
       "    }\n",
       "\n",
       "    .dataframe thead th {\n",
       "        text-align: right;\n",
       "    }\n",
       "</style>\n",
       "<table border=\"1\" class=\"dataframe\">\n",
       "  <thead>\n",
       "    <tr style=\"text-align: right;\">\n",
       "      <th></th>\n",
       "      <th>PassengerId</th>\n",
       "      <th>Survived</th>\n",
       "      <th>Pclass</th>\n",
       "      <th>Age</th>\n",
       "      <th>SibSp</th>\n",
       "      <th>Parch</th>\n",
       "      <th>Fare</th>\n",
       "    </tr>\n",
       "    <tr>\n",
       "      <th>Sex</th>\n",
       "      <th></th>\n",
       "      <th></th>\n",
       "      <th></th>\n",
       "      <th></th>\n",
       "      <th></th>\n",
       "      <th></th>\n",
       "      <th></th>\n",
       "    </tr>\n",
       "  </thead>\n",
       "  <tbody>\n",
       "    <tr>\n",
       "      <th>female</th>\n",
       "      <td>431.028662</td>\n",
       "      <td>0.742038</td>\n",
       "      <td>2.159236</td>\n",
       "      <td>27.915709</td>\n",
       "      <td>0.694268</td>\n",
       "      <td>0.649682</td>\n",
       "      <td>44.479818</td>\n",
       "    </tr>\n",
       "    <tr>\n",
       "      <th>male</th>\n",
       "      <td>454.147314</td>\n",
       "      <td>0.188908</td>\n",
       "      <td>2.389948</td>\n",
       "      <td>30.726645</td>\n",
       "      <td>0.429809</td>\n",
       "      <td>0.235702</td>\n",
       "      <td>25.523893</td>\n",
       "    </tr>\n",
       "  </tbody>\n",
       "</table>\n",
       "</div>"
      ],
      "text/plain": [
       "        PassengerId  Survived    Pclass  ...     SibSp     Parch       Fare\n",
       "Sex                                      ...                               \n",
       "female   431.028662  0.742038  2.159236  ...  0.694268  0.649682  44.479818\n",
       "male     454.147314  0.188908  2.389948  ...  0.429809  0.235702  25.523893\n",
       "\n",
       "[2 rows x 7 columns]"
      ]
     },
     "execution_count": 7,
     "metadata": {},
     "output_type": "execute_result"
    }
   ],
   "source": [
    "data.groupby(\"Sex\").mean()"
   ]
  },
  {
   "cell_type": "markdown",
   "id": "894538d5",
   "metadata": {},
   "source": [
    "Si queremos restringir el resultado a ciertas columnas podemos hacerlo de varias maneras:<br>\n",
    "● Una es seleccionar la columna de interés luego de hacer las operaciones.<br>\n",
    "● Otra es seleccionar las columnas necesarias antes de hacer el groupby (se debe incluir la columna con la que agrupar).<br>\n",
    "● Y la otra opción es seleccionar la columna de interés después de hacer el groupby, pero antes de aplicar la función de agregación.<br>"
   ]
  },
  {
   "cell_type": "code",
   "execution_count": 8,
   "id": "4a451e06",
   "metadata": {},
   "outputs": [
    {
     "data": {
      "text/plain": [
       "Sex\n",
       "female    27.915709\n",
       "male      30.726645\n",
       "Name: Age, dtype: float64"
      ]
     },
     "execution_count": 8,
     "metadata": {},
     "output_type": "execute_result"
    }
   ],
   "source": [
    "data.groupby(\"Sex\").mean()[\"Age\"]"
   ]
  },
  {
   "cell_type": "code",
   "execution_count": 9,
   "id": "ed80b84e",
   "metadata": {},
   "outputs": [
    {
     "data": {
      "text/html": [
       "<div>\n",
       "<style scoped>\n",
       "    .dataframe tbody tr th:only-of-type {\n",
       "        vertical-align: middle;\n",
       "    }\n",
       "\n",
       "    .dataframe tbody tr th {\n",
       "        vertical-align: top;\n",
       "    }\n",
       "\n",
       "    .dataframe thead th {\n",
       "        text-align: right;\n",
       "    }\n",
       "</style>\n",
       "<table border=\"1\" class=\"dataframe\">\n",
       "  <thead>\n",
       "    <tr style=\"text-align: right;\">\n",
       "      <th></th>\n",
       "      <th>Age</th>\n",
       "    </tr>\n",
       "    <tr>\n",
       "      <th>Sex</th>\n",
       "      <th></th>\n",
       "    </tr>\n",
       "  </thead>\n",
       "  <tbody>\n",
       "    <tr>\n",
       "      <th>female</th>\n",
       "      <td>27.915709</td>\n",
       "    </tr>\n",
       "    <tr>\n",
       "      <th>male</th>\n",
       "      <td>30.726645</td>\n",
       "    </tr>\n",
       "  </tbody>\n",
       "</table>\n",
       "</div>"
      ],
      "text/plain": [
       "              Age\n",
       "Sex              \n",
       "female  27.915709\n",
       "male    30.726645"
      ]
     },
     "execution_count": 9,
     "metadata": {},
     "output_type": "execute_result"
    }
   ],
   "source": [
    "data[[\"Sex\",\"Age\"]].groupby(\"Sex\").mean()"
   ]
  },
  {
   "cell_type": "code",
   "execution_count": 10,
   "id": "75b79818",
   "metadata": {},
   "outputs": [
    {
     "data": {
      "text/plain": [
       "Sex\n",
       "female    27.915709\n",
       "male      30.726645\n",
       "Name: Age, dtype: float64"
      ]
     },
     "execution_count": 10,
     "metadata": {},
     "output_type": "execute_result"
    }
   ],
   "source": [
    "data.groupby(\"Sex\")[\"Age\"].mean()"
   ]
  },
  {
   "cell_type": "code",
   "execution_count": 12,
   "id": "fb168daa",
   "metadata": {},
   "outputs": [
    {
     "data": {
      "text/html": [
       "<div>\n",
       "<style scoped>\n",
       "    .dataframe tbody tr th:only-of-type {\n",
       "        vertical-align: middle;\n",
       "    }\n",
       "\n",
       "    .dataframe tbody tr th {\n",
       "        vertical-align: top;\n",
       "    }\n",
       "\n",
       "    .dataframe thead th {\n",
       "        text-align: right;\n",
       "    }\n",
       "</style>\n",
       "<table border=\"1\" class=\"dataframe\">\n",
       "  <thead>\n",
       "    <tr style=\"text-align: right;\">\n",
       "      <th></th>\n",
       "      <th>Age</th>\n",
       "    </tr>\n",
       "    <tr>\n",
       "      <th>Pclass</th>\n",
       "      <th></th>\n",
       "    </tr>\n",
       "  </thead>\n",
       "  <tbody>\n",
       "    <tr>\n",
       "      <th>1</th>\n",
       "      <td>80.0</td>\n",
       "    </tr>\n",
       "    <tr>\n",
       "      <th>2</th>\n",
       "      <td>70.0</td>\n",
       "    </tr>\n",
       "    <tr>\n",
       "      <th>3</th>\n",
       "      <td>74.0</td>\n",
       "    </tr>\n",
       "  </tbody>\n",
       "</table>\n",
       "</div>"
      ],
      "text/plain": [
       "         Age\n",
       "Pclass      \n",
       "1       80.0\n",
       "2       70.0\n",
       "3       74.0"
      ]
     },
     "execution_count": 12,
     "metadata": {},
     "output_type": "execute_result"
    }
   ],
   "source": [
    "#Maximo de la edad en cada clase:\n",
    "data[[\"Pclass\",\"Age\"]].groupby(\"Pclass\").max()"
   ]
  },
  {
   "cell_type": "code",
   "execution_count": 13,
   "id": "870799e6",
   "metadata": {},
   "outputs": [
    {
     "data": {
      "text/plain": [
       "Survived\n",
       "0    549\n",
       "1    342\n",
       "dtype: int64"
      ]
     },
     "execution_count": 13,
     "metadata": {},
     "output_type": "execute_result"
    }
   ],
   "source": [
    "#Cantidad de valores no nulos agrupados por sobrevivencia\n",
    "data.groupby(\"Survived\").size()"
   ]
  },
  {
   "cell_type": "markdown",
   "id": "eed13cdc",
   "metadata": {},
   "source": [
    "En caso de querer realizar **varias operaciones a los mismos grupos se puede utilizar aggregate (o su alias, agg).**"
   ]
  },
  {
   "cell_type": "code",
   "execution_count": 17,
   "id": "9323170c",
   "metadata": {},
   "outputs": [
    {
     "data": {
      "text/html": [
       "<div>\n",
       "<style scoped>\n",
       "    .dataframe tbody tr th:only-of-type {\n",
       "        vertical-align: middle;\n",
       "    }\n",
       "\n",
       "    .dataframe tbody tr th {\n",
       "        vertical-align: top;\n",
       "    }\n",
       "\n",
       "    .dataframe thead tr th {\n",
       "        text-align: left;\n",
       "    }\n",
       "\n",
       "    .dataframe thead tr:last-of-type th {\n",
       "        text-align: right;\n",
       "    }\n",
       "</style>\n",
       "<table border=\"1\" class=\"dataframe\">\n",
       "  <thead>\n",
       "    <tr>\n",
       "      <th></th>\n",
       "      <th colspan=\"4\" halign=\"left\">Age</th>\n",
       "    </tr>\n",
       "    <tr>\n",
       "      <th></th>\n",
       "      <th>max</th>\n",
       "      <th>min</th>\n",
       "      <th>mean</th>\n",
       "      <th>std</th>\n",
       "    </tr>\n",
       "    <tr>\n",
       "      <th>Pclass</th>\n",
       "      <th></th>\n",
       "      <th></th>\n",
       "      <th></th>\n",
       "      <th></th>\n",
       "    </tr>\n",
       "  </thead>\n",
       "  <tbody>\n",
       "    <tr>\n",
       "      <th>1</th>\n",
       "      <td>80.0</td>\n",
       "      <td>0.92</td>\n",
       "      <td>38.233441</td>\n",
       "      <td>14.802856</td>\n",
       "    </tr>\n",
       "    <tr>\n",
       "      <th>2</th>\n",
       "      <td>70.0</td>\n",
       "      <td>0.67</td>\n",
       "      <td>29.877630</td>\n",
       "      <td>14.001077</td>\n",
       "    </tr>\n",
       "    <tr>\n",
       "      <th>3</th>\n",
       "      <td>74.0</td>\n",
       "      <td>0.42</td>\n",
       "      <td>25.140620</td>\n",
       "      <td>12.495398</td>\n",
       "    </tr>\n",
       "  </tbody>\n",
       "</table>\n",
       "</div>"
      ],
      "text/plain": [
       "         Age                            \n",
       "         max   min       mean        std\n",
       "Pclass                                  \n",
       "1       80.0  0.92  38.233441  14.802856\n",
       "2       70.0  0.67  29.877630  14.001077\n",
       "3       74.0  0.42  25.140620  12.495398"
      ]
     },
     "execution_count": 17,
     "metadata": {},
     "output_type": "execute_result"
    }
   ],
   "source": [
    "data[[\"Pclass\",\"Age\"]].groupby(\"Pclass\").agg([\"max\",\"min\",\"mean\",\"std\"])"
   ]
  },
  {
   "cell_type": "markdown",
   "id": "740be6ca",
   "metadata": {},
   "source": [
    "También se puede agrupar por **varias categorías,** haciendo agrupamientos más específicos.<br>\n",
    "Por ejemplo, el promedio de edad discriminando tanto por clase como por sexo. "
   ]
  },
  {
   "cell_type": "code",
   "execution_count": 19,
   "id": "064946c1",
   "metadata": {},
   "outputs": [
    {
     "data": {
      "text/html": [
       "<div>\n",
       "<style scoped>\n",
       "    .dataframe tbody tr th:only-of-type {\n",
       "        vertical-align: middle;\n",
       "    }\n",
       "\n",
       "    .dataframe tbody tr th {\n",
       "        vertical-align: top;\n",
       "    }\n",
       "\n",
       "    .dataframe thead th {\n",
       "        text-align: right;\n",
       "    }\n",
       "</style>\n",
       "<table border=\"1\" class=\"dataframe\">\n",
       "  <thead>\n",
       "    <tr style=\"text-align: right;\">\n",
       "      <th></th>\n",
       "      <th></th>\n",
       "      <th>Age</th>\n",
       "    </tr>\n",
       "    <tr>\n",
       "      <th>Pclass</th>\n",
       "      <th>Sex</th>\n",
       "      <th></th>\n",
       "    </tr>\n",
       "  </thead>\n",
       "  <tbody>\n",
       "    <tr>\n",
       "      <th rowspan=\"2\" valign=\"top\">1</th>\n",
       "      <th>female</th>\n",
       "      <td>34.611765</td>\n",
       "    </tr>\n",
       "    <tr>\n",
       "      <th>male</th>\n",
       "      <td>41.281386</td>\n",
       "    </tr>\n",
       "    <tr>\n",
       "      <th rowspan=\"2\" valign=\"top\">2</th>\n",
       "      <th>female</th>\n",
       "      <td>28.722973</td>\n",
       "    </tr>\n",
       "    <tr>\n",
       "      <th>male</th>\n",
       "      <td>30.740707</td>\n",
       "    </tr>\n",
       "    <tr>\n",
       "      <th rowspan=\"2\" valign=\"top\">3</th>\n",
       "      <th>female</th>\n",
       "      <td>21.750000</td>\n",
       "    </tr>\n",
       "    <tr>\n",
       "      <th>male</th>\n",
       "      <td>26.507589</td>\n",
       "    </tr>\n",
       "  </tbody>\n",
       "</table>\n",
       "</div>"
      ],
      "text/plain": [
       "                     Age\n",
       "Pclass Sex              \n",
       "1      female  34.611765\n",
       "       male    41.281386\n",
       "2      female  28.722973\n",
       "       male    30.740707\n",
       "3      female  21.750000\n",
       "       male    26.507589"
      ]
     },
     "execution_count": 19,
     "metadata": {},
     "output_type": "execute_result"
    }
   ],
   "source": [
    "data[[\"Pclass\",\"Sex\",\"Age\"]].groupby([\"Pclass\",\"Sex\"]).mean()"
   ]
  },
  {
   "cell_type": "code",
   "execution_count": 20,
   "id": "45cc90b4",
   "metadata": {},
   "outputs": [
    {
     "data": {
      "text/html": [
       "<div>\n",
       "<style scoped>\n",
       "    .dataframe tbody tr th:only-of-type {\n",
       "        vertical-align: middle;\n",
       "    }\n",
       "\n",
       "    .dataframe tbody tr th {\n",
       "        vertical-align: top;\n",
       "    }\n",
       "\n",
       "    .dataframe thead th {\n",
       "        text-align: right;\n",
       "    }\n",
       "</style>\n",
       "<table border=\"1\" class=\"dataframe\">\n",
       "  <thead>\n",
       "    <tr style=\"text-align: right;\">\n",
       "      <th></th>\n",
       "      <th></th>\n",
       "      <th>Age</th>\n",
       "    </tr>\n",
       "    <tr>\n",
       "      <th>Sex</th>\n",
       "      <th>Pclass</th>\n",
       "      <th></th>\n",
       "    </tr>\n",
       "  </thead>\n",
       "  <tbody>\n",
       "    <tr>\n",
       "      <th rowspan=\"3\" valign=\"top\">female</th>\n",
       "      <th>1</th>\n",
       "      <td>34.611765</td>\n",
       "    </tr>\n",
       "    <tr>\n",
       "      <th>2</th>\n",
       "      <td>28.722973</td>\n",
       "    </tr>\n",
       "    <tr>\n",
       "      <th>3</th>\n",
       "      <td>21.750000</td>\n",
       "    </tr>\n",
       "    <tr>\n",
       "      <th rowspan=\"3\" valign=\"top\">male</th>\n",
       "      <th>1</th>\n",
       "      <td>41.281386</td>\n",
       "    </tr>\n",
       "    <tr>\n",
       "      <th>2</th>\n",
       "      <td>30.740707</td>\n",
       "    </tr>\n",
       "    <tr>\n",
       "      <th>3</th>\n",
       "      <td>26.507589</td>\n",
       "    </tr>\n",
       "  </tbody>\n",
       "</table>\n",
       "</div>"
      ],
      "text/plain": [
       "                     Age\n",
       "Sex    Pclass           \n",
       "female 1       34.611765\n",
       "       2       28.722973\n",
       "       3       21.750000\n",
       "male   1       41.281386\n",
       "       2       30.740707\n",
       "       3       26.507589"
      ]
     },
     "execution_count": 20,
     "metadata": {},
     "output_type": "execute_result"
    }
   ],
   "source": [
    "data[[\"Pclass\",\"Sex\",\"Age\"]].groupby([\"Sex\",\"Pclass\"]).mean()"
   ]
  },
  {
   "cell_type": "code",
   "execution_count": 21,
   "id": "79fbd81f",
   "metadata": {},
   "outputs": [
    {
     "data": {
      "text/html": [
       "<div>\n",
       "<style scoped>\n",
       "    .dataframe tbody tr th:only-of-type {\n",
       "        vertical-align: middle;\n",
       "    }\n",
       "\n",
       "    .dataframe tbody tr th {\n",
       "        vertical-align: top;\n",
       "    }\n",
       "\n",
       "    .dataframe thead th {\n",
       "        text-align: right;\n",
       "    }\n",
       "</style>\n",
       "<table border=\"1\" class=\"dataframe\">\n",
       "  <thead>\n",
       "    <tr style=\"text-align: right;\">\n",
       "      <th></th>\n",
       "      <th></th>\n",
       "      <th>Survived</th>\n",
       "    </tr>\n",
       "    <tr>\n",
       "      <th>Pclass</th>\n",
       "      <th>Sex</th>\n",
       "      <th></th>\n",
       "    </tr>\n",
       "  </thead>\n",
       "  <tbody>\n",
       "    <tr>\n",
       "      <th rowspan=\"2\" valign=\"top\">1</th>\n",
       "      <th>female</th>\n",
       "      <td>0.968085</td>\n",
       "    </tr>\n",
       "    <tr>\n",
       "      <th>male</th>\n",
       "      <td>0.368852</td>\n",
       "    </tr>\n",
       "    <tr>\n",
       "      <th rowspan=\"2\" valign=\"top\">2</th>\n",
       "      <th>female</th>\n",
       "      <td>0.921053</td>\n",
       "    </tr>\n",
       "    <tr>\n",
       "      <th>male</th>\n",
       "      <td>0.157407</td>\n",
       "    </tr>\n",
       "    <tr>\n",
       "      <th rowspan=\"2\" valign=\"top\">3</th>\n",
       "      <th>female</th>\n",
       "      <td>0.500000</td>\n",
       "    </tr>\n",
       "    <tr>\n",
       "      <th>male</th>\n",
       "      <td>0.135447</td>\n",
       "    </tr>\n",
       "  </tbody>\n",
       "</table>\n",
       "</div>"
      ],
      "text/plain": [
       "               Survived\n",
       "Pclass Sex             \n",
       "1      female  0.968085\n",
       "       male    0.368852\n",
       "2      female  0.921053\n",
       "       male    0.157407\n",
       "3      female  0.500000\n",
       "       male    0.135447"
      ]
     },
     "execution_count": 21,
     "metadata": {},
     "output_type": "execute_result"
    }
   ],
   "source": [
    "# Proporcion de supervivencia por clase y sexo\n",
    "data[[\"Survived\",\"Pclass\",\"Sex\"]].groupby([\"Pclass\",\"Sex\"]).mean()"
   ]
  },
  {
   "cell_type": "markdown",
   "id": "97445816",
   "metadata": {},
   "source": [
    "## Pandas VII"
   ]
  },
  {
   "cell_type": "markdown",
   "id": "b8a6103a",
   "metadata": {},
   "source": [
    "## Gráficos\n",
    "Pandas ofrece muchas facilidades para hacer gráficos de manera sencilla. Se basa en **Matplotlib**, el principal módulo de gráficos de Python.<br>\n",
    "Podemos acceder a las funcionalidades para graficar a través del método plot. Permite acceder a distintos tipos de gráficos de forma sencilla. <br>\n",
    "Por ejemplo, se pueden hacer histogramas con plot.hist(), gráficos de barras con plt.bar, y de torta con plt.pie()."
   ]
  },
  {
   "cell_type": "markdown",
   "id": "5059801f",
   "metadata": {},
   "source": [
    "### Histogramas"
   ]
  },
  {
   "cell_type": "code",
   "execution_count": 23,
   "id": "dcde5a04",
   "metadata": {},
   "outputs": [
    {
     "data": {
      "text/plain": [
       "<AxesSubplot:ylabel='Frequency'>"
      ]
     },
     "execution_count": 23,
     "metadata": {},
     "output_type": "execute_result"
    },
    {
     "data": {
      "image/png": "[encoded data removed]",
      "text/plain": [
       "<Figure size 432x288 with 1 Axes>"
      ]
     },
     "metadata": {
      "needs_background": "light"
     },
     "output_type": "display_data"
    }
   ],
   "source": [
    "import matplotlib as plot\n",
    "data[\"Age\"].plot.hist()"
   ]
  },
  {
   "cell_type": "markdown",
   "id": "d4450fc4",
   "metadata": {},
   "source": [
    "Los métodos vienen con números **parámetros para controlar el aspecto del gráfico.**"
   ]
  },
  {
   "cell_type": "code",
   "execution_count": 24,
   "id": "422b2fbd",
   "metadata": {},
   "outputs": [
    {
     "data": {
      "text/plain": [
       "<AxesSubplot:title={'center':'Distribucion de edades'}, ylabel='Frequency'>"
      ]
     },
     "execution_count": 24,
     "metadata": {},
     "output_type": "execute_result"
    },
    {
     "data": {
      "image/png": "[encoded data removed]",
      "text/plain": [
       "<Figure size 432x288 with 1 Axes>"
      ]
     },
     "metadata": {
      "needs_background": "light"
     },
     "output_type": "display_data"
    }
   ],
   "source": [
    "data[\"Age\"].plot.hist(title=\"Distribucion de edades\", legend=True , color= \"RED\" )"
   ]
  },
  {
   "cell_type": "markdown",
   "id": "7aa8e931",
   "metadata": {},
   "source": [
    "### Gráfico de barras\n",
    "Este tipo de gráficos muestra barras de altura variable. En general, son útiles para mostrar estadísticas tomadas por categorías por medio de **groupby**"
   ]
  },
  {
   "cell_type": "code",
   "execution_count": 28,
   "id": "ff07422b",
   "metadata": {},
   "outputs": [
    {
     "data": {
      "text/plain": [
       "<AxesSubplot:xlabel='Sex'>"
      ]
     },
     "execution_count": 28,
     "metadata": {},
     "output_type": "execute_result"
    },
    {
     "data": {
      "image/png": "[encoded data removed]",
      "text/plain": [
       "<Figure size 432x288 with 1 Axes>"
      ]
     },
     "metadata": {
      "needs_background": "light"
     },
     "output_type": "display_data"
    }
   ],
   "source": [
    "data.groupby(\"Sex\").size().plot.bar()"
   ]
  },
  {
   "cell_type": "code",
   "execution_count": 30,
   "id": "dba09739",
   "metadata": {},
   "outputs": [
    {
     "data": {
      "text/plain": [
       "<AxesSubplot:xlabel='Sex'>"
      ]
     },
     "execution_count": 30,
     "metadata": {},
     "output_type": "execute_result"
    },
    {
     "data": {
      "image/png": "[encoded data removed]",
      "text/plain": [
       "<Figure size 432x288 with 1 Axes>"
      ]
     },
     "metadata": {
      "needs_background": "light"
     },
     "output_type": "display_data"
    }
   ],
   "source": [
    "data.groupby(\"Sex\")[\"Survived\"].sum().plot.bar()"
   ]
  },
  {
   "cell_type": "markdown",
   "id": "c62b0697",
   "metadata": {},
   "source": [
    "### Gráfico de torta\n",
    "Otra forma de representar este tipo de información es el gráfico de tortas, donde el área de la cuña es proporcional al número que representa."
   ]
  },
  {
   "cell_type": "code",
   "execution_count": 31,
   "id": "f754ea13",
   "metadata": {},
   "outputs": [
    {
     "data": {
      "text/plain": [
       "<AxesSubplot:title={'center':'Proporcion de hombres y mujeres'}, ylabel='None'>"
      ]
     },
     "execution_count": 31,
     "metadata": {},
     "output_type": "execute_result"
    },
    {
     "data": {
      "image/png": "[encoded data removed]",
      "text/plain": [
       "<Figure size 432x288 with 1 Axes>"
      ]
     },
     "metadata": {},
     "output_type": "display_data"
    }
   ],
   "source": [
    "data.groupby(\"Sex\").size().plot.pie(title=\"Proporcion de hombres y mujeres\")"
   ]
  },
  {
   "cell_type": "code",
   "execution_count": 32,
   "id": "3fc89c3d",
   "metadata": {},
   "outputs": [
    {
     "data": {
      "text/plain": [
       "<AxesSubplot:title={'center':'Proporcion de hombres y mujeres sobrevivientes'}, ylabel='Survived'>"
      ]
     },
     "execution_count": 32,
     "metadata": {},
     "output_type": "execute_result"
    },
    {
     "data": {
      "image/png": "[encoded data removed]",
      "text/plain": [
       "<Figure size 432x288 with 1 Axes>"
      ]
     },
     "metadata": {},
     "output_type": "display_data"
    }
   ],
   "source": [
    "data.groupby(\"Sex\")[\"Survived\"].sum().plot.pie(title=\"Proporcion de hombres y mujeres sobrevivientes\")"
   ]
  },
  {
   "cell_type": "markdown",
   "id": "4fa4d1fa",
   "metadata": {},
   "source": [
    "### Gráfico de líneas\n",
    "Si los datos están ordenados se puede usar plot para representarlos sobre una línea en donde el eje x es el índice de la serie y el eje y es el valor.<br>\n",
    "Si este método se aplica sobre un dataframe, las columnas numéricas se muestran en el mismo gráfico compartiendo el eje x. A continuación creamos un dataset para practicar. "
   ]
  },
  {
   "cell_type": "code",
   "execution_count": 41,
   "id": "e346d858",
   "metadata": {},
   "outputs": [
    {
     "data": {
      "text/plain": [
       "array([[-3.02114286e-01,  7.19840212e-01, -3.32644688e-01,\n",
       "         2.91431025e-01],\n",
       "       [-1.97825062e+00,  1.98437384e+00,  8.15736449e-01,\n",
       "         5.79846204e-01],\n",
       "       [-1.38457347e+00,  2.52655836e+00,  2.31609032e-02,\n",
       "         1.23167447e+00],\n",
       "       ...,\n",
       "       [-3.87831401e+01,  2.03009770e+00,  8.00848112e+00,\n",
       "         5.85667551e+01],\n",
       "       [-3.87232807e+01,  1.43361269e+00,  7.08346963e+00,\n",
       "         5.78081120e+01],\n",
       "       [-3.90887608e+01,  8.21383270e-01,  7.07853210e+00,\n",
       "         5.86283687e+01]])"
      ]
     },
     "execution_count": 41,
     "metadata": {},
     "output_type": "execute_result"
    }
   ],
   "source": [
    "import numpy as np\n",
    "arr = np.random.randn(1000,4).cumsum(axis=0)\n",
    "arr"
   ]
  },
  {
   "cell_type": "code",
   "execution_count": 40,
   "id": "7b065d43",
   "metadata": {},
   "outputs": [
    {
     "data": {
      "text/html": [
       "<div>\n",
       "<style scoped>\n",
       "    .dataframe tbody tr th:only-of-type {\n",
       "        vertical-align: middle;\n",
       "    }\n",
       "\n",
       "    .dataframe tbody tr th {\n",
       "        vertical-align: top;\n",
       "    }\n",
       "\n",
       "    .dataframe thead th {\n",
       "        text-align: right;\n",
       "    }\n",
       "</style>\n",
       "<table border=\"1\" class=\"dataframe\">\n",
       "  <thead>\n",
       "    <tr style=\"text-align: right;\">\n",
       "      <th></th>\n",
       "      <th>A</th>\n",
       "      <th>B</th>\n",
       "      <th>C</th>\n",
       "      <th>D</th>\n",
       "    </tr>\n",
       "  </thead>\n",
       "  <tbody>\n",
       "    <tr>\n",
       "      <th>0</th>\n",
       "      <td>-1.359505</td>\n",
       "      <td>0.760911</td>\n",
       "      <td>0.275346</td>\n",
       "      <td>0.290402</td>\n",
       "    </tr>\n",
       "    <tr>\n",
       "      <th>1</th>\n",
       "      <td>-1.909639</td>\n",
       "      <td>-0.213308</td>\n",
       "      <td>1.668832</td>\n",
       "      <td>2.029063</td>\n",
       "    </tr>\n",
       "    <tr>\n",
       "      <th>2</th>\n",
       "      <td>-1.181666</td>\n",
       "      <td>-0.230138</td>\n",
       "      <td>0.912308</td>\n",
       "      <td>2.203908</td>\n",
       "    </tr>\n",
       "    <tr>\n",
       "      <th>3</th>\n",
       "      <td>0.287347</td>\n",
       "      <td>-1.116065</td>\n",
       "      <td>0.479176</td>\n",
       "      <td>0.874648</td>\n",
       "    </tr>\n",
       "    <tr>\n",
       "      <th>4</th>\n",
       "      <td>-0.786910</td>\n",
       "      <td>-2.091876</td>\n",
       "      <td>-0.218885</td>\n",
       "      <td>-0.592047</td>\n",
       "    </tr>\n",
       "    <tr>\n",
       "      <th>...</th>\n",
       "      <td>...</td>\n",
       "      <td>...</td>\n",
       "      <td>...</td>\n",
       "      <td>...</td>\n",
       "    </tr>\n",
       "    <tr>\n",
       "      <th>995</th>\n",
       "      <td>19.294013</td>\n",
       "      <td>-4.562464</td>\n",
       "      <td>31.382968</td>\n",
       "      <td>-4.264485</td>\n",
       "    </tr>\n",
       "    <tr>\n",
       "      <th>996</th>\n",
       "      <td>18.773629</td>\n",
       "      <td>-4.522468</td>\n",
       "      <td>30.753048</td>\n",
       "      <td>-4.811250</td>\n",
       "    </tr>\n",
       "    <tr>\n",
       "      <th>997</th>\n",
       "      <td>18.218077</td>\n",
       "      <td>-6.401042</td>\n",
       "      <td>30.721612</td>\n",
       "      <td>-4.312191</td>\n",
       "    </tr>\n",
       "    <tr>\n",
       "      <th>998</th>\n",
       "      <td>17.916950</td>\n",
       "      <td>-6.841192</td>\n",
       "      <td>31.920076</td>\n",
       "      <td>-5.835275</td>\n",
       "    </tr>\n",
       "    <tr>\n",
       "      <th>999</th>\n",
       "      <td>17.425418</td>\n",
       "      <td>-6.357821</td>\n",
       "      <td>34.205370</td>\n",
       "      <td>-5.121712</td>\n",
       "    </tr>\n",
       "  </tbody>\n",
       "</table>\n",
       "<p>1000 rows × 4 columns</p>\n",
       "</div>"
      ],
      "text/plain": [
       "             A         B          C         D\n",
       "0    -1.359505  0.760911   0.275346  0.290402\n",
       "1    -1.909639 -0.213308   1.668832  2.029063\n",
       "2    -1.181666 -0.230138   0.912308  2.203908\n",
       "3     0.287347 -1.116065   0.479176  0.874648\n",
       "4    -0.786910 -2.091876  -0.218885 -0.592047\n",
       "..         ...       ...        ...       ...\n",
       "995  19.294013 -4.562464  31.382968 -4.264485\n",
       "996  18.773629 -4.522468  30.753048 -4.811250\n",
       "997  18.218077 -6.401042  30.721612 -4.312191\n",
       "998  17.916950 -6.841192  31.920076 -5.835275\n",
       "999  17.425418 -6.357821  34.205370 -5.121712\n",
       "\n",
       "[1000 rows x 4 columns]"
      ]
     },
     "execution_count": 40,
     "metadata": {},
     "output_type": "execute_result"
    }
   ],
   "source": [
    "df = pd.DataFrame(arr, columns=[\"A\",\"B\",\"C\",\"D\"])\n",
    "df"
   ]
  },
  {
   "cell_type": "code",
   "execution_count": 42,
   "id": "77a04206",
   "metadata": {},
   "outputs": [
    {
     "data": {
      "text/plain": [
       "<AxesSubplot:>"
      ]
     },
     "execution_count": 42,
     "metadata": {},
     "output_type": "execute_result"
    },
    {
     "data": {
      "image/png": "[encoded data removed]",
      "text/plain": [
       "<Figure size 432x288 with 1 Axes>"
      ]
     },
     "metadata": {
      "needs_background": "light"
     },
     "output_type": "display_data"
    }
   ],
   "source": [
    "df[\"A\"].plot()"
   ]
  },
  {
   "cell_type": "code",
   "execution_count": 43,
   "id": "9350970d",
   "metadata": {},
   "outputs": [
    {
     "data": {
      "text/plain": [
       "<AxesSubplot:>"
      ]
     },
     "execution_count": 43,
     "metadata": {},
     "output_type": "execute_result"
    },
    {
     "data": {
      "image/png": "[encoded data removed]",
      "text/plain": [
       "<Figure size 432x288 with 1 Axes>"
      ]
     },
     "metadata": {
      "needs_background": "light"
     },
     "output_type": "display_data"
    }
   ],
   "source": [
    "df.plot()"
   ]
  },
  {
   "cell_type": "markdown",
   "id": "ec415ded",
   "metadata": {},
   "source": [
    "## Pandas VIII"
   ]
  },
  {
   "cell_type": "markdown",
   "id": "aeed99b9",
   "metadata": {},
   "source": [
    "## Missing values\n",
    "Tener un dataset con missing values es un caso muy común a la hora de trabajar con datos. Puede suceder que algunos datos se hayan perdido, por lo que no estén disponibles, o que no se hayan recolectado correctamente. Incluso puede suceder que la información jamás haya existido.\n",
    "**Existen varias técnicas a la hora de trabajar con missing values y pandas ofrece funcionalidades para manipularlos.**"
   ]
  },
  {
   "cell_type": "markdown",
   "id": "8f399829",
   "metadata": {},
   "source": [
    "**Para representar missing values pandas usa principalmente el valor np.nan (NaN: Not a Number).** Este es un valor especial dentro de los números flotantes.<br>\n",
    "Otro valor especial dentro de los números flotantes es np.inf (que se usa para representar el infinito, no missing values).<br>\n",
    "El otro valor que se usa para representar missing values es **None**, que es un tipo de dato de Python con un único valor. <br>"
   ]
  },
  {
   "cell_type": "code",
   "execution_count": 45,
   "id": "3c454766",
   "metadata": {},
   "outputs": [
    {
     "data": {
      "text/plain": [
       "float"
      ]
     },
     "execution_count": 45,
     "metadata": {},
     "output_type": "execute_result"
    }
   ],
   "source": [
    "type(np.nan)"
   ]
  },
  {
   "cell_type": "code",
   "execution_count": 46,
   "id": "d212c279",
   "metadata": {},
   "outputs": [
    {
     "data": {
      "text/plain": [
       "float"
      ]
     },
     "execution_count": 46,
     "metadata": {},
     "output_type": "execute_result"
    }
   ],
   "source": [
    "type(np.inf)"
   ]
  },
  {
   "cell_type": "code",
   "execution_count": 47,
   "id": "fb54af81",
   "metadata": {},
   "outputs": [
    {
     "data": {
      "text/plain": [
       "NoneType"
      ]
     },
     "execution_count": 47,
     "metadata": {},
     "output_type": "execute_result"
    }
   ],
   "source": [
    "type(None)"
   ]
  },
  {
   "cell_type": "markdown",
   "id": "f984bbdf",
   "metadata": {},
   "source": [
    "Como np.nan es un flotante, cuando se encuentra en una columna de enteros, toda la columna es promovida al tipo de dato flotante.<br>\n",
    "**A la hora de hacer cálculos entre NaN y otros valores, el resultado siempre se promueve a NaN.** <br>\n",
    "Sin embargo, algunos métodos permiten controlar cómo se trata los missing values. Los métodos\n",
    "asociados a los operadores permite definir un valor a reemplazar para NaN antes de realizar la operación. <br>\n",
    "A su vez, **las funciones de agregación también permiten controlar cómo se trata NaN.**\n",
    "Por defecto son ignorados, pero se puede controlar con el parámetro **skipna.**"
   ]
  },
  {
   "cell_type": "code",
   "execution_count": 50,
   "id": "94bda7a2",
   "metadata": {},
   "outputs": [
    {
     "data": {
      "text/html": [
       "<div>\n",
       "<style scoped>\n",
       "    .dataframe tbody tr th:only-of-type {\n",
       "        vertical-align: middle;\n",
       "    }\n",
       "\n",
       "    .dataframe tbody tr th {\n",
       "        vertical-align: top;\n",
       "    }\n",
       "\n",
       "    .dataframe thead th {\n",
       "        text-align: right;\n",
       "    }\n",
       "</style>\n",
       "<table border=\"1\" class=\"dataframe\">\n",
       "  <thead>\n",
       "    <tr style=\"text-align: right;\">\n",
       "      <th></th>\n",
       "      <th>A</th>\n",
       "      <th>B</th>\n",
       "      <th>C</th>\n",
       "      <th>D</th>\n",
       "      <th>E</th>\n",
       "    </tr>\n",
       "  </thead>\n",
       "  <tbody>\n",
       "    <tr>\n",
       "      <th>0</th>\n",
       "      <td>1</td>\n",
       "      <td>3</td>\n",
       "      <td>5.0</td>\n",
       "      <td>4</td>\n",
       "      <td>2</td>\n",
       "    </tr>\n",
       "    <tr>\n",
       "      <th>1</th>\n",
       "      <td>8</td>\n",
       "      <td>2</td>\n",
       "      <td>NaN</td>\n",
       "      <td>1</td>\n",
       "      <td>5</td>\n",
       "    </tr>\n",
       "  </tbody>\n",
       "</table>\n",
       "</div>"
      ],
      "text/plain": [
       "   A  B    C  D  E\n",
       "0  1  3  5.0  4  2\n",
       "1  8  2  NaN  1  5"
      ]
     },
     "execution_count": 50,
     "metadata": {},
     "output_type": "execute_result"
    }
   ],
   "source": [
    "df= pd.DataFrame([[1,3,5,4,2],[8,2,np.nan, 1,5]], columns=[\"A\",\"B\",\"C\",\"D\",\"E\"])\n",
    "df"
   ]
  },
  {
   "cell_type": "code",
   "execution_count": 51,
   "id": "d2880e80",
   "metadata": {},
   "outputs": [
    {
     "data": {
      "text/plain": [
       "0    6.0\n",
       "1    NaN\n",
       "dtype: float64"
      ]
     },
     "execution_count": 51,
     "metadata": {},
     "output_type": "execute_result"
    }
   ],
   "source": [
    "df[\"A\"] + df[\"C\"]"
   ]
  },
  {
   "cell_type": "code",
   "execution_count": 52,
   "id": "e8dc9548",
   "metadata": {},
   "outputs": [
    {
     "data": {
      "text/plain": [
       "0    6.0\n",
       "1    8.0\n",
       "dtype: float64"
      ]
     },
     "execution_count": 52,
     "metadata": {},
     "output_type": "execute_result"
    }
   ],
   "source": [
    "df[\"A\"].add(df[\"C\"],fill_value=0 )"
   ]
  },
  {
   "cell_type": "code",
   "execution_count": 53,
   "id": "47b1ffdd",
   "metadata": {},
   "outputs": [
    {
     "data": {
      "text/plain": [
       "A    4.5\n",
       "B    2.5\n",
       "C    5.0\n",
       "D    2.5\n",
       "E    3.5\n",
       "dtype: float64"
      ]
     },
     "execution_count": 53,
     "metadata": {},
     "output_type": "execute_result"
    }
   ],
   "source": [
    "#Las funciones de agregacion tambien permiten controlar como tratar a los Nan:\n",
    "df.mean()"
   ]
  },
  {
   "cell_type": "code",
   "execution_count": 54,
   "id": "436fb9d2",
   "metadata": {},
   "outputs": [
    {
     "data": {
      "text/plain": [
       "A    4.5\n",
       "B    2.5\n",
       "C    NaN\n",
       "D    2.5\n",
       "E    3.5\n",
       "dtype: float64"
      ]
     },
     "execution_count": 54,
     "metadata": {},
     "output_type": "execute_result"
    }
   ],
   "source": [
    "df.mean(skipna=False)"
   ]
  },
  {
   "cell_type": "markdown",
   "id": "ccc4407c",
   "metadata": {},
   "source": [
    "### isna\n",
    "Para detectar missing values está el método isna (o su alias, **isnull**).\n",
    "Este método **mapea los datos del dataframe o serie a booleanos**. Sólo mapea np.nan y\n",
    "None a True y cualquier otro valor a False. <br>\n",
    "Alternativamente, está el método **notna (y su alias, notnull) para hacer el mapeo inverso.**"
   ]
  },
  {
   "cell_type": "code",
   "execution_count": 55,
   "id": "2f91d6c6",
   "metadata": {},
   "outputs": [
    {
     "data": {
      "text/html": [
       "<div>\n",
       "<style scoped>\n",
       "    .dataframe tbody tr th:only-of-type {\n",
       "        vertical-align: middle;\n",
       "    }\n",
       "\n",
       "    .dataframe tbody tr th {\n",
       "        vertical-align: top;\n",
       "    }\n",
       "\n",
       "    .dataframe thead th {\n",
       "        text-align: right;\n",
       "    }\n",
       "</style>\n",
       "<table border=\"1\" class=\"dataframe\">\n",
       "  <thead>\n",
       "    <tr style=\"text-align: right;\">\n",
       "      <th></th>\n",
       "      <th>A</th>\n",
       "      <th>B</th>\n",
       "      <th>C</th>\n",
       "      <th>D</th>\n",
       "      <th>E</th>\n",
       "    </tr>\n",
       "  </thead>\n",
       "  <tbody>\n",
       "    <tr>\n",
       "      <th>0</th>\n",
       "      <td>False</td>\n",
       "      <td>False</td>\n",
       "      <td>False</td>\n",
       "      <td>False</td>\n",
       "      <td>False</td>\n",
       "    </tr>\n",
       "    <tr>\n",
       "      <th>1</th>\n",
       "      <td>False</td>\n",
       "      <td>False</td>\n",
       "      <td>True</td>\n",
       "      <td>False</td>\n",
       "      <td>False</td>\n",
       "    </tr>\n",
       "  </tbody>\n",
       "</table>\n",
       "</div>"
      ],
      "text/plain": [
       "       A      B      C      D      E\n",
       "0  False  False  False  False  False\n",
       "1  False  False   True  False  False"
      ]
     },
     "execution_count": 55,
     "metadata": {},
     "output_type": "execute_result"
    }
   ],
   "source": [
    "df.isna()"
   ]
  },
  {
   "cell_type": "code",
   "execution_count": 56,
   "id": "f069764b",
   "metadata": {},
   "outputs": [
    {
     "data": {
      "text/html": [
       "<div>\n",
       "<style scoped>\n",
       "    .dataframe tbody tr th:only-of-type {\n",
       "        vertical-align: middle;\n",
       "    }\n",
       "\n",
       "    .dataframe tbody tr th {\n",
       "        vertical-align: top;\n",
       "    }\n",
       "\n",
       "    .dataframe thead th {\n",
       "        text-align: right;\n",
       "    }\n",
       "</style>\n",
       "<table border=\"1\" class=\"dataframe\">\n",
       "  <thead>\n",
       "    <tr style=\"text-align: right;\">\n",
       "      <th></th>\n",
       "      <th>A</th>\n",
       "      <th>B</th>\n",
       "      <th>C</th>\n",
       "      <th>D</th>\n",
       "      <th>E</th>\n",
       "    </tr>\n",
       "  </thead>\n",
       "  <tbody>\n",
       "    <tr>\n",
       "      <th>0</th>\n",
       "      <td>True</td>\n",
       "      <td>True</td>\n",
       "      <td>True</td>\n",
       "      <td>True</td>\n",
       "      <td>True</td>\n",
       "    </tr>\n",
       "    <tr>\n",
       "      <th>1</th>\n",
       "      <td>True</td>\n",
       "      <td>True</td>\n",
       "      <td>False</td>\n",
       "      <td>True</td>\n",
       "      <td>True</td>\n",
       "    </tr>\n",
       "  </tbody>\n",
       "</table>\n",
       "</div>"
      ],
      "text/plain": [
       "      A     B      C     D     E\n",
       "0  True  True   True  True  True\n",
       "1  True  True  False  True  True"
      ]
     },
     "execution_count": 56,
     "metadata": {},
     "output_type": "execute_result"
    }
   ],
   "source": [
    "df.notna()"
   ]
  },
  {
   "cell_type": "code",
   "execution_count": 57,
   "id": "f9837bba",
   "metadata": {},
   "outputs": [
    {
     "data": {
      "text/plain": [
       "PassengerId      0\n",
       "Survived         0\n",
       "Pclass           0\n",
       "Name             0\n",
       "Sex              0\n",
       "Age            177\n",
       "SibSp            0\n",
       "Parch            0\n",
       "Ticket           0\n",
       "Fare             0\n",
       "Cabin          687\n",
       "Embarked         2\n",
       "dtype: int64"
      ]
     },
     "execution_count": 57,
     "metadata": {},
     "output_type": "execute_result"
    }
   ],
   "source": [
    "#Cantidad de null por columna en el dataset de Titanic:\n",
    "data.isna().sum()"
   ]
  },
  {
   "cell_type": "code",
   "execution_count": 58,
   "id": "f3644236",
   "metadata": {},
   "outputs": [
    {
     "data": {
      "text/plain": [
       "PassengerId    False\n",
       "Survived       False\n",
       "Pclass         False\n",
       "Name           False\n",
       "Sex            False\n",
       "Age             True\n",
       "SibSp          False\n",
       "Parch          False\n",
       "Ticket         False\n",
       "Fare           False\n",
       "Cabin           True\n",
       "Embarked        True\n",
       "dtype: bool"
      ]
     },
     "execution_count": 58,
     "metadata": {},
     "output_type": "execute_result"
    }
   ],
   "source": [
    "#Saber las columnas que presentan Nan\n",
    "data.isna().any()"
   ]
  },
  {
   "cell_type": "markdown",
   "id": "b9852644",
   "metadata": {},
   "source": [
    "### dropna\n",
    "Una forma de tratar los NaN es simplemente **descartarlos.**<br>\n",
    "El método dropna elimina las filas que contengan al menos un NaN. Se puede limitar las columnas a considerar con el parámetro **subset**  o eliminar las filas con\n",
    "todas las columnas NaN con how."
   ]
  },
  {
   "cell_type": "code",
   "execution_count": 59,
   "id": "66e214c3",
   "metadata": {},
   "outputs": [
    {
     "name": "stdout",
     "output_type": "stream",
     "text": [
      "<class 'pandas.core.frame.DataFrame'>\n",
      "Int64Index: 183 entries, 1 to 889\n",
      "Data columns (total 12 columns):\n",
      " #   Column       Non-Null Count  Dtype  \n",
      "---  ------       --------------  -----  \n",
      " 0   PassengerId  183 non-null    int64  \n",
      " 1   Survived     183 non-null    int64  \n",
      " 2   Pclass       183 non-null    int64  \n",
      " 3   Name         183 non-null    object \n",
      " 4   Sex          183 non-null    object \n",
      " 5   Age          183 non-null    float64\n",
      " 6   SibSp        183 non-null    int64  \n",
      " 7   Parch        183 non-null    int64  \n",
      " 8   Ticket       183 non-null    object \n",
      " 9   Fare         183 non-null    float64\n",
      " 10  Cabin        183 non-null    object \n",
      " 11  Embarked     183 non-null    object \n",
      "dtypes: float64(2), int64(5), object(5)\n",
      "memory usage: 18.6+ KB\n"
     ]
    }
   ],
   "source": [
    "data.dropna().info()"
   ]
  },
  {
   "cell_type": "markdown",
   "id": "c0983536",
   "metadata": {},
   "source": [
    "### fillna\n",
    "Para no perder tanta información, también es posible **reemplazar los NaN por un valor\n",
    "que consideremos apropiado con el método fillna.**<br>\n",
    "Por ejemplo, reemplazar los NaN en la columna Age por el promedio de edad. "
   ]
  },
  {
   "cell_type": "code",
   "execution_count": 60,
   "id": "1835d721",
   "metadata": {},
   "outputs": [
    {
     "data": {
      "text/plain": [
       "0      22.000000\n",
       "1      38.000000\n",
       "2      26.000000\n",
       "3      35.000000\n",
       "4      35.000000\n",
       "         ...    \n",
       "886    27.000000\n",
       "887    19.000000\n",
       "888    29.699118\n",
       "889    26.000000\n",
       "890    32.000000\n",
       "Name: Age, Length: 891, dtype: float64"
      ]
     },
     "execution_count": 60,
     "metadata": {},
     "output_type": "execute_result"
    }
   ],
   "source": [
    "data[\"Age\"].fillna(data[\"Age\"].mean())"
   ]
  },
  {
   "cell_type": "markdown",
   "id": "c27049eb",
   "metadata": {},
   "source": [
    "### interpolate\n",
    "Cuando tenemos datos ordenados (por ejemplo una serie de tiempo) se pueden interpolar los datos faltantes con el método interpolate. "
   ]
  },
  {
   "cell_type": "code",
   "execution_count": 61,
   "id": "ac12e298",
   "metadata": {},
   "outputs": [
    {
     "data": {
      "text/plain": [
       "<AxesSubplot:>"
      ]
     },
     "execution_count": 61,
     "metadata": {},
     "output_type": "execute_result"
    },
    {
     "data": {
      "image/png": "[encoded data removed]",
      "text/plain": [
       "<Figure size 432x288 with 1 Axes>"
      ]
     },
     "metadata": {
      "needs_background": "light"
     },
     "output_type": "display_data"
    }
   ],
   "source": [
    "s = pd.Series([1,3,4,np.nan,7,9,11,np.nan,17])\n",
    "s.plot()"
   ]
  },
  {
   "cell_type": "code",
   "execution_count": 63,
   "id": "373e2b7c",
   "metadata": {},
   "outputs": [
    {
     "data": {
      "text/plain": [
       "<AxesSubplot:>"
      ]
     },
     "execution_count": 63,
     "metadata": {},
     "output_type": "execute_result"
    },
    {
     "data": {
      "image/png": "[encoded data removed]",
      "text/plain": [
       "<Figure size 432x288 with 1 Axes>"
      ]
     },
     "metadata": {
      "needs_background": "light"
     },
     "output_type": "display_data"
    }
   ],
   "source": [
    "# Por defecto hace una interpolación lineal, pero se pueden especificar otros métodos.\n",
    "s.interpolate().plot()"
   ]
  },
  {
   "cell_type": "code",
   "execution_count": 65,
   "id": "7972eb9b",
   "metadata": {},
   "outputs": [
    {
     "data": {
      "text/plain": [
       "<AxesSubplot:>"
      ]
     },
     "execution_count": 65,
     "metadata": {},
     "output_type": "execute_result"
    },
    {
     "data": {
      "image/png": "[encoded data removed]",
      "text/plain": [
       "<Figure size 432x288 with 1 Axes>"
      ]
     },
     "metadata": {
      "needs_background": "light"
     },
     "output_type": "display_data"
    }
   ],
   "source": [
    "s.interpolate(method=\"quadratic\").plot()"
   ]
  },
  {
   "cell_type": "markdown",
   "id": "a4fdf51a",
   "metadata": {},
   "source": [
    "## Pandas IX"
   ]
  },
  {
   "cell_type": "markdown",
   "id": "a7635577",
   "metadata": {},
   "source": [
    "### Strings\n",
    "Existen numerosos métodos para trabajar con strings en objetos tipo Series e Index (no aplica a Dataframes). <br>\n",
    "En general, tienen el mismo nombre que los métodos de python para strings y están agrupados en el **atributo str**. Así es posible hacer operaciones sobre todos los elementos de la estructura con un único comando.<br>\n",
    "Por ejemplo, para cambiar entre mayúsculas y minúsculas existen **lower, upper, title y swapcase.** "
   ]
  },
  {
   "cell_type": "code",
   "execution_count": 67,
   "id": "052966d5",
   "metadata": {},
   "outputs": [
    {
     "data": {
      "text/plain": [
       "0                                braund, mr. owen harris\n",
       "1      cumings, mrs. john bradley (florence briggs th...\n",
       "2                                 heikkinen, miss. laina\n",
       "3           futrelle, mrs. jacques heath (lily may peel)\n",
       "4                               allen, mr. william henry\n",
       "                             ...                        \n",
       "886                                montvila, rev. juozas\n",
       "887                         graham, miss. margaret edith\n",
       "888             johnston, miss. catherine helen \"carrie\"\n",
       "889                                behr, mr. karl howell\n",
       "890                                  dooley, mr. patrick\n",
       "Name: Name, Length: 891, dtype: object"
      ]
     },
     "execution_count": 67,
     "metadata": {},
     "output_type": "execute_result"
    }
   ],
   "source": [
    "data[\"Name\"].str.lower()"
   ]
  },
  {
   "cell_type": "code",
   "execution_count": 68,
   "id": "30174671",
   "metadata": {},
   "outputs": [
    {
     "data": {
      "text/plain": [
       "0                                BRAUND, MR. OWEN HARRIS\n",
       "1      CUMINGS, MRS. JOHN BRADLEY (FLORENCE BRIGGS TH...\n",
       "2                                 HEIKKINEN, MISS. LAINA\n",
       "3           FUTRELLE, MRS. JACQUES HEATH (LILY MAY PEEL)\n",
       "4                               ALLEN, MR. WILLIAM HENRY\n",
       "                             ...                        \n",
       "886                                MONTVILA, REV. JUOZAS\n",
       "887                         GRAHAM, MISS. MARGARET EDITH\n",
       "888             JOHNSTON, MISS. CATHERINE HELEN \"CARRIE\"\n",
       "889                                BEHR, MR. KARL HOWELL\n",
       "890                                  DOOLEY, MR. PATRICK\n",
       "Name: Name, Length: 891, dtype: object"
      ]
     },
     "execution_count": 68,
     "metadata": {},
     "output_type": "execute_result"
    }
   ],
   "source": [
    "data[\"Name\"].str.upper()"
   ]
  },
  {
   "cell_type": "markdown",
   "id": "2a53d709",
   "metadata": {},
   "source": [
    "El método split permite **separar los strings en partes.** Por defecto, usa el\n",
    "espacio en blanco como separador, pero **podemos definir cualquier carácter o substring para usar como separador.** Para cada elemento devuelve una lista con los strings que fueron separados."
   ]
  },
  {
   "cell_type": "code",
   "execution_count": 69,
   "id": "274b1b67",
   "metadata": {},
   "outputs": [
    {
     "data": {
      "text/plain": [
       "0                           [Braund,, Mr., Owen, Harris]\n",
       "1      [Cumings,, Mrs., John, Bradley, (Florence, Bri...\n",
       "2                             [Heikkinen,, Miss., Laina]\n",
       "3      [Futrelle,, Mrs., Jacques, Heath, (Lily, May, ...\n",
       "4                          [Allen,, Mr., William, Henry]\n",
       "                             ...                        \n",
       "886                            [Montvila,, Rev., Juozas]\n",
       "887                    [Graham,, Miss., Margaret, Edith]\n",
       "888       [Johnston,, Miss., Catherine, Helen, \"Carrie\"]\n",
       "889                           [Behr,, Mr., Karl, Howell]\n",
       "890                              [Dooley,, Mr., Patrick]\n",
       "Name: Name, Length: 891, dtype: object"
      ]
     },
     "execution_count": 69,
     "metadata": {},
     "output_type": "execute_result"
    }
   ],
   "source": [
    "data[\"Name\"]"
   ]
  },
  {
   "cell_type": "markdown",
   "id": "462022fb",
   "metadata": {},
   "source": [
    "**El método count cuenta cuantas veces aparece un substring en cada elemento.**"
   ]
  },
  {
   "cell_type": "code",
   "execution_count": 70,
   "id": "30eef190",
   "metadata": {},
   "outputs": [
    {
     "data": {
      "text/plain": [
       "0      1\n",
       "1      1\n",
       "2      0\n",
       "3      1\n",
       "4      1\n",
       "      ..\n",
       "886    0\n",
       "887    0\n",
       "888    0\n",
       "889    1\n",
       "890    1\n",
       "Name: Name, Length: 891, dtype: int64"
      ]
     },
     "execution_count": 70,
     "metadata": {},
     "output_type": "execute_result"
    }
   ],
   "source": [
    "data[\"Name\"].str.count(\"Mr.\")"
   ]
  },
  {
   "cell_type": "markdown",
   "id": "02d8c705",
   "metadata": {},
   "source": [
    "**El método contains devuelve True o False según cada string contenga o no cierto substring.**"
   ]
  },
  {
   "cell_type": "code",
   "execution_count": 71,
   "id": "188a5b0b",
   "metadata": {},
   "outputs": [
    {
     "data": {
      "text/plain": [
       "0       True\n",
       "1       True\n",
       "2      False\n",
       "3       True\n",
       "4       True\n",
       "       ...  \n",
       "886    False\n",
       "887    False\n",
       "888    False\n",
       "889     True\n",
       "890     True\n",
       "Name: Name, Length: 891, dtype: bool"
      ]
     },
     "execution_count": 71,
     "metadata": {},
     "output_type": "execute_result"
    }
   ],
   "source": [
    "data[\"Name\"].str.contains(\"Mr.\")"
   ]
  },
  {
   "cell_type": "markdown",
   "id": "a7350631",
   "metadata": {},
   "source": [
    "**Los métodos startswith y endswith permiten saber si cada string empieza o termina con cierto prefijo o sufijo.**"
   ]
  },
  {
   "cell_type": "code",
   "execution_count": 73,
   "id": "ca27ced0",
   "metadata": {},
   "outputs": [
    {
     "data": {
      "text/plain": [
       "1"
      ]
     },
     "execution_count": 73,
     "metadata": {},
     "output_type": "execute_result"
    }
   ],
   "source": [
    "#Cuantos nombres empiezan con \"Anderson\"\n",
    "data[\"Name\"].str.startswith(\"Anderson\").sum()"
   ]
  },
  {
   "cell_type": "code",
   "execution_count": 74,
   "id": "d3c97d7e",
   "metadata": {},
   "outputs": [
    {
     "data": {
      "text/plain": [
       "False"
      ]
     },
     "execution_count": 74,
     "metadata": {},
     "output_type": "execute_result"
    }
   ],
   "source": [
    "# Existe alguno que empiece con \"Perez\"?\n",
    "data[\"Name\"].str.startswith(\"Perez\").any()"
   ]
  },
  {
   "cell_type": "markdown",
   "id": "9fafe279",
   "metadata": {},
   "source": [
    "**El método len calcula la cantidad de caracteres de cada string, como si estuviéramos aplicando la función len a cada uno.**"
   ]
  },
  {
   "cell_type": "code",
   "execution_count": 75,
   "id": "762a209b",
   "metadata": {},
   "outputs": [
    {
     "data": {
      "text/plain": [
       "0      23\n",
       "1      51\n",
       "2      22\n",
       "3      44\n",
       "4      24\n",
       "       ..\n",
       "886    21\n",
       "887    28\n",
       "888    40\n",
       "889    21\n",
       "890    19\n",
       "Name: Name, Length: 891, dtype: int64"
      ]
     },
     "execution_count": 75,
     "metadata": {},
     "output_type": "execute_result"
    }
   ],
   "source": [
    "data[\"Name\"].str.len()"
   ]
  },
  {
   "cell_type": "markdown",
   "id": "44c06144",
   "metadata": {},
   "source": [
    "También ha varios métodos para comprobar si los strings están compuestos por cierto tipo de caracteres.\n",
    "- Los métodos isdigit, isnumeric e isdecimal permiten chequear que sean caracteres numéricos;\n",
    "- isalpha que sean letras; \n",
    "- isalnum que sean letras o números;\n",
    "- islower, isupper e istitle que cumplan con el formato."
   ]
  },
  {
   "cell_type": "markdown",
   "id": "0a626c42",
   "metadata": {},
   "source": [
    "El atributo str también permite hacer indexación y slices sobre los strings usando corchetes.<br>\n",
    "En caso de indexar una posición mayor a la longitud del string se devuelve NaN."
   ]
  },
  {
   "cell_type": "code",
   "execution_count": 76,
   "id": "c4322de1",
   "metadata": {},
   "outputs": [
    {
     "data": {
      "text/plain": [
       "0      Bra\n",
       "1      Cum\n",
       "2      Hei\n",
       "3      Fut\n",
       "4      All\n",
       "      ... \n",
       "886    Mon\n",
       "887    Gra\n",
       "888    Joh\n",
       "889    Beh\n",
       "890    Doo\n",
       "Name: Name, Length: 891, dtype: object"
      ]
     },
     "execution_count": 76,
     "metadata": {},
     "output_type": "execute_result"
    }
   ],
   "source": [
    "data[\"Name\"].str[0:3]"
   ]
  },
  {
   "cell_type": "code",
   "execution_count": 77,
   "id": "054527a5",
   "metadata": {},
   "outputs": [
    {
     "data": {
      "text/plain": [
       "0      NaN\n",
       "1        g\n",
       "2      NaN\n",
       "3        e\n",
       "4      NaN\n",
       "      ... \n",
       "886    NaN\n",
       "887    NaN\n",
       "888    NaN\n",
       "889    NaN\n",
       "890    NaN\n",
       "Name: Name, Length: 891, dtype: object"
      ]
     },
     "execution_count": 77,
     "metadata": {},
     "output_type": "execute_result"
    }
   ],
   "source": [
    "data[\"Name\"].str[40]"
   ]
  },
  {
   "cell_type": "markdown",
   "id": "2a93042f",
   "metadata": {},
   "source": [
    "## Pandas X"
   ]
  },
  {
   "cell_type": "markdown",
   "id": "a7c7e960",
   "metadata": {},
   "source": [
    "### Fechas\n",
    "Para representar fechas y horas se utiliza un tipo de dato especial: **datetime64.** Y para representar intervalos de tiempo su usa **timedelta64**. Son tipos de datos que incorporan características y operaciones propias de trabajar y medir tiempos. <br>\n",
    "<br>\n",
    "Usualmente cuando leemos un archivo las fechas se representan como strings. Para convertirlo a\n",
    "datetime64 se usa la función pd.to_datetime, que permite controlar el formato con el que se va a leer la información, que puede venir de diferentes formas: yyyy-mm-dd, dd/mm/yy, Month dd, yyyy, etc.<br>"
   ]
  },
  {
   "cell_type": "markdown",
   "id": "84e08762",
   "metadata": {},
   "source": [
    "Para esta sección vamos a usar de ejemplo el archivo GoldPrice.csv.\n",
    "Este archivo contiene casi 10 años de registros en el precio del oro. La primera columna tiene strings que representan las fechas en el formato \"Sep 11, 2020\". Podemos convertir la columna al tipo de dato datetime con **pd.to_datetime.**"
   ]
  },
  {
   "cell_type": "code",
   "execution_count": 81,
   "id": "222a4b47",
   "metadata": {},
   "outputs": [
    {
     "data": {
      "text/html": [
       "<div>\n",
       "<style scoped>\n",
       "    .dataframe tbody tr th:only-of-type {\n",
       "        vertical-align: middle;\n",
       "    }\n",
       "\n",
       "    .dataframe tbody tr th {\n",
       "        vertical-align: top;\n",
       "    }\n",
       "\n",
       "    .dataframe thead th {\n",
       "        text-align: right;\n",
       "    }\n",
       "</style>\n",
       "<table border=\"1\" class=\"dataframe\">\n",
       "  <thead>\n",
       "    <tr style=\"text-align: right;\">\n",
       "      <th></th>\n",
       "      <th>Date</th>\n",
       "      <th>Price</th>\n",
       "      <th>Open</th>\n",
       "      <th>High</th>\n",
       "      <th>Low</th>\n",
       "    </tr>\n",
       "  </thead>\n",
       "  <tbody>\n",
       "    <tr>\n",
       "      <th>0</th>\n",
       "      <td>Aug 01, 2018</td>\n",
       "      <td>1216.6</td>\n",
       "      <td>1223.4</td>\n",
       "      <td>1223.4</td>\n",
       "      <td>1216.2</td>\n",
       "    </tr>\n",
       "    <tr>\n",
       "      <th>1</th>\n",
       "      <td>Jul 31, 2018</td>\n",
       "      <td>1223.7</td>\n",
       "      <td>1220.4</td>\n",
       "      <td>1228.1</td>\n",
       "      <td>1213.0</td>\n",
       "    </tr>\n",
       "    <tr>\n",
       "      <th>2</th>\n",
       "      <td>Jul 30, 2018</td>\n",
       "      <td>1221.3</td>\n",
       "      <td>1222.5</td>\n",
       "      <td>1223.9</td>\n",
       "      <td>1218.1</td>\n",
       "    </tr>\n",
       "    <tr>\n",
       "      <th>3</th>\n",
       "      <td>Jul 27, 2018</td>\n",
       "      <td>1222.2</td>\n",
       "      <td>1223.5</td>\n",
       "      <td>1226.8</td>\n",
       "      <td>1216.7</td>\n",
       "    </tr>\n",
       "    <tr>\n",
       "      <th>4</th>\n",
       "      <td>Jul 26, 2018</td>\n",
       "      <td>1225.3</td>\n",
       "      <td>1227.8</td>\n",
       "      <td>1227.8</td>\n",
       "      <td>1227.8</td>\n",
       "    </tr>\n",
       "  </tbody>\n",
       "</table>\n",
       "</div>"
      ],
      "text/plain": [
       "           Date   Price    Open    High     Low\n",
       "0  Aug 01, 2018  1216.6  1223.4  1223.4  1216.2\n",
       "1  Jul 31, 2018  1223.7  1220.4  1228.1  1213.0\n",
       "2  Jul 30, 2018  1221.3  1222.5  1223.9  1218.1\n",
       "3  Jul 27, 2018  1222.2  1223.5  1226.8  1216.7\n",
       "4  Jul 26, 2018  1225.3  1227.8  1227.8  1227.8"
      ]
     },
     "execution_count": 81,
     "metadata": {},
     "output_type": "execute_result"
    }
   ],
   "source": [
    "gold= pd.read_csv(\"../Recursos/GoldPrice.csv\")\n",
    "gold.head()"
   ]
  },
  {
   "cell_type": "code",
   "execution_count": 80,
   "id": "b7580a43",
   "metadata": {},
   "outputs": [
    {
     "data": {
      "text/plain": [
       "Date      object\n",
       "Price    float64\n",
       "Open     float64\n",
       "High     float64\n",
       "Low      float64\n",
       "dtype: object"
      ]
     },
     "execution_count": 80,
     "metadata": {},
     "output_type": "execute_result"
    }
   ],
   "source": [
    "gold.dtypes"
   ]
  },
  {
   "cell_type": "code",
   "execution_count": 83,
   "id": "588209bd",
   "metadata": {},
   "outputs": [
    {
     "data": {
      "text/html": [
       "<div>\n",
       "<style scoped>\n",
       "    .dataframe tbody tr th:only-of-type {\n",
       "        vertical-align: middle;\n",
       "    }\n",
       "\n",
       "    .dataframe tbody tr th {\n",
       "        vertical-align: top;\n",
       "    }\n",
       "\n",
       "    .dataframe thead th {\n",
       "        text-align: right;\n",
       "    }\n",
       "</style>\n",
       "<table border=\"1\" class=\"dataframe\">\n",
       "  <thead>\n",
       "    <tr style=\"text-align: right;\">\n",
       "      <th></th>\n",
       "      <th>Date</th>\n",
       "      <th>Price</th>\n",
       "      <th>Open</th>\n",
       "      <th>High</th>\n",
       "      <th>Low</th>\n",
       "    </tr>\n",
       "  </thead>\n",
       "  <tbody>\n",
       "    <tr>\n",
       "      <th>0</th>\n",
       "      <td>2018-08-01</td>\n",
       "      <td>1216.6</td>\n",
       "      <td>1223.4</td>\n",
       "      <td>1223.4</td>\n",
       "      <td>1216.2</td>\n",
       "    </tr>\n",
       "    <tr>\n",
       "      <th>1</th>\n",
       "      <td>2018-07-31</td>\n",
       "      <td>1223.7</td>\n",
       "      <td>1220.4</td>\n",
       "      <td>1228.1</td>\n",
       "      <td>1213.0</td>\n",
       "    </tr>\n",
       "    <tr>\n",
       "      <th>2</th>\n",
       "      <td>2018-07-30</td>\n",
       "      <td>1221.3</td>\n",
       "      <td>1222.5</td>\n",
       "      <td>1223.9</td>\n",
       "      <td>1218.1</td>\n",
       "    </tr>\n",
       "    <tr>\n",
       "      <th>3</th>\n",
       "      <td>2018-07-27</td>\n",
       "      <td>1222.2</td>\n",
       "      <td>1223.5</td>\n",
       "      <td>1226.8</td>\n",
       "      <td>1216.7</td>\n",
       "    </tr>\n",
       "    <tr>\n",
       "      <th>4</th>\n",
       "      <td>2018-07-26</td>\n",
       "      <td>1225.3</td>\n",
       "      <td>1227.8</td>\n",
       "      <td>1227.8</td>\n",
       "      <td>1227.8</td>\n",
       "    </tr>\n",
       "  </tbody>\n",
       "</table>\n",
       "</div>"
      ],
      "text/plain": [
       "        Date   Price    Open    High     Low\n",
       "0 2018-08-01  1216.6  1223.4  1223.4  1216.2\n",
       "1 2018-07-31  1223.7  1220.4  1228.1  1213.0\n",
       "2 2018-07-30  1221.3  1222.5  1223.9  1218.1\n",
       "3 2018-07-27  1222.2  1223.5  1226.8  1216.7\n",
       "4 2018-07-26  1225.3  1227.8  1227.8  1227.8"
      ]
     },
     "execution_count": 83,
     "metadata": {},
     "output_type": "execute_result"
    }
   ],
   "source": [
    "gold[\"Date\"]=pd.to_datetime(gold[\"Date\"])\n",
    "gold.head()"
   ]
  },
  {
   "cell_type": "code",
   "execution_count": 84,
   "id": "44142d2e",
   "metadata": {},
   "outputs": [
    {
     "data": {
      "text/plain": [
       "Date     datetime64[ns]\n",
       "Price           float64\n",
       "Open            float64\n",
       "High            float64\n",
       "Low             float64\n",
       "dtype: object"
      ]
     },
     "execution_count": 84,
     "metadata": {},
     "output_type": "execute_result"
    }
   ],
   "source": [
    "gold.dtypes"
   ]
  },
  {
   "cell_type": "markdown",
   "id": "d34cd66d",
   "metadata": {},
   "source": [
    "### Fechas\n",
    "Los objetos de tipo datetime tienen varios **atributos, como year, month, day, hour, etc**. Para acceder a los atributos y métodos\n",
    "propios del tipo de dato datetime se utiliza el **atributo dt.**"
   ]
  },
  {
   "cell_type": "code",
   "execution_count": 85,
   "id": "076ffc08",
   "metadata": {},
   "outputs": [
    {
     "data": {
      "text/plain": [
       "0       2018\n",
       "1       2018\n",
       "2       2018\n",
       "3       2018\n",
       "4       2018\n",
       "        ... \n",
       "9766    1980\n",
       "9767    1980\n",
       "9768    1979\n",
       "9769    1979\n",
       "9770    1979\n",
       "Name: Date, Length: 9771, dtype: int64"
      ]
     },
     "execution_count": 85,
     "metadata": {},
     "output_type": "execute_result"
    }
   ],
   "source": [
    "gold[\"Date\"].dt.year"
   ]
  },
  {
   "cell_type": "code",
   "execution_count": 86,
   "id": "b20bb062",
   "metadata": {},
   "outputs": [
    {
     "data": {
      "text/plain": [
       "0        8\n",
       "1        7\n",
       "2        7\n",
       "3        7\n",
       "4        7\n",
       "        ..\n",
       "9766     1\n",
       "9767     1\n",
       "9768    12\n",
       "9769    12\n",
       "9770    12\n",
       "Name: Date, Length: 9771, dtype: int64"
      ]
     },
     "execution_count": 86,
     "metadata": {},
     "output_type": "execute_result"
    }
   ],
   "source": [
    "gold[\"Date\"].dt.month"
   ]
  },
  {
   "cell_type": "code",
   "execution_count": 87,
   "id": "6eb180d6",
   "metadata": {},
   "outputs": [
    {
     "data": {
      "text/plain": [
       "0        1\n",
       "1       31\n",
       "2       30\n",
       "3       27\n",
       "4       26\n",
       "        ..\n",
       "9766     3\n",
       "9767     2\n",
       "9768    31\n",
       "9769    28\n",
       "9770    27\n",
       "Name: Date, Length: 9771, dtype: int64"
      ]
     },
     "execution_count": 87,
     "metadata": {},
     "output_type": "execute_result"
    }
   ],
   "source": [
    "gold[\"Date\"].dt.day"
   ]
  },
  {
   "cell_type": "markdown",
   "id": "574087ff",
   "metadata": {},
   "source": [
    "Podemos encontrar l**a fecha más antigua con min y la más reciente con max.**<br>\n",
    "La **resta de fechas da una instancia de Timedelta**, que representa intervalos de tiempo. No se puede sumar dos fechas, pero sí se puede sumar un Datetime con un Timedelta. "
   ]
  },
  {
   "cell_type": "code",
   "execution_count": 88,
   "id": "cefbe5b7",
   "metadata": {},
   "outputs": [
    {
     "data": {
      "text/plain": [
       "Timestamp('1979-12-27 00:00:00')"
      ]
     },
     "execution_count": 88,
     "metadata": {},
     "output_type": "execute_result"
    }
   ],
   "source": [
    "gold[\"Date\"].min()"
   ]
  },
  {
   "cell_type": "code",
   "execution_count": 89,
   "id": "fb6a5ae9",
   "metadata": {},
   "outputs": [
    {
     "data": {
      "text/plain": [
       "Timestamp('2018-08-01 00:00:00')"
      ]
     },
     "execution_count": 89,
     "metadata": {},
     "output_type": "execute_result"
    }
   ],
   "source": [
    "gold[\"Date\"].max()"
   ]
  },
  {
   "cell_type": "code",
   "execution_count": 90,
   "id": "74eb4a03",
   "metadata": {},
   "outputs": [
    {
     "data": {
      "text/plain": [
       "Timedelta('14097 days 00:00:00')"
      ]
     },
     "execution_count": 90,
     "metadata": {},
     "output_type": "execute_result"
    }
   ],
   "source": [
    "gold[\"Date\"].max() - gold[\"Date\"].min()"
   ]
  },
  {
   "cell_type": "markdown",
   "id": "afbe27c7",
   "metadata": {},
   "source": [
    "Cuando tenemos datos relacionados a fechas, podemos utilizar la serie de tiempo como índice. Esto le da mucha funcionalidad ya que podemos seleccionar datos refiriéndonos a las fechas. <br>\n",
    "Para utilizar la columna de fechas como índice podemos usar **set_index.** En este caso pandas crea un tipo de dato especial, el **DatetimeIndex.** Como sólo se trata de fechas podemos acceder a los métodos directamente, sin pasar por el atributo dt. <br>\n",
    "Ahora podemos seleccionar los datos según criterios temporales, como todos los datos de un año o de todos los lunes, usando indexing y filtros."
   ]
  },
  {
   "cell_type": "code",
   "execution_count": 91,
   "id": "c958e8ca",
   "metadata": {},
   "outputs": [
    {
     "data": {
      "text/html": [
       "<div>\n",
       "<style scoped>\n",
       "    .dataframe tbody tr th:only-of-type {\n",
       "        vertical-align: middle;\n",
       "    }\n",
       "\n",
       "    .dataframe tbody tr th {\n",
       "        vertical-align: top;\n",
       "    }\n",
       "\n",
       "    .dataframe thead th {\n",
       "        text-align: right;\n",
       "    }\n",
       "</style>\n",
       "<table border=\"1\" class=\"dataframe\">\n",
       "  <thead>\n",
       "    <tr style=\"text-align: right;\">\n",
       "      <th></th>\n",
       "      <th>Date</th>\n",
       "      <th>Price</th>\n",
       "      <th>Open</th>\n",
       "      <th>High</th>\n",
       "      <th>Low</th>\n",
       "    </tr>\n",
       "  </thead>\n",
       "  <tbody>\n",
       "    <tr>\n",
       "      <th>0</th>\n",
       "      <td>2018-08-01</td>\n",
       "      <td>1216.6</td>\n",
       "      <td>1223.40</td>\n",
       "      <td>1223.4</td>\n",
       "      <td>1216.20</td>\n",
       "    </tr>\n",
       "    <tr>\n",
       "      <th>1</th>\n",
       "      <td>2018-07-31</td>\n",
       "      <td>1223.7</td>\n",
       "      <td>1220.40</td>\n",
       "      <td>1228.1</td>\n",
       "      <td>1213.00</td>\n",
       "    </tr>\n",
       "    <tr>\n",
       "      <th>2</th>\n",
       "      <td>2018-07-30</td>\n",
       "      <td>1221.3</td>\n",
       "      <td>1222.50</td>\n",
       "      <td>1223.9</td>\n",
       "      <td>1218.10</td>\n",
       "    </tr>\n",
       "    <tr>\n",
       "      <th>3</th>\n",
       "      <td>2018-07-27</td>\n",
       "      <td>1222.2</td>\n",
       "      <td>1223.50</td>\n",
       "      <td>1226.8</td>\n",
       "      <td>1216.70</td>\n",
       "    </tr>\n",
       "    <tr>\n",
       "      <th>4</th>\n",
       "      <td>2018-07-26</td>\n",
       "      <td>1225.3</td>\n",
       "      <td>1227.80</td>\n",
       "      <td>1227.8</td>\n",
       "      <td>1227.80</td>\n",
       "    </tr>\n",
       "    <tr>\n",
       "      <th>...</th>\n",
       "      <td>...</td>\n",
       "      <td>...</td>\n",
       "      <td>...</td>\n",
       "      <td>...</td>\n",
       "      <td>...</td>\n",
       "    </tr>\n",
       "    <tr>\n",
       "      <th>9766</th>\n",
       "      <td>1980-01-03</td>\n",
       "      <td>625.0</td>\n",
       "      <td>627.00</td>\n",
       "      <td>640.0</td>\n",
       "      <td>603.00</td>\n",
       "    </tr>\n",
       "    <tr>\n",
       "      <th>9767</th>\n",
       "      <td>1980-01-02</td>\n",
       "      <td>575.5</td>\n",
       "      <td>562.50</td>\n",
       "      <td>577.0</td>\n",
       "      <td>558.00</td>\n",
       "    </tr>\n",
       "    <tr>\n",
       "      <th>9768</th>\n",
       "      <td>1979-12-31</td>\n",
       "      <td>533.6</td>\n",
       "      <td>527.88</td>\n",
       "      <td>534.5</td>\n",
       "      <td>527.88</td>\n",
       "    </tr>\n",
       "    <tr>\n",
       "      <th>9769</th>\n",
       "      <td>1979-12-28</td>\n",
       "      <td>517.8</td>\n",
       "      <td>516.00</td>\n",
       "      <td>517.8</td>\n",
       "      <td>510.40</td>\n",
       "    </tr>\n",
       "    <tr>\n",
       "      <th>9770</th>\n",
       "      <td>1979-12-27</td>\n",
       "      <td>515.5</td>\n",
       "      <td>517.00</td>\n",
       "      <td>517.0</td>\n",
       "      <td>513.00</td>\n",
       "    </tr>\n",
       "  </tbody>\n",
       "</table>\n",
       "<p>9771 rows × 5 columns</p>\n",
       "</div>"
      ],
      "text/plain": [
       "           Date   Price     Open    High      Low\n",
       "0    2018-08-01  1216.6  1223.40  1223.4  1216.20\n",
       "1    2018-07-31  1223.7  1220.40  1228.1  1213.00\n",
       "2    2018-07-30  1221.3  1222.50  1223.9  1218.10\n",
       "3    2018-07-27  1222.2  1223.50  1226.8  1216.70\n",
       "4    2018-07-26  1225.3  1227.80  1227.8  1227.80\n",
       "...         ...     ...      ...     ...      ...\n",
       "9766 1980-01-03   625.0   627.00   640.0   603.00\n",
       "9767 1980-01-02   575.5   562.50   577.0   558.00\n",
       "9768 1979-12-31   533.6   527.88   534.5   527.88\n",
       "9769 1979-12-28   517.8   516.00   517.8   510.40\n",
       "9770 1979-12-27   515.5   517.00   517.0   513.00\n",
       "\n",
       "[9771 rows x 5 columns]"
      ]
     },
     "execution_count": 91,
     "metadata": {},
     "output_type": "execute_result"
    }
   ],
   "source": [
    "gold"
   ]
  },
  {
   "cell_type": "code",
   "execution_count": 94,
   "id": "d26e785d",
   "metadata": {},
   "outputs": [
    {
     "ename": "KeyError",
     "evalue": "\"None of ['Date'] are in the columns\"",
     "output_type": "error",
     "traceback": [
      "\u001b[0;31m---------------------------------------------------------------------------\u001b[0m",
      "\u001b[0;31mKeyError\u001b[0m                                  Traceback (most recent call last)",
      "\u001b[0;32m/var/folders/dg/6_r7rq7x6kz1nd7cvm_j9wvr0000gn/T/ipykernel_16902/1886442244.py\u001b[0m in \u001b[0;36m<module>\u001b[0;34m\u001b[0m\n\u001b[0;32m----> 1\u001b[0;31m \u001b[0mgold\u001b[0m\u001b[0;34m.\u001b[0m\u001b[0mset_index\u001b[0m\u001b[0;34m(\u001b[0m\u001b[0;34m\"Date\"\u001b[0m\u001b[0;34m,\u001b[0m \u001b[0minplace\u001b[0m\u001b[0;34m=\u001b[0m\u001b[0;32mTrue\u001b[0m\u001b[0;34m)\u001b[0m\u001b[0;34m\u001b[0m\u001b[0;34m\u001b[0m\u001b[0m\n\u001b[0m",
      "\u001b[0;32m/opt/anaconda3/lib/python3.8/site-packages/pandas/util/_decorators.py\u001b[0m in \u001b[0;36mwrapper\u001b[0;34m(*args, **kwargs)\u001b[0m\n\u001b[1;32m    309\u001b[0m                     \u001b[0mstacklevel\u001b[0m\u001b[0;34m=\u001b[0m\u001b[0mstacklevel\u001b[0m\u001b[0;34m,\u001b[0m\u001b[0;34m\u001b[0m\u001b[0;34m\u001b[0m\u001b[0m\n\u001b[1;32m    310\u001b[0m                 )\n\u001b[0;32m--> 311\u001b[0;31m             \u001b[0;32mreturn\u001b[0m \u001b[0mfunc\u001b[0m\u001b[0;34m(\u001b[0m\u001b[0;34m*\u001b[0m\u001b[0margs\u001b[0m\u001b[0;34m,\u001b[0m \u001b[0;34m**\u001b[0m\u001b[0mkwargs\u001b[0m\u001b[0;34m)\u001b[0m\u001b[0;34m\u001b[0m\u001b[0;34m\u001b[0m\u001b[0m\n\u001b[0m\u001b[1;32m    312\u001b[0m \u001b[0;34m\u001b[0m\u001b[0m\n\u001b[1;32m    313\u001b[0m         \u001b[0;32mreturn\u001b[0m \u001b[0mwrapper\u001b[0m\u001b[0;34m\u001b[0m\u001b[0;34m\u001b[0m\u001b[0m\n",
      "\u001b[0;32m/opt/anaconda3/lib/python3.8/site-packages/pandas/core/frame.py\u001b[0m in \u001b[0;36mset_index\u001b[0;34m(self, keys, drop, append, inplace, verify_integrity)\u001b[0m\n\u001b[1;32m   5449\u001b[0m \u001b[0;34m\u001b[0m\u001b[0m\n\u001b[1;32m   5450\u001b[0m         \u001b[0;32mif\u001b[0m \u001b[0mmissing\u001b[0m\u001b[0;34m:\u001b[0m\u001b[0;34m\u001b[0m\u001b[0;34m\u001b[0m\u001b[0m\n\u001b[0;32m-> 5451\u001b[0;31m             \u001b[0;32mraise\u001b[0m \u001b[0mKeyError\u001b[0m\u001b[0;34m(\u001b[0m\u001b[0;34mf\"None of {missing} are in the columns\"\u001b[0m\u001b[0;34m)\u001b[0m\u001b[0;34m\u001b[0m\u001b[0;34m\u001b[0m\u001b[0m\n\u001b[0m\u001b[1;32m   5452\u001b[0m \u001b[0;34m\u001b[0m\u001b[0m\n\u001b[1;32m   5453\u001b[0m         \u001b[0;32mif\u001b[0m \u001b[0minplace\u001b[0m\u001b[0;34m:\u001b[0m\u001b[0;34m\u001b[0m\u001b[0;34m\u001b[0m\u001b[0m\n",
      "\u001b[0;31mKeyError\u001b[0m: \"None of ['Date'] are in the columns\""
     ]
    }
   ],
   "source": [
    "gold.set_index(\"Date\", inplace=True)\n"
   ]
  },
  {
   "cell_type": "code",
   "execution_count": 95,
   "id": "6eefcc92",
   "metadata": {},
   "outputs": [
    {
     "data": {
      "text/html": [
       "<div>\n",
       "<style scoped>\n",
       "    .dataframe tbody tr th:only-of-type {\n",
       "        vertical-align: middle;\n",
       "    }\n",
       "\n",
       "    .dataframe tbody tr th {\n",
       "        vertical-align: top;\n",
       "    }\n",
       "\n",
       "    .dataframe thead th {\n",
       "        text-align: right;\n",
       "    }\n",
       "</style>\n",
       "<table border=\"1\" class=\"dataframe\">\n",
       "  <thead>\n",
       "    <tr style=\"text-align: right;\">\n",
       "      <th></th>\n",
       "      <th>Price</th>\n",
       "      <th>Open</th>\n",
       "      <th>High</th>\n",
       "      <th>Low</th>\n",
       "    </tr>\n",
       "    <tr>\n",
       "      <th>Date</th>\n",
       "      <th></th>\n",
       "      <th></th>\n",
       "      <th></th>\n",
       "      <th></th>\n",
       "    </tr>\n",
       "  </thead>\n",
       "  <tbody>\n",
       "    <tr>\n",
       "      <th>2018-08-01</th>\n",
       "      <td>1216.6</td>\n",
       "      <td>1223.40</td>\n",
       "      <td>1223.4</td>\n",
       "      <td>1216.20</td>\n",
       "    </tr>\n",
       "    <tr>\n",
       "      <th>2018-07-31</th>\n",
       "      <td>1223.7</td>\n",
       "      <td>1220.40</td>\n",
       "      <td>1228.1</td>\n",
       "      <td>1213.00</td>\n",
       "    </tr>\n",
       "    <tr>\n",
       "      <th>2018-07-30</th>\n",
       "      <td>1221.3</td>\n",
       "      <td>1222.50</td>\n",
       "      <td>1223.9</td>\n",
       "      <td>1218.10</td>\n",
       "    </tr>\n",
       "    <tr>\n",
       "      <th>2018-07-27</th>\n",
       "      <td>1222.2</td>\n",
       "      <td>1223.50</td>\n",
       "      <td>1226.8</td>\n",
       "      <td>1216.70</td>\n",
       "    </tr>\n",
       "    <tr>\n",
       "      <th>2018-07-26</th>\n",
       "      <td>1225.3</td>\n",
       "      <td>1227.80</td>\n",
       "      <td>1227.8</td>\n",
       "      <td>1227.80</td>\n",
       "    </tr>\n",
       "    <tr>\n",
       "      <th>...</th>\n",
       "      <td>...</td>\n",
       "      <td>...</td>\n",
       "      <td>...</td>\n",
       "      <td>...</td>\n",
       "    </tr>\n",
       "    <tr>\n",
       "      <th>1980-01-03</th>\n",
       "      <td>625.0</td>\n",
       "      <td>627.00</td>\n",
       "      <td>640.0</td>\n",
       "      <td>603.00</td>\n",
       "    </tr>\n",
       "    <tr>\n",
       "      <th>1980-01-02</th>\n",
       "      <td>575.5</td>\n",
       "      <td>562.50</td>\n",
       "      <td>577.0</td>\n",
       "      <td>558.00</td>\n",
       "    </tr>\n",
       "    <tr>\n",
       "      <th>1979-12-31</th>\n",
       "      <td>533.6</td>\n",
       "      <td>527.88</td>\n",
       "      <td>534.5</td>\n",
       "      <td>527.88</td>\n",
       "    </tr>\n",
       "    <tr>\n",
       "      <th>1979-12-28</th>\n",
       "      <td>517.8</td>\n",
       "      <td>516.00</td>\n",
       "      <td>517.8</td>\n",
       "      <td>510.40</td>\n",
       "    </tr>\n",
       "    <tr>\n",
       "      <th>1979-12-27</th>\n",
       "      <td>515.5</td>\n",
       "      <td>517.00</td>\n",
       "      <td>517.0</td>\n",
       "      <td>513.00</td>\n",
       "    </tr>\n",
       "  </tbody>\n",
       "</table>\n",
       "<p>9771 rows × 4 columns</p>\n",
       "</div>"
      ],
      "text/plain": [
       "             Price     Open    High      Low\n",
       "Date                                        \n",
       "2018-08-01  1216.6  1223.40  1223.4  1216.20\n",
       "2018-07-31  1223.7  1220.40  1228.1  1213.00\n",
       "2018-07-30  1221.3  1222.50  1223.9  1218.10\n",
       "2018-07-27  1222.2  1223.50  1226.8  1216.70\n",
       "2018-07-26  1225.3  1227.80  1227.8  1227.80\n",
       "...            ...      ...     ...      ...\n",
       "1980-01-03   625.0   627.00   640.0   603.00\n",
       "1980-01-02   575.5   562.50   577.0   558.00\n",
       "1979-12-31   533.6   527.88   534.5   527.88\n",
       "1979-12-28   517.8   516.00   517.8   510.40\n",
       "1979-12-27   515.5   517.00   517.0   513.00\n",
       "\n",
       "[9771 rows x 4 columns]"
      ]
     },
     "execution_count": 95,
     "metadata": {},
     "output_type": "execute_result"
    }
   ],
   "source": [
    "gold"
   ]
  },
  {
   "cell_type": "code",
   "execution_count": 96,
   "id": "e0c30c79",
   "metadata": {},
   "outputs": [
    {
     "data": {
      "text/plain": [
       "DatetimeIndex(['2018-08-01', '2018-07-31', '2018-07-30', '2018-07-27',\n",
       "               '2018-07-26', '2018-07-25', '2018-07-24', '2018-07-23',\n",
       "               '2018-07-20', '2018-07-19',\n",
       "               ...\n",
       "               '1980-01-10', '1980-01-09', '1980-01-08', '1980-01-07',\n",
       "               '1980-01-04', '1980-01-03', '1980-01-02', '1979-12-31',\n",
       "               '1979-12-28', '1979-12-27'],\n",
       "              dtype='datetime64[ns]', name='Date', length=9771, freq=None)"
      ]
     },
     "execution_count": 96,
     "metadata": {},
     "output_type": "execute_result"
    }
   ],
   "source": [
    "gold.index"
   ]
  },
  {
   "cell_type": "code",
   "execution_count": 97,
   "id": "4276d7fd",
   "metadata": {},
   "outputs": [
    {
     "name": "stderr",
     "output_type": "stream",
     "text": [
      "/var/folders/dg/6_r7rq7x6kz1nd7cvm_j9wvr0000gn/T/ipykernel_16902/3546037688.py:1: FutureWarning: Indexing a DataFrame with a datetimelike index using a single string to slice the rows, like `frame[string]`, is deprecated and will be removed in a future version. Use `frame.loc[string]` instead.\n",
      "  gold[\"2016\"]\n"
     ]
    },
    {
     "data": {
      "text/html": [
       "<div>\n",
       "<style scoped>\n",
       "    .dataframe tbody tr th:only-of-type {\n",
       "        vertical-align: middle;\n",
       "    }\n",
       "\n",
       "    .dataframe tbody tr th {\n",
       "        vertical-align: top;\n",
       "    }\n",
       "\n",
       "    .dataframe thead th {\n",
       "        text-align: right;\n",
       "    }\n",
       "</style>\n",
       "<table border=\"1\" class=\"dataframe\">\n",
       "  <thead>\n",
       "    <tr style=\"text-align: right;\">\n",
       "      <th></th>\n",
       "      <th>Price</th>\n",
       "      <th>Open</th>\n",
       "      <th>High</th>\n",
       "      <th>Low</th>\n",
       "    </tr>\n",
       "    <tr>\n",
       "      <th>Date</th>\n",
       "      <th></th>\n",
       "      <th></th>\n",
       "      <th></th>\n",
       "      <th></th>\n",
       "    </tr>\n",
       "  </thead>\n",
       "  <tbody>\n",
       "    <tr>\n",
       "      <th>2016-12-30</th>\n",
       "      <td>1150.00</td>\n",
       "      <td>1162.0</td>\n",
       "      <td>1162.00</td>\n",
       "      <td>1151.0</td>\n",
       "    </tr>\n",
       "    <tr>\n",
       "      <th>2016-12-29</th>\n",
       "      <td>1156.40</td>\n",
       "      <td>1143.8</td>\n",
       "      <td>1158.80</td>\n",
       "      <td>1143.6</td>\n",
       "    </tr>\n",
       "    <tr>\n",
       "      <th>2016-12-28</th>\n",
       "      <td>1139.40</td>\n",
       "      <td>1141.2</td>\n",
       "      <td>1141.20</td>\n",
       "      <td>1138.0</td>\n",
       "    </tr>\n",
       "    <tr>\n",
       "      <th>2016-12-27</th>\n",
       "      <td>1137.30</td>\n",
       "      <td>1134.3</td>\n",
       "      <td>1142.20</td>\n",
       "      <td>1134.3</td>\n",
       "    </tr>\n",
       "    <tr>\n",
       "      <th>2016-12-26</th>\n",
       "      <td>1134.55</td>\n",
       "      <td>1135.0</td>\n",
       "      <td>1136.05</td>\n",
       "      <td>1134.0</td>\n",
       "    </tr>\n",
       "    <tr>\n",
       "      <th>...</th>\n",
       "      <td>...</td>\n",
       "      <td>...</td>\n",
       "      <td>...</td>\n",
       "      <td>...</td>\n",
       "    </tr>\n",
       "    <tr>\n",
       "      <th>2016-01-08</th>\n",
       "      <td>1097.80</td>\n",
       "      <td>1111.1</td>\n",
       "      <td>1111.10</td>\n",
       "      <td>1093.0</td>\n",
       "    </tr>\n",
       "    <tr>\n",
       "      <th>2016-01-07</th>\n",
       "      <td>1107.70</td>\n",
       "      <td>1091.6</td>\n",
       "      <td>1109.40</td>\n",
       "      <td>1091.6</td>\n",
       "    </tr>\n",
       "    <tr>\n",
       "      <th>2016-01-06</th>\n",
       "      <td>1091.90</td>\n",
       "      <td>1081.6</td>\n",
       "      <td>1093.70</td>\n",
       "      <td>1081.6</td>\n",
       "    </tr>\n",
       "    <tr>\n",
       "      <th>2016-01-05</th>\n",
       "      <td>1078.40</td>\n",
       "      <td>1075.6</td>\n",
       "      <td>1081.50</td>\n",
       "      <td>1075.3</td>\n",
       "    </tr>\n",
       "    <tr>\n",
       "      <th>2016-01-04</th>\n",
       "      <td>1075.10</td>\n",
       "      <td>1063.4</td>\n",
       "      <td>1082.50</td>\n",
       "      <td>1063.2</td>\n",
       "    </tr>\n",
       "  </tbody>\n",
       "</table>\n",
       "<p>265 rows × 4 columns</p>\n",
       "</div>"
      ],
      "text/plain": [
       "              Price    Open     High     Low\n",
       "Date                                        \n",
       "2016-12-30  1150.00  1162.0  1162.00  1151.0\n",
       "2016-12-29  1156.40  1143.8  1158.80  1143.6\n",
       "2016-12-28  1139.40  1141.2  1141.20  1138.0\n",
       "2016-12-27  1137.30  1134.3  1142.20  1134.3\n",
       "2016-12-26  1134.55  1135.0  1136.05  1134.0\n",
       "...             ...     ...      ...     ...\n",
       "2016-01-08  1097.80  1111.1  1111.10  1093.0\n",
       "2016-01-07  1107.70  1091.6  1109.40  1091.6\n",
       "2016-01-06  1091.90  1081.6  1093.70  1081.6\n",
       "2016-01-05  1078.40  1075.6  1081.50  1075.3\n",
       "2016-01-04  1075.10  1063.4  1082.50  1063.2\n",
       "\n",
       "[265 rows x 4 columns]"
      ]
     },
     "execution_count": 97,
     "metadata": {},
     "output_type": "execute_result"
    }
   ],
   "source": [
    "#Seleccionamos el año 2016\n",
    "gold[\"2016\"]"
   ]
  },
  {
   "cell_type": "code",
   "execution_count": 98,
   "id": "ecd34cc1",
   "metadata": {},
   "outputs": [
    {
     "data": {
      "text/html": [
       "<div>\n",
       "<style scoped>\n",
       "    .dataframe tbody tr th:only-of-type {\n",
       "        vertical-align: middle;\n",
       "    }\n",
       "\n",
       "    .dataframe tbody tr th {\n",
       "        vertical-align: top;\n",
       "    }\n",
       "\n",
       "    .dataframe thead th {\n",
       "        text-align: right;\n",
       "    }\n",
       "</style>\n",
       "<table border=\"1\" class=\"dataframe\">\n",
       "  <thead>\n",
       "    <tr style=\"text-align: right;\">\n",
       "      <th></th>\n",
       "      <th>Price</th>\n",
       "      <th>Open</th>\n",
       "      <th>High</th>\n",
       "      <th>Low</th>\n",
       "    </tr>\n",
       "    <tr>\n",
       "      <th>Date</th>\n",
       "      <th></th>\n",
       "      <th></th>\n",
       "      <th></th>\n",
       "      <th></th>\n",
       "    </tr>\n",
       "  </thead>\n",
       "  <tbody>\n",
       "    <tr>\n",
       "      <th>2018-08-01</th>\n",
       "      <td>1216.6</td>\n",
       "      <td>1223.4</td>\n",
       "      <td>1223.4</td>\n",
       "      <td>1216.2</td>\n",
       "    </tr>\n",
       "    <tr>\n",
       "      <th>2018-07-31</th>\n",
       "      <td>1223.7</td>\n",
       "      <td>1220.4</td>\n",
       "      <td>1228.1</td>\n",
       "      <td>1213.0</td>\n",
       "    </tr>\n",
       "    <tr>\n",
       "      <th>2018-07-30</th>\n",
       "      <td>1221.3</td>\n",
       "      <td>1222.5</td>\n",
       "      <td>1223.9</td>\n",
       "      <td>1218.1</td>\n",
       "    </tr>\n",
       "    <tr>\n",
       "      <th>2018-07-27</th>\n",
       "      <td>1222.2</td>\n",
       "      <td>1223.5</td>\n",
       "      <td>1226.8</td>\n",
       "      <td>1216.7</td>\n",
       "    </tr>\n",
       "    <tr>\n",
       "      <th>2018-07-26</th>\n",
       "      <td>1225.3</td>\n",
       "      <td>1227.8</td>\n",
       "      <td>1227.8</td>\n",
       "      <td>1227.8</td>\n",
       "    </tr>\n",
       "    <tr>\n",
       "      <th>...</th>\n",
       "      <td>...</td>\n",
       "      <td>...</td>\n",
       "      <td>...</td>\n",
       "      <td>...</td>\n",
       "    </tr>\n",
       "    <tr>\n",
       "      <th>2018-04-17</th>\n",
       "      <td>1347.2</td>\n",
       "      <td>1348.0</td>\n",
       "      <td>1348.1</td>\n",
       "      <td>1339.0</td>\n",
       "    </tr>\n",
       "    <tr>\n",
       "      <th>2018-04-16</th>\n",
       "      <td>1347.5</td>\n",
       "      <td>1341.0</td>\n",
       "      <td>1348.8</td>\n",
       "      <td>1341.0</td>\n",
       "    </tr>\n",
       "    <tr>\n",
       "      <th>2018-04-13</th>\n",
       "      <td>1344.8</td>\n",
       "      <td>1335.9</td>\n",
       "      <td>1346.0</td>\n",
       "      <td>1335.9</td>\n",
       "    </tr>\n",
       "    <tr>\n",
       "      <th>2018-04-12</th>\n",
       "      <td>1338.4</td>\n",
       "      <td>1351.2</td>\n",
       "      <td>1351.5</td>\n",
       "      <td>1334.6</td>\n",
       "    </tr>\n",
       "    <tr>\n",
       "      <th>2018-04-11</th>\n",
       "      <td>1356.5</td>\n",
       "      <td>1340.1</td>\n",
       "      <td>1365.4</td>\n",
       "      <td>1340.1</td>\n",
       "    </tr>\n",
       "  </tbody>\n",
       "</table>\n",
       "<p>82 rows × 4 columns</p>\n",
       "</div>"
      ],
      "text/plain": [
       "             Price    Open    High     Low\n",
       "Date                                      \n",
       "2018-08-01  1216.6  1223.4  1223.4  1216.2\n",
       "2018-07-31  1223.7  1220.4  1228.1  1213.0\n",
       "2018-07-30  1221.3  1222.5  1223.9  1218.1\n",
       "2018-07-27  1222.2  1223.5  1226.8  1216.7\n",
       "2018-07-26  1225.3  1227.8  1227.8  1227.8\n",
       "...            ...     ...     ...     ...\n",
       "2018-04-17  1347.2  1348.0  1348.1  1339.0\n",
       "2018-04-16  1347.5  1341.0  1348.8  1341.0\n",
       "2018-04-13  1344.8  1335.9  1346.0  1335.9\n",
       "2018-04-12  1338.4  1351.2  1351.5  1334.6\n",
       "2018-04-11  1356.5  1340.1  1365.4  1340.1\n",
       "\n",
       "[82 rows x 4 columns]"
      ]
     },
     "execution_count": 98,
     "metadata": {},
     "output_type": "execute_result"
    }
   ],
   "source": [
    "#Seleccionamos  registros posteriores a una fecha\n",
    "gold[gold.index > \"2018-4-10\"]"
   ]
  },
  {
   "cell_type": "code",
   "execution_count": 100,
   "id": "81641244",
   "metadata": {},
   "outputs": [
    {
     "data": {
      "text/html": [
       "<div>\n",
       "<style scoped>\n",
       "    .dataframe tbody tr th:only-of-type {\n",
       "        vertical-align: middle;\n",
       "    }\n",
       "\n",
       "    .dataframe tbody tr th {\n",
       "        vertical-align: top;\n",
       "    }\n",
       "\n",
       "    .dataframe thead th {\n",
       "        text-align: right;\n",
       "    }\n",
       "</style>\n",
       "<table border=\"1\" class=\"dataframe\">\n",
       "  <thead>\n",
       "    <tr style=\"text-align: right;\">\n",
       "      <th></th>\n",
       "      <th>Price</th>\n",
       "      <th>Open</th>\n",
       "      <th>High</th>\n",
       "      <th>Low</th>\n",
       "    </tr>\n",
       "    <tr>\n",
       "      <th>Date</th>\n",
       "      <th></th>\n",
       "      <th></th>\n",
       "      <th></th>\n",
       "      <th></th>\n",
       "    </tr>\n",
       "  </thead>\n",
       "  <tbody>\n",
       "    <tr>\n",
       "      <th>2018-07-30</th>\n",
       "      <td>1221.3</td>\n",
       "      <td>1222.50</td>\n",
       "      <td>1223.9</td>\n",
       "      <td>1218.10</td>\n",
       "    </tr>\n",
       "    <tr>\n",
       "      <th>2018-07-23</th>\n",
       "      <td>1224.0</td>\n",
       "      <td>1222.00</td>\n",
       "      <td>1222.0</td>\n",
       "      <td>1222.00</td>\n",
       "    </tr>\n",
       "    <tr>\n",
       "      <th>2018-07-16</th>\n",
       "      <td>1238.1</td>\n",
       "      <td>1242.70</td>\n",
       "      <td>1243.8</td>\n",
       "      <td>1242.70</td>\n",
       "    </tr>\n",
       "    <tr>\n",
       "      <th>2018-07-09</th>\n",
       "      <td>1258.1</td>\n",
       "      <td>1258.20</td>\n",
       "      <td>1262.3</td>\n",
       "      <td>1257.70</td>\n",
       "    </tr>\n",
       "    <tr>\n",
       "      <th>2018-07-02</th>\n",
       "      <td>1239.8</td>\n",
       "      <td>1249.90</td>\n",
       "      <td>1249.9</td>\n",
       "      <td>1239.80</td>\n",
       "    </tr>\n",
       "    <tr>\n",
       "      <th>...</th>\n",
       "      <td>...</td>\n",
       "      <td>...</td>\n",
       "      <td>...</td>\n",
       "      <td>...</td>\n",
       "    </tr>\n",
       "    <tr>\n",
       "      <th>1980-01-28</th>\n",
       "      <td>638.0</td>\n",
       "      <td>634.00</td>\n",
       "      <td>643.0</td>\n",
       "      <td>606.00</td>\n",
       "    </tr>\n",
       "    <tr>\n",
       "      <th>1980-01-21</th>\n",
       "      <td>825.5</td>\n",
       "      <td>875.00</td>\n",
       "      <td>875.0</td>\n",
       "      <td>812.00</td>\n",
       "    </tr>\n",
       "    <tr>\n",
       "      <th>1980-01-14</th>\n",
       "      <td>671.0</td>\n",
       "      <td>672.00</td>\n",
       "      <td>672.0</td>\n",
       "      <td>650.00</td>\n",
       "    </tr>\n",
       "    <tr>\n",
       "      <th>1980-01-07</th>\n",
       "      <td>627.0</td>\n",
       "      <td>629.00</td>\n",
       "      <td>635.0</td>\n",
       "      <td>611.00</td>\n",
       "    </tr>\n",
       "    <tr>\n",
       "      <th>1979-12-31</th>\n",
       "      <td>533.6</td>\n",
       "      <td>527.88</td>\n",
       "      <td>534.5</td>\n",
       "      <td>527.88</td>\n",
       "    </tr>\n",
       "  </tbody>\n",
       "</table>\n",
       "<p>1869 rows × 4 columns</p>\n",
       "</div>"
      ],
      "text/plain": [
       "             Price     Open    High      Low\n",
       "Date                                        \n",
       "2018-07-30  1221.3  1222.50  1223.9  1218.10\n",
       "2018-07-23  1224.0  1222.00  1222.0  1222.00\n",
       "2018-07-16  1238.1  1242.70  1243.8  1242.70\n",
       "2018-07-09  1258.1  1258.20  1262.3  1257.70\n",
       "2018-07-02  1239.8  1249.90  1249.9  1239.80\n",
       "...            ...      ...     ...      ...\n",
       "1980-01-28   638.0   634.00   643.0   606.00\n",
       "1980-01-21   825.5   875.00   875.0   812.00\n",
       "1980-01-14   671.0   672.00   672.0   650.00\n",
       "1980-01-07   627.0   629.00   635.0   611.00\n",
       "1979-12-31   533.6   527.88   534.5   527.88\n",
       "\n",
       "[1869 rows x 4 columns]"
      ]
     },
     "execution_count": 100,
     "metadata": {},
     "output_type": "execute_result"
    }
   ],
   "source": [
    "# Seleccionar los lunes:\n",
    "gold[gold.index.dayofweek==0]"
   ]
  },
  {
   "cell_type": "code",
   "execution_count": null,
   "id": "a200f197",
   "metadata": {},
   "outputs": [],
   "source": []
  }
 ],
 "metadata": {
  "kernelspec": {
   "display_name": "Python 3 (ipykernel)",
   "language": "python",
   "name": "python3"
  },
  "language_info": {
   "codemirror_mode": {
    "name": "ipython",
    "version": 3
   },
   "file_extension": ".py",
   "mimetype": "text/x-python",
   "name": "python",
   "nbconvert_exporter": "python",
   "pygments_lexer": "ipython3",
   "version": "3.8.12"
  }
 },
 "nbformat": 4,
 "nbformat_minor": 5
}
