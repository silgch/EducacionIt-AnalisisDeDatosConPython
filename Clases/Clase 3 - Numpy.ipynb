{
 "cells": [
  {
   "cell_type": "markdown",
   "id": "647f9ff9",
   "metadata": {},
   "source": [
    "# Clase 3 : Numpy"
   ]
  },
  {
   "cell_type": "markdown",
   "id": "8f3c6a7c",
   "metadata": {},
   "source": [
    "**Numpy** (de Numerical Python) es la principal librería de cálculo numérico de Python y el ecosistema de librerías\n",
    "científicas del lenguaje (como Pandas y Matplotlib) recurre a Numpy para realizar sus operaciones.\n",
    "Se basa en una **estructura de datos multidimensional llamada array** y en una serie de funciones muy optimizadas para su manipulación, incluyendo operaciones matemáticas, lógicas, de selección y ordenamiento, operaciones estadísticas, álgebra lineal y más."
   ]
  },
  {
   "cell_type": "markdown",
   "id": "48be89ad",
   "metadata": {},
   "source": [
    "## Numpy 1 "
   ]
  },
  {
   "cell_type": "markdown",
   "id": "24e13200",
   "metadata": {},
   "source": [
    "### Atributos de un array\n",
    "<ul>\n",
    "<li>dtype: el tipo de dato del array, en general numérico.</li>\n",
    "<li>size: cantidad de elementos.</li>\n",
    "<li>nbytes: total de bytes consumidos por los datos\n",
    "(bytes del tipo de dato por la cantidada de elementos).</li>\n",
    "<li>ndim: número de dimensiones.</li>\n",
    "<li>shape: cantidad de elementos en cada dimensión.</li>\n",
    "<li>strides: cantidad de bytes  para moverse una posicion en cada dimension </li>\n",
    "</ul>"
   ]
  },
  {
   "cell_type": "markdown",
   "id": "cbd23861",
   "metadata": {},
   "source": [
    "### Tipos de datos\n",
    "Es uno de los atributos fundamentales de un array.\n",
    "El tipo de dato se define cuando se crea el array.\n",
    "Una vez creado, no es posible cambiar el tipo de dato del mismo, a lo sumo es posible crear otro array en base al original.\n",
    "Tiene tipos de datos numéricos de distinta precisión; datetime64 y timedelta para trabajar con fechas, horas y diferencias de tiempo. También tiene el tipo de dato object que crea referencias a cualquier tipo de objeto de Python (como strings). Los objetos no son almacenados en el array, sólo las referencias."
   ]
  },
  {
   "cell_type": "markdown",
   "id": "da780246",
   "metadata": {},
   "source": [
    "### Creación de arrays\n",
    "Hay muchas formas de crear arrays. A través de la función np.array se pueden usar secuencias como listas (que pueden estar anidadas\n",
    "para representar arreglos multidimensionales). Podemos pasar el parámetro dtype para forzar a representar los datos en un tipo determinado. Si no se pasa, la función tratará de inferirlo."
   ]
  },
  {
   "cell_type": "code",
   "execution_count": 2,
   "id": "edd511ff",
   "metadata": {},
   "outputs": [
    {
     "name": "stdout",
     "output_type": "stream",
     "text": [
      "[1 2 3 4 5] int64 40\n",
      "[1. 2. 3. 4. 5.] float64 40\n",
      "[1 2 3 4 5] int8 5\n"
     ]
    }
   ],
   "source": [
    "import numpy as np\n",
    "array1 = np.array([1,2,3,4,5])\n",
    "array2 = np.array([1,2,3,4,5], dtype=np.float64)\n",
    "array3 = np.array([1,2,3,4,5], dtype=np.int8)\n",
    "\n",
    "print(array1, array1.dtype, array1.nbytes)\n",
    "print(array2, array2.dtype, array2.nbytes)\n",
    "print(array3, array3.dtype, array3.nbytes)\n",
    "#Notar que los flotantes se imprimen con un punto y que el array de enteros de 8 bits ocupa 8 veces menos espacio en memoria."
   ]
  },
  {
   "cell_type": "markdown",
   "id": "a7c96991",
   "metadata": {},
   "source": [
    "Podemos armar un array de **dos dimensiones** con listas anidadas, siempre y cuando todas tengan la **misma cantidad de elementos.**"
   ]
  },
  {
   "cell_type": "code",
   "execution_count": 3,
   "id": "46b3be3e",
   "metadata": {},
   "outputs": [
    {
     "name": "stdout",
     "output_type": "stream",
     "text": [
      "[[ 1  2  3  4]\n",
      " [ 5  6  7  8]\n",
      " [ 9 10 11 12]]\n",
      "ndim: 2 - shape: (3, 4)\n"
     ]
    }
   ],
   "source": [
    "array_2D = np.array([[1,2,3,4],[5,6,7,8],[9,10,11,12]])\n",
    "print(array_2D)\n",
    "print(\"ndim:\",array_2D.ndim, \"- shape:\", array_2D.shape)"
   ]
  },
  {
   "cell_type": "markdown",
   "id": "d434fdb9",
   "metadata": {},
   "source": [
    "Además hay numerosas funciones para crear arrays:\n",
    "<ul>\n",
    "\n",
    "<li>arange y linspace para rangos de números equiespaciados.</li>\n",
    "<li>zeros, ones y full para arrays de cualquier dimensión y forma.</li>\n",
    "<li>identity, eye y diagonal para arrays de 2 dimensiones.</li>\n",
    "<li>El módulo random permite crear arrays con distintas distribuciones de números al azar.</li>\n",
    "<li>Las funciones loadtxt y genfromtxt permiten leer archivos de texto tipo csv.</li>\n",
    "\n",
    "</ul>\n",
    "**Tener en cuenta especificar el tipo de dato y el shape cuando sea necesario**"
   ]
  },
  {
   "cell_type": "markdown",
   "id": "94caec53",
   "metadata": {},
   "source": [
    "### Reshaping\n",
    "Ya vimos que el tipo de dato es muy importante en un array. Ahora nos vamos a centrar en el atributo **shape** Éste determina la forma del array, lo que implica la dimensión y el paso.\n",
    "Los datos se almacenan en un espacio contiguo de memoria y el shape determina cómo debe ser interpretada la **forma del array**: cuántos elementos debe contener cada dimensión. Se especifica como una tupla de números enteros.\n",
    "Estos números deben ser compatibles con la cantidad de elementos.\n",
    "Para cambiar la forma del array se usa el método reshape. El método **flatten** transforma el array en **unidimensional.**"
   ]
  },
  {
   "cell_type": "markdown",
   "id": "e19f931a",
   "metadata": {},
   "source": [
    "### Indexing\n",
    "Se conoce como indexing a cualquier operación que **seleccione elementos de una array** a través de corchetes ([]).\n",
    "Para un array unidimensional la indexación funciona igual que con las listas. Sin embargo, **para los arrays multidimensionales es posible especificar los índices de cada dimensión** dentro de los mismos corchetes."
   ]
  },
  {
   "cell_type": "code",
   "execution_count": 17,
   "id": "4bde0396",
   "metadata": {},
   "outputs": [
    {
     "name": "stdout",
     "output_type": "stream",
     "text": [
      "ALGUNOS EJEMPLOS\n",
      "[[1 2 3]\n",
      " [4 5 6]\n",
      " [7 8 9]]\n",
      "\n",
      "EJEMPLO [:2,1:]\n",
      "[[2 3]\n",
      " [5 6]]\n",
      "\n",
      "EJEMPLO [2]\n",
      "[7 8 9]\n",
      "\n",
      "EJEMPLO [2,:]\n",
      "[7 8 9]\n",
      "\n",
      "EJEMPLO [2:,:]\n",
      "[[7 8 9]]\n",
      "\n",
      "EJEMPLO [:,:2]\n",
      "[[1 2]\n",
      " [4 5]\n",
      " [7 8]]\n",
      "\n",
      "EJEMPLO [1,:2]\n",
      "[4 5]\n",
      "\n",
      "EJEMPLO [1:2,:2]\n",
      "[[4 5]]\n"
     ]
    }
   ],
   "source": [
    "array_3x3=np.array([[1,2,3],[4,5,6],[7,8,9]])\n",
    "print(\"ALGUNOS EJEMPLOS\")\n",
    "print(array_3x3)\n",
    "print(\"\\nEJEMPLO [:2,1:]\")\n",
    "print(array_3x3[:2,1:])\n",
    "print(\"\\nEJEMPLO [2]\")\n",
    "print(array_3x3[2])\n",
    "print(\"\\nEJEMPLO [2,:]\")\n",
    "print(array_3x3[2,:])\n",
    "print(\"\\nEJEMPLO [2:,:]\")\n",
    "print(array_3x3[2:,:])\n",
    "print(\"\\nEJEMPLO [:,:2]\")\n",
    "print(array_3x3[:,:2])\n",
    "print(\"\\nEJEMPLO [1,:2]\")\n",
    "print(array_3x3[1,:2])\n",
    "print(\"\\nEJEMPLO [1:2,:2]\")\n",
    "print(array_3x3[1:2,:2])"
   ]
  },
  {
   "cell_type": "markdown",
   "id": "77148743",
   "metadata": {},
   "source": [
    "Una característica interesante de Numpy es que permite **seleccionar elementos en base a una condición.** Esto es posible porque se puede usar un array de booleanos para seleccionar elementos de otro array, lo que se conoce como **enmascaramiento.**"
   ]
  },
  {
   "cell_type": "code",
   "execution_count": 18,
   "id": "69c01e2b",
   "metadata": {},
   "outputs": [
    {
     "data": {
      "text/plain": [
       "array([10, 40])"
      ]
     },
     "execution_count": 18,
     "metadata": {},
     "output_type": "execute_result"
    }
   ],
   "source": [
    "numeros= np.array([10,20,30,40])\n",
    "booleanos = np.array([True,False, False, True])\n",
    "numeros[booleanos]"
   ]
  },
  {
   "cell_type": "markdown",
   "id": "8bc1e37b",
   "metadata": {},
   "source": [
    "Para construir arrays de booleanos se pueden usar expresiones condicionales con el mismo array (lo que profundizaremos más\n",
    "adelante). Luego, estos arrays se pueden usar para seleccionar elementos para los que se verifique la condición"
   ]
  },
  {
   "cell_type": "code",
   "execution_count": 19,
   "id": "c070d465",
   "metadata": {},
   "outputs": [
    {
     "data": {
      "text/plain": [
       "array([False, False, False,  True,  True])"
      ]
     },
     "execution_count": 19,
     "metadata": {},
     "output_type": "execute_result"
    }
   ],
   "source": [
    "arr= np.array([10,20,30,40,50])\n",
    "arr > 30"
   ]
  },
  {
   "cell_type": "code",
   "execution_count": 20,
   "id": "ad714308",
   "metadata": {},
   "outputs": [
    {
     "data": {
      "text/plain": [
       "array([30, 40, 50])"
      ]
     },
     "execution_count": 20,
     "metadata": {},
     "output_type": "execute_result"
    }
   ],
   "source": [
    "arr[arr>20]"
   ]
  },
  {
   "cell_type": "markdown",
   "id": "7ac2b0c4",
   "metadata": {},
   "source": [
    "### Asignaciones\n",
    "Con la notación de corchetes no sólo es posible elegir elementos de un array, sino que también se puede **reasignar sus valores.**"
   ]
  },
  {
   "cell_type": "code",
   "execution_count": 22,
   "id": "690aa72e",
   "metadata": {},
   "outputs": [
    {
     "data": {
      "text/plain": [
       "array([[1, 2, 0, 4],\n",
       "       [5, 6, 0, 8]])"
      ]
     },
     "execution_count": 22,
     "metadata": {},
     "output_type": "execute_result"
    }
   ],
   "source": [
    "b = np.array([[1,2,3,4],[5,6,7,8]])\n",
    "b[:,2]=0\n",
    "b"
   ]
  },
  {
   "cell_type": "markdown",
   "id": "3e8368bb",
   "metadata": {},
   "source": [
    "## Numpy 2"
   ]
  },
  {
   "cell_type": "markdown",
   "id": "b9d8f5fa",
   "metadata": {},
   "source": [
    "### Vectorización\n",
    "Numpy ofrece la posibilidad de realizar operaciones ***sobre todos los elementos de los arrays sin la necesidad\n",
    "de recurrir a bucles.*** Esto es lo que se conoce como vectorización. Internamente, Numpy utiliza rutinas muy optimizadas escritas en C, que implementan estas operaciones.\n",
    "Esta es una de las características esenciales de Numpy. Libera al programador de los detalles de implementación y resulta en código muy compacto y legible."
   ]
  },
  {
   "cell_type": "markdown",
   "id": "669d726a",
   "metadata": {},
   "source": [
    "### Operaciones aritméticas\n",
    "Los operadores aritméticos de Python también están implementados para operar con arrays.\n",
    "Estos operadores trabajan elemento a elemento y **devuelven como resultado un nuevo array.**\n",
    "Además de los operadores a los que estamos acostumbrados, también existen **funciones** correspondientes. \n",
    "Por ejemplo, para la suma existe el operador + y la función add. De modo que a+b es equivalente a np.add(a,b)"
   ]
  },
  {
   "cell_type": "code",
   "execution_count": 24,
   "id": "dee8d6e1",
   "metadata": {},
   "outputs": [
    {
     "data": {
      "text/plain": [
       "array([1.  , 0.5 , 0.25, 0.2 ])"
      ]
     },
     "execution_count": 24,
     "metadata": {},
     "output_type": "execute_result"
    }
   ],
   "source": [
    "x=np.array([1,2,3,4])\n",
    "y=np.array([1,4,12,20])\n",
    "x/y"
   ]
  },
  {
   "cell_type": "code",
   "execution_count": 25,
   "id": "b7b76866",
   "metadata": {},
   "outputs": [
    {
     "data": {
      "text/plain": [
       "array([[ 0, 21, 42, 63],\n",
       "       [14, 35, 56, 77]])"
      ]
     },
     "execution_count": 25,
     "metadata": {},
     "output_type": "execute_result"
    }
   ],
   "source": [
    "a=np.array([[0,1,2,3],[4,5,6,7]])\n",
    "b=np.array([[0,20,40,60],[10,30,50,70]])\n",
    "a+b"
   ]
  },
  {
   "cell_type": "markdown",
   "id": "d524e19f",
   "metadata": {},
   "source": [
    "Podemos operar un array con un numero, realizando una operacion sobre todos sus elementos:\n",
    "    "
   ]
  },
  {
   "cell_type": "code",
   "execution_count": 27,
   "id": "db4b32fb",
   "metadata": {},
   "outputs": [
    {
     "data": {
      "text/plain": [
       "array([10, 20, 30, 40])"
      ]
     },
     "execution_count": 27,
     "metadata": {},
     "output_type": "execute_result"
    }
   ],
   "source": [
    "x*10"
   ]
  },
  {
   "cell_type": "code",
   "execution_count": 28,
   "id": "e37681f4",
   "metadata": {},
   "outputs": [
    {
     "data": {
      "text/plain": [
       "array([ 4, 10, 19, 28])"
      ]
     },
     "execution_count": 28,
     "metadata": {},
     "output_type": "execute_result"
    }
   ],
   "source": [
    "x^2+y+2"
   ]
  },
  {
   "cell_type": "markdown",
   "id": "472a7af7",
   "metadata": {},
   "source": [
    "### Funciones matemáticas\n",
    "Así mismo existen numerosas funciones para realizar operaciones matemáticas elemento a elemento.\n",
    "<ul>\n",
    "● Funciones trigonométricas (sin, cos, tan, arcsin, tanh, etc.)<br>\n",
    "● Logarítmicas (log, log2, log10, etc)<br>\n",
    "● Exponenciales (exp, exp2, expm1, etc.)<br>\n",
    "● Potenciales (square, sqrt, cbrt, reciprocal, etc.)<br>\n",
    "● Redondeo de decimales (round, rint, trunc, floor, ceil, etc.)<br>\n",
    "● Y muchas otras.\n",
    "</ul>"
   ]
  },
  {
   "cell_type": "code",
   "execution_count": 45,
   "id": "c349e7aa",
   "metadata": {},
   "outputs": [],
   "source": [
    "#Creamos el array x como un rango lineal equiespaciado de n números entre x0 y x1.\n",
    "x0=0.01\n",
    "x1=1\n",
    "n=60\n",
    "x=np.linspace(x0,x1,n)"
   ]
  },
  {
   "cell_type": "code",
   "execution_count": 47,
   "id": "90dc814a",
   "metadata": {},
   "outputs": [],
   "source": [
    "y=np.log(x)-4*x"
   ]
  },
  {
   "cell_type": "code",
   "execution_count": 50,
   "id": "359a1edc",
   "metadata": {},
   "outputs": [
    {
     "data": {
      "image/png": "[encoded data removed]",
      "text/plain": [
       "<Figure size 432x288 with 1 Axes>"
      ]
     },
     "metadata": {
      "needs_background": "light"
     },
     "output_type": "display_data"
    }
   ],
   "source": [
    "import matplotlib.pyplot as plt\n",
    "plt.plot(x,y,color='r')\n",
    "plt.xlabel('x')\n",
    "plt.ylabel('y')\n",
    "plt.title('Ejemplito')\n",
    "plt.show()"
   ]
  },
  {
   "cell_type": "markdown",
   "id": "cfbbf53a",
   "metadata": {},
   "source": [
    "### Broadcasting\n",
    "Se conoce como broadcasting a la capacidad de **operar entre arrays de distinta forma o dimensión** (con ciertas restricciones).\n",
    "En ciertas condiciones, Numpy es capaz de promover la forma del array más pequeño a la del array más grande.\n",
    "La regla es que para que dos dimensiones sean **compatibles** ambas deben ser iguales o una de ellas debe ser 1 (la dimensión que se promueve)"
   ]
  },
  {
   "cell_type": "code",
   "execution_count": 57,
   "id": "8215c56a",
   "metadata": {},
   "outputs": [
    {
     "data": {
      "text/plain": [
       "array([[11, 12, 13],\n",
       "       [14, 15, 16],\n",
       "       [17, 18, 19],\n",
       "       [20, 21, 22]])"
      ]
     },
     "execution_count": 57,
     "metadata": {},
     "output_type": "execute_result"
    }
   ],
   "source": [
    "array3_3=np.array([[1,2,3],[4,5,6],[7,8,9],[10,11,12]])\n",
    "array1_3=np.array([10,10,10])\n",
    "array3_3 + array1_3"
   ]
  },
  {
   "cell_type": "markdown",
   "id": "051c316b",
   "metadata": {},
   "source": [
    "Cuando operamos un número con un array también se está aplicando broadcasting"
   ]
  },
  {
   "cell_type": "code",
   "execution_count": 58,
   "id": "16d172f9",
   "metadata": {},
   "outputs": [
    {
     "data": {
      "text/plain": [
       "array([1000, 1000, 1000])"
      ]
     },
     "execution_count": 58,
     "metadata": {},
     "output_type": "execute_result"
    }
   ],
   "source": [
    "100*array1_3"
   ]
  },
  {
   "cell_type": "markdown",
   "id": "9b9a9bd1",
   "metadata": {},
   "source": [
    "### Operaciones lógicas\n",
    "Así como es posible usar los operadores aritméticos con arrays, también es posible usar los **operadores de comparación**. \n",
    "En este caso, se **devuelve un array de booleanos** que son el resultado de aplicar lascomparaciones elemento a elemento"
   ]
  },
  {
   "cell_type": "code",
   "execution_count": 60,
   "id": "8954e4ca",
   "metadata": {},
   "outputs": [
    {
     "data": {
      "text/plain": [
       "array([[ True,  True,  True],\n",
       "       [False, False, False],\n",
       "       [False, False, False],\n",
       "       [False, False, False]])"
      ]
     },
     "execution_count": 60,
     "metadata": {},
     "output_type": "execute_result"
    }
   ],
   "source": [
    "array_a=np.array([[1,2,3],[4,5,6],[7,8,9],[10,11,12]])\n",
    "array_b=np.array([[7,8,9],[4,5,6],[7,8,9],[4,5,6]])\n",
    "array_a < array_b"
   ]
  },
  {
   "cell_type": "markdown",
   "id": "2971fb1f",
   "metadata": {},
   "source": [
    "Esto es de gran utilidad porque, como vimos, se puede usar un array de booleanos para seleccionar elementos.\n",
    "La siguiente expresión devuelve los elementos de a que son menores que el correspondiente elemento de b."
   ]
  },
  {
   "cell_type": "code",
   "execution_count": 61,
   "id": "a2a2bfce",
   "metadata": {},
   "outputs": [
    {
     "data": {
      "text/plain": [
       "array([1, 2, 3])"
      ]
     },
     "execution_count": 61,
     "metadata": {},
     "output_type": "execute_result"
    }
   ],
   "source": [
    "array_a[array_a < array_b]"
   ]
  },
  {
   "cell_type": "markdown",
   "id": "f13ae82e",
   "metadata": {},
   "source": [
    "Para poder realizar operaciones lógicas entre arrays de booleanos hay que usar ciertas funciones o los **operadores\n",
    "especiales** correspondientes:\n",
    "\n",
    "\n",
    "\n",
    "<table >\n",
    "\n",
    "<thead>    \n",
    "<tr>\n",
    "<th>Funcion</th>\n",
    "<th>Operador</th>\n",
    "</tr>\n",
    "</thead>    \n",
    "\n",
    "<tbody>     \n",
    "<tr>\n",
    "<td>np.logical_and</td>\n",
    "<td>&</td>\n",
    "</tr>\n",
    "  \n",
    "<tr>\n",
    "<td>logical_or</td>\n",
    "<td>|</td>\n",
    "</tr>\n",
    "\n",
    "<tr>\n",
    "<td>logical_not</td>\n",
    "<th>~</th>\n",
    "</tr> \n",
    "    \n",
    "<tr>    \n",
    "<td>logical_xor</td>\n",
    "<td>^</td>\n",
    "</tr>\n",
    "</tbody>  \n",
    "    \n",
    "</table>\n"
   ]
  },
  {
   "cell_type": "markdown",
   "id": "b42026c9",
   "metadata": {},
   "source": [
    "Así podemos combinar varias condiciones en un solo filtro. La siguiente expresión devuelve los elementos de a que son menores que el correspondiente\n",
    "elemento de b, en donde el elemento de b es par."
   ]
  },
  {
   "cell_type": "code",
   "execution_count": 66,
   "id": "6b127476",
   "metadata": {},
   "outputs": [
    {
     "data": {
      "text/plain": [
       "array([2])"
      ]
     },
     "execution_count": 66,
     "metadata": {},
     "output_type": "execute_result"
    }
   ],
   "source": [
    "# Importante : Los operadores lógicos y de comparación no tienen un orden de precedencia en expresiones con arrays\n",
    "# sino que se realizan en el orden en el que son escritos. Para que la expresión funcione correctamente\n",
    "# hay que encerrar cada parte entre paréntesis. La siguiente expresión (que no encierra las comparaciones entre \n",
    "# paréntesis) falla.\n",
    "array_a[(array_a < array_b )& (array_b%2==0)]"
   ]
  },
  {
   "cell_type": "markdown",
   "id": "8c2bba39",
   "metadata": {},
   "source": [
    "## Numpy 3"
   ]
  },
  {
   "cell_type": "markdown",
   "id": "e20a6097",
   "metadata": {},
   "source": [
    "### Funciones de agregación\n",
    "Hemos visto que contamos con numerosas funciones para hacer operaciones elemento a elemento. Pero también contamos con lo que se conoce como funciones de agregación (o de reducción) cuya característica es que toman un conjunto de números y devuelven sólo un número. La suma de todos los números de un array es un caso típico.\n",
    "Gracias a estas funciones es que vamos a poder realizar estadísticas sobre el conjunto de datos"
   ]
  },
  {
   "cell_type": "markdown",
   "id": "cafa6b03",
   "metadata": {},
   "source": [
    "#### Suma\n",
    "Suma de todos los elementos del array: **sum()**"
   ]
  },
  {
   "cell_type": "code",
   "execution_count": 79,
   "id": "286013ad",
   "metadata": {},
   "outputs": [
    {
     "name": "stdout",
     "output_type": "stream",
     "text": [
      "El array: \n",
      " [[ 6  1 13]\n",
      " [ 7 15 11]\n",
      " [19  0 11]]\n",
      "La suma de sus elementos calculados con np.sum(array): \n",
      " 83\n",
      "La suma de sus elementos calculados con array.sum()): \n",
      " 83\n"
     ]
    }
   ],
   "source": [
    "a=np.array([[6,1,13],[7,15,11],[19,0,11]])\n",
    "print(\"El array: \\n\", a)\n",
    "print(\"La suma de sus elementos calculados con np.sum(array): \\n\", np.sum(a))\n",
    "print(\"La suma de sus elementos calculados con array.sum()): \\n\",a.sum())"
   ]
  },
  {
   "attachments": {
    "image-2.png": {
     "image/png": "[encoded data removed]"
    },
    "image.png": {
     "image/png": "[encoded data removed]"
    }
   },
   "cell_type": "markdown",
   "id": "88422b75",
   "metadata": {},
   "source": [
    "#### Promedio y desviación standard\n",
    "El **promedio (o media aritmética)** se puede considerar como el valor más representativo de una distribución de\n",
    "números. Es la suma de todos los números dividido la cantidad de números:\n",
    "![image.png](attachment:image.png)\n",
    "\n",
    "La **desviación standard** es una medida de la **dispersión de los datos en torno al valor promedio**:\n",
    "![image-2.png](attachment:image-2.png)\n",
    "\n",
    "Podemos usar **mean y std para calcular el promedio y la desviación standard** de los números de un array.\n",
    "En el siguiente ejemplo generamos n números aleatorios con distribución gaussiana. A medida que aumenta n, el\n",
    "promedio y la desviación se acercan a mu y sigma."
   ]
  },
  {
   "cell_type": "code",
   "execution_count": 81,
   "id": "96a21e8a",
   "metadata": {},
   "outputs": [
    {
     "name": "stdout",
     "output_type": "stream",
     "text": [
      "[ 8.38999832 10.03741147  9.11479012  7.54815893  8.95965424  6.99478405\n",
      "  7.90236626  7.16826341  6.84252895  6.70161422  8.04497168 10.32839319\n",
      "  9.8130683  13.35401847  9.63544792  6.34135561  9.5447675   7.95047091\n",
      "  6.2655693   5.26896123  8.16437869  8.28236802  6.63378813  7.54834673\n",
      "  9.04918713  5.73064562  9.48212286 10.23448555 11.45814224  8.68405446\n",
      " 11.19144912  7.70028719  8.41803698 10.46644155  8.42868636  5.35361808\n",
      " 11.19191149  6.96159142  7.14769814  7.07561942  9.88237855  7.55948072\n",
      "  9.45883034  9.6365133   8.41718946  7.48518594  8.41329889  6.08417961\n",
      "  8.28209834  6.30922259  7.61243961  5.34587307  6.97728551  7.89514191\n",
      " 11.94052978  7.83975254  5.38112906  6.41328436  8.57061517  5.00019348\n",
      "  4.62623911  5.6924362   7.74065433  6.1209228   6.80641953  6.55567077\n",
      "  7.81467427  9.45143503  6.98770817  8.49829493  9.82491731  7.13704851\n",
      " 10.4049475   6.73284458  6.45283852  5.19606329 10.04305861  6.08172108\n",
      " 10.132349    8.38200384  9.78663509  5.93640907 13.09649449  6.53109767\n",
      "  7.31549974 11.66017163  4.2794094   9.29785968  6.27138668 10.83098357\n",
      "  7.58897354  6.43732992  6.63932047  7.31008377  8.28985554  6.8223052\n",
      "  9.31941389  5.03635029  7.82582661  6.99674131]\n",
      "7.978684704269622\n",
      "1.8583471214738776\n"
     ]
    }
   ],
   "source": [
    "n=100\n",
    "mu = 8\n",
    "sigma = 2 \n",
    "nums = mu + sigma * np.random.randn(n)\n",
    "\n",
    "print(nums)\n",
    "print(nums.mean())\n",
    "print(nums.std())"
   ]
  },
  {
   "attachments": {
    "image.png": {
     "image/png": "[encoded data removed]"
    }
   },
   "cell_type": "markdown",
   "id": "02c911ee",
   "metadata": {},
   "source": [
    "#### Otras funciones\n",
    "También encontramos las siguientes funciones:\n",
    "![image.png](attachment:image.png) "
   ]
  },
  {
   "cell_type": "markdown",
   "id": "7a8c4300",
   "metadata": {},
   "source": [
    "#### Missing values\n",
    "¿Qué sucede con estas funciones y métodos cuando el array tiene missing values?\n",
    "Están diseñadas para para propagar el valor al resultado final.\n",
    "Para **ignorar los missing values** se deben usar las funciones **nansum, nanprod, nanmean, nanstd, nanvar, nanmin,\n",
    "nanmax, etc.** Estas funciones no tienen métodos equivalentes. "
   ]
  },
  {
   "cell_type": "code",
   "execution_count": 86,
   "id": "7fb1499d",
   "metadata": {},
   "outputs": [
    {
     "data": {
      "text/plain": [
       "(nan, nan, nan, nan)"
      ]
     },
     "execution_count": 86,
     "metadata": {},
     "output_type": "execute_result"
    }
   ],
   "source": [
    "a= np.array([1,1,1,np.NaN,1,1])\n",
    "a.mean(), np.max(a), np.min(a), a.sum()"
   ]
  },
  {
   "cell_type": "code",
   "execution_count": 88,
   "id": "df84029a",
   "metadata": {},
   "outputs": [
    {
     "data": {
      "text/plain": [
       "(1.0, 1.0, 1.0, 5.0)"
      ]
     },
     "execution_count": 88,
     "metadata": {},
     "output_type": "execute_result"
    }
   ],
   "source": [
    "np.nanmean(a), np.nanmax(a), np.nanmin(a), np.nansum(a)"
   ]
  },
  {
   "attachments": {
    "image.png": {
     "image/png": "[encoded data removed]"
    }
   },
   "cell_type": "markdown",
   "id": "d3bfa583",
   "metadata": {},
   "source": [
    "#### Operando sobre ejes\n",
    "Estas funciones, en principio, calculan el resultado con todos los elementos del array. Sin embargo, es posible\n",
    "controlar su comportamiento para que calculen los resultados sobre alguno de los ejes. Por ejemplo, en\n",
    "un array de dos dimensiones podemos calcular el promedio de todas las filas o de las columnas.\n",
    "Esto se consigue usando el **parámetro axis, que determina la dimensión a recorrer.**\n",
    "En nuestro ejemplo de una matriz, **axis = 0 calcula el promedio de todas las columnas (recorre las filas) y axis = 1 calcula el promedio de las filas (recorre las columnas).**\n",
    "![image.png](attachment:image.png)"
   ]
  },
  {
   "cell_type": "code",
   "execution_count": 96,
   "id": "24f89d94",
   "metadata": {},
   "outputs": [
    {
     "name": "stdout",
     "output_type": "stream",
     "text": [
      "El promedio de las columnas es: \n",
      " [4.5 5.5 6.5]\n",
      "La suma de las columnas es: \n",
      "  [18 22 26]\n",
      "La minimo de cada columna es: \n",
      "  [0 1 2]\n"
     ]
    }
   ],
   "source": [
    "a= np.array([[0,1,2],[3,4,5],[6,7,8],[9,10,11]])\n",
    "print(\"El promedio de las columnas es: \\n\",a.mean(axis=0))\n",
    "print(\"La suma de las columnas es: \\n \", a.sum(axis=0))\n",
    "print(\"La minimo de cada columna es: \\n \", a.min(axis=0))"
   ]
  },
  {
   "cell_type": "code",
   "execution_count": 97,
   "id": "e2dcdd09",
   "metadata": {},
   "outputs": [
    {
     "name": "stdout",
     "output_type": "stream",
     "text": [
      "El promedio de las filas es: \n",
      " [ 1.  4.  7. 10.]\n",
      "La suma de las filas es: \n",
      "  [ 3 12 21 30]\n",
      "La minimo de cada fila es: \n",
      "  [0 3 6 9]\n"
     ]
    }
   ],
   "source": [
    "print(\"El promedio de las filas es: \\n\",a.mean(axis=1))\n",
    "print(\"La suma de las filas es: \\n \", a.sum(axis=1))\n",
    "print(\"La minimo de cada fila es: \\n \", a.min(axis=1))"
   ]
  },
  {
   "cell_type": "code",
   "execution_count": 95,
   "id": "92dc8ee6",
   "metadata": {},
   "outputs": [
    {
     "name": "stdout",
     "output_type": "stream",
     "text": [
      "La suma de todo es:  \n",
      " 66\n"
     ]
    }
   ],
   "source": [
    "print(\"La suma de todo es:  \\n\",a.sum())\n"
   ]
  },
  {
   "cell_type": "markdown",
   "id": "e6cad078",
   "metadata": {},
   "source": [
    "**Ejemplo**\n",
    "Supongamos que las ventas de algún producto durante cuatro semanas está en el array ventas. Cada fila es una semana y cada columna es un\n",
    "día de la semana"
   ]
  },
  {
   "cell_type": "code",
   "execution_count": 102,
   "id": "8b3baa10",
   "metadata": {},
   "outputs": [
    {
     "name": "stdout",
     "output_type": "stream",
     "text": [
      "Las ventas de 4 semanas son: \n",
      " [[17 16 15 17 15]\n",
      " [15  2 11 15 14]\n",
      " [13  5  9  3  5]\n",
      " [ 8 16 12 15  7]]\n",
      "Promedio de ventas para cada dia de la semana:\n",
      " [13.25  9.75 11.75 12.5  10.25]\n",
      "Total de ventas de cada semana:\n",
      " [80 57 35 58]\n"
     ]
    }
   ],
   "source": [
    "ventas= np.array([[17,16,15,17,15],[15,2,11,15,14],[13,5,9,3,5],[8,16,12,15,7] ])\n",
    "print(\"Las ventas de 4 semanas son: \\n\", ventas)\n",
    "print(\"Promedio de ventas para cada dia de la semana:\\n\", ventas.mean(axis=0))\n",
    "print(\"Total de ventas de cada semana:\\n\", ventas.sum(axis=1))"
   ]
  },
  {
   "cell_type": "markdown",
   "id": "f6a418aa",
   "metadata": {},
   "source": [
    "#### argmin y argmax\n",
    "Si en lugar de querer encontrar el valor mínimo o máximo, queremos encontrar el índice del\n",
    "elemento correspondiente podemos usar argmin y argmax, pero hay que tener en cuenta que devuelve el índice del array aplanado."
   ]
  },
  {
   "cell_type": "code",
   "execution_count": 103,
   "id": "2892836c",
   "metadata": {},
   "outputs": [
    {
     "data": {
      "text/plain": [
       "8"
      ]
     },
     "execution_count": 103,
     "metadata": {},
     "output_type": "execute_result"
    }
   ],
   "source": [
    "a= np.array([[1,2,4],[5,4,3],[8,4,999]])\n",
    "a.argmax()"
   ]
  },
  {
   "cell_type": "markdown",
   "id": "364a8f22",
   "metadata": {},
   "source": [
    "## Numpy 4"
   ]
  },
  {
   "cell_type": "markdown",
   "id": "f9236f34",
   "metadata": {},
   "source": [
    "### Álgebra lineal\n",
    "Numpy implementa muchas operaciones de álgebra lineal, como producto escalar entre vectores, producto matricial, cálculo de determinante, matriz inversa, etc"
   ]
  },
  {
   "cell_type": "markdown",
   "id": "cbe2cb61",
   "metadata": {},
   "source": [
    "#### Producto escalar\n",
    "Para realizar el producto escalar entre dos vectores (arrays unidimensionales) podemos usar el **método dot**. Para esta\n",
    "operación también existe el operador @."
   ]
  },
  {
   "cell_type": "code",
   "execution_count": 67,
   "id": "05810fe0",
   "metadata": {},
   "outputs": [
    {
     "data": {
      "text/plain": [
       "59"
      ]
     },
     "execution_count": 67,
     "metadata": {},
     "output_type": "execute_result"
    }
   ],
   "source": [
    "v=np.array([5,3,2,6])\n",
    "w=np.array([1,2,0,8])\n",
    "v.dot(w)"
   ]
  },
  {
   "cell_type": "code",
   "execution_count": 68,
   "id": "a4ab12b3",
   "metadata": {},
   "outputs": [
    {
     "data": {
      "text/plain": [
       "59"
      ]
     },
     "execution_count": 68,
     "metadata": {},
     "output_type": "execute_result"
    }
   ],
   "source": [
    "v@w"
   ]
  },
  {
   "attachments": {
    "image.png": {
     "image/png": "[encoded data removed]"
    }
   },
   "cell_type": "markdown",
   "id": "bde7cd96",
   "metadata": {},
   "source": [
    "#### Producto matricial\n",
    "El método dot y su correspondiente operador @ se pueden usar también para efectuar productos matriciales, en donde cada elemento de la nueva\n",
    "matriz es el producto escalar de una fila de la primer matriz y una columna de la segunda. **La cantidad de columnas de la primer matriz debe\n",
    "ser igual a la cantidad de filas de la segunda.**\n",
    "![image.png](attachment:image.png)"
   ]
  },
  {
   "cell_type": "code",
   "execution_count": 70,
   "id": "68427db6",
   "metadata": {},
   "outputs": [
    {
     "data": {
      "text/plain": [
       "array([[66, 58],\n",
       "       [50, 52]])"
      ]
     },
     "execution_count": 70,
     "metadata": {},
     "output_type": "execute_result"
    }
   ],
   "source": [
    "A=np.array([[2,5,3],[7,1,4]])\n",
    "B=np.array([[3,2],[9,6],[5,8]])\n",
    "A.dot(B)"
   ]
  },
  {
   "cell_type": "markdown",
   "id": "86992c35",
   "metadata": {},
   "source": [
    "#### Transpuesta\n",
    " Para obtenerla podemos usar el **método transpose o el atributo T.**"
   ]
  },
  {
   "cell_type": "code",
   "execution_count": 71,
   "id": "0bb5ce4e",
   "metadata": {},
   "outputs": [
    {
     "data": {
      "text/plain": [
       "array([[2, 7],\n",
       "       [5, 1],\n",
       "       [3, 4]])"
      ]
     },
     "execution_count": 71,
     "metadata": {},
     "output_type": "execute_result"
    }
   ],
   "source": [
    "A.T"
   ]
  },
  {
   "cell_type": "code",
   "execution_count": 72,
   "id": "65ddf7ce",
   "metadata": {},
   "outputs": [
    {
     "data": {
      "text/plain": [
       "array([[2, 7],\n",
       "       [5, 1],\n",
       "       [3, 4]])"
      ]
     },
     "execution_count": 72,
     "metadata": {},
     "output_type": "execute_result"
    }
   ],
   "source": [
    "A.transpose()"
   ]
  },
  {
   "cell_type": "markdown",
   "id": "8ffc972e",
   "metadata": {},
   "source": [
    "#### Determinante \n",
    "Numpy tiene un módulo dedicado a álgebra lineal: el **módulo linalg**, donde se implementan\n",
    "muchas funciones de álgebra lineal. Una de ellas es **det**, que calcula el determinante de una\n",
    "matriz cuadrada.\n"
   ]
  },
  {
   "cell_type": "code",
   "execution_count": 73,
   "id": "e3aae32c",
   "metadata": {},
   "outputs": [
    {
     "data": {
      "text/plain": [
       "167.99999999999997"
      ]
     },
     "execution_count": 73,
     "metadata": {},
     "output_type": "execute_result"
    }
   ],
   "source": [
    "M=np.array([[0,7,0],[0,2,6],[4,3,2]])\n",
    "np.linalg.det(M)"
   ]
  },
  {
   "cell_type": "markdown",
   "id": "132d0e52",
   "metadata": {},
   "source": [
    "#### Inversa\n",
    "También podemos encontrar la inversa de una matriz cuadrada de determinante no nulo con la **función inv.**"
   ]
  },
  {
   "cell_type": "code",
   "execution_count": 74,
   "id": "9201c05a",
   "metadata": {},
   "outputs": [
    {
     "data": {
      "text/plain": [
       "array([[-0.08333333, -0.08333333,  0.25      ],\n",
       "       [ 0.14285714,  0.        ,  0.        ],\n",
       "       [-0.04761905,  0.16666667,  0.        ]])"
      ]
     },
     "execution_count": 74,
     "metadata": {},
     "output_type": "execute_result"
    }
   ],
   "source": [
    "np.linalg.inv(M)"
   ]
  },
  {
   "cell_type": "code",
   "execution_count": null,
   "id": "bbe69846",
   "metadata": {},
   "outputs": [],
   "source": []
  }
 ],
 "metadata": {
  "kernelspec": {
   "display_name": "Python 3 (ipykernel)",
   "language": "python",
   "name": "python3"
  },
  "language_info": {
   "codemirror_mode": {
    "name": "ipython",
    "version": 3
   },
   "file_extension": ".py",
   "mimetype": "text/x-python",
   "name": "python",
   "nbconvert_exporter": "python",
   "pygments_lexer": "ipython3",
   "version": "3.8.12"
  }
 },
 "nbformat": 4,
 "nbformat_minor": 5
}
