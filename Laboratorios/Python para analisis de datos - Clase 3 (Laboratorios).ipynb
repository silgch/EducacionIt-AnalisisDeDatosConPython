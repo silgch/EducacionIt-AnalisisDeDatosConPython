{
 "cells": [
  {
   "cell_type": "markdown",
   "id": "3d215b7a",
   "metadata": {},
   "source": [
    "# Python para analisis de datos - Clase 3 (Laboratorios).ipynb"
   ]
  },
  {
   "cell_type": "markdown",
   "id": "5d43550b",
   "metadata": {},
   "source": [
    "## Módulo 03 - Laboratorio 01"
   ]
  },
  {
   "cell_type": "markdown",
   "id": "97bc5fc1",
   "metadata": {},
   "source": [
    "**Ejercicio 1**\n",
    "Construir arrays a partir de una lista simple y una lista anidada usando tipos de datos numéricos distintos para cada una."
   ]
  },
  {
   "cell_type": "code",
   "execution_count": 4,
   "id": "0e5d6862",
   "metadata": {},
   "outputs": [
    {
     "name": "stdout",
     "output_type": "stream",
     "text": [
      "Array 1D:\n",
      " [1 3 5 6]\n",
      "Array 2D:\n",
      " [[1. 3. 5. 6.]\n",
      " [5. 6. 8. 9.]]\n"
     ]
    }
   ],
   "source": [
    "import numpy as np\n",
    "b = np.array([[1,2,3,4],[5,6,7,8]])\n",
    "lista=[1,3,5,6]\n",
    "lista2=[5.0,6,8,9]\n",
    "array_1D=np.array(lista)\n",
    "array_2D=np.array([lista,lista2])\n",
    "print(\"Array 1D:\\n\", array_1D)\n",
    "print(\"Array 2D:\\n\",array_2D)"
   ]
  },
  {
   "cell_type": "code",
   "execution_count": 8,
   "id": "c61556b1",
   "metadata": {},
   "outputs": [
    {
     "data": {
      "text/plain": [
       "(array([[4., 8., 6.],\n",
       "        [2., 3., 5.],\n",
       "        [7., 5., 7.]], dtype=float32),\n",
       " dtype('float32'))"
      ]
     },
     "execution_count": 8,
     "metadata": {},
     "output_type": "execute_result"
    }
   ],
   "source": [
    "array = np.array([[4,8,6],[2,3,5],[7,5,7]], dtype=np.float32)\n",
    "array, array.dtype"
   ]
  },
  {
   "cell_type": "markdown",
   "id": "13c043d2",
   "metadata": {},
   "source": [
    "**Ejercicio 2**\n",
    "Construir una matriz de 4x5 a partir de:\n",
    "1. listas anidadas y\n",
    "2. números aleatorios"
   ]
  },
  {
   "cell_type": "code",
   "execution_count": 9,
   "id": "dbc1d34e",
   "metadata": {},
   "outputs": [
    {
     "data": {
      "text/plain": [
       "(array([[1, 2, 3, 4, 5],\n",
       "        [1, 2, 3, 4, 5],\n",
       "        [1, 2, 3, 4, 5],\n",
       "        [1, 2, 3, 4, 5]]),\n",
       " (4, 5))"
      ]
     },
     "execution_count": 9,
     "metadata": {},
     "output_type": "execute_result"
    }
   ],
   "source": [
    "matriz_45=np.array([[1,2,3,4,5],[1,2,3,4,5],[1,2,3,4,5],[1,2,3,4,5]])\n",
    "matriz_45, matriz_45.shape"
   ]
  },
  {
   "cell_type": "code",
   "execution_count": 10,
   "id": "97da3597",
   "metadata": {},
   "outputs": [
    {
     "data": {
      "text/plain": [
       "array([[ 5, 16, 77, 26,  7],\n",
       "       [52, 52, 47, 82, 92],\n",
       "       [48, 93, 65, 12, 70],\n",
       "       [12, 13, 60, 55, 80]])"
      ]
     },
     "execution_count": 10,
     "metadata": {},
     "output_type": "execute_result"
    }
   ],
   "source": [
    "np.random.randint(0,100,(4,5))"
   ]
  },
  {
   "cell_type": "markdown",
   "id": "d2dc07e2",
   "metadata": {},
   "source": [
    "**Ejercicio 3**\n",
    "Construir un array lineal de 36 elementos. Cambiar el shape para que tenga:\n",
    "1. 3 filas y 12 columnas\n",
    "2. 4 columnas\n",
    "3. dimensión 4"
   ]
  },
  {
   "cell_type": "code",
   "execution_count": 18,
   "id": "d1b6d285",
   "metadata": {},
   "outputs": [
    {
     "data": {
      "text/plain": [
       "4"
      ]
     },
     "execution_count": 18,
     "metadata": {},
     "output_type": "execute_result"
    }
   ],
   "source": [
    "array36= np.array([n for n in range(0,36)])\n",
    "array36, array36.shape\n",
    "#3 filas y 12 columnas\n",
    "array36.reshape(3,12)\n",
    "\n",
    "#4 columnas\n",
    "array36.reshape(9,4)\n",
    "\n",
    "#dimensión 4\n",
    "array36.reshape(2,2,3,3)\n",
    "array36.reshape(2,2,3,3).ndim"
   ]
  },
  {
   "cell_type": "markdown",
   "id": "40ff7f12",
   "metadata": {},
   "source": [
    "**Ejercicio 4**\n",
    "1. Dado un array de enteros de shape (4, 6) seleccionar:\n",
    "<br>\n",
    "a. El primer elemento de la primer fila<br>\n",
    "b. La segunda fila<br>\n",
    "c. La cuarta columna<br>\n",
    "d. Las columnas de índice par<br>\n",
    "e. Los elementos mayores a 7 (u otra condición a elección)<br>\n",
    "2. Al mismo array asignarle el valor 100 al último elemento de la última fila.\n",
    "3. Asignarle 0 a la quinta columna."
   ]
  },
  {
   "cell_type": "code",
   "execution_count": 22,
   "id": "4cbed4f3",
   "metadata": {},
   "outputs": [
    {
     "data": {
      "text/plain": [
       "array([[28, 35,  4, 21, 48, 70],\n",
       "       [75, 68, 43, 49, 48, 13],\n",
       "       [53, 23, 97, 69, 10,  2],\n",
       "       [99, 63, 75, 90, 20, 64]])"
      ]
     },
     "execution_count": 22,
     "metadata": {},
     "output_type": "execute_result"
    }
   ],
   "source": [
    "array46= np.random.randint(0,100,(4,6))\n",
    "array46"
   ]
  },
  {
   "cell_type": "code",
   "execution_count": 25,
   "id": "3ef01de1",
   "metadata": {},
   "outputs": [
    {
     "data": {
      "text/plain": [
       "28"
      ]
     },
     "execution_count": 25,
     "metadata": {},
     "output_type": "execute_result"
    }
   ],
   "source": [
    "#Primer elemento de la fila:\n",
    "array46[0,0]"
   ]
  },
  {
   "cell_type": "code",
   "execution_count": 26,
   "id": "431462e1",
   "metadata": {},
   "outputs": [
    {
     "data": {
      "text/plain": [
       "array([75, 68, 43, 49, 48, 13])"
      ]
     },
     "execution_count": 26,
     "metadata": {},
     "output_type": "execute_result"
    }
   ],
   "source": [
    "#La segunda fila\n",
    "array46[1,:]"
   ]
  },
  {
   "cell_type": "code",
   "execution_count": 28,
   "id": "943129c2",
   "metadata": {},
   "outputs": [
    {
     "data": {
      "text/plain": [
       "array([21, 49, 69, 90])"
      ]
     },
     "execution_count": 28,
     "metadata": {},
     "output_type": "execute_result"
    }
   ],
   "source": [
    "#La cuarta columna\n",
    "array46[:,3]"
   ]
  },
  {
   "cell_type": "code",
   "execution_count": 31,
   "id": "9d150247",
   "metadata": {},
   "outputs": [
    {
     "data": {
      "text/plain": [
       "array([[28,  4, 48],\n",
       "       [75, 43, 48],\n",
       "       [53, 97, 10],\n",
       "       [99, 75, 20]])"
      ]
     },
     "execution_count": 31,
     "metadata": {},
     "output_type": "execute_result"
    }
   ],
   "source": [
    "#Las columnas de índice par\n",
    "array46[:,::2]"
   ]
  },
  {
   "cell_type": "code",
   "execution_count": 32,
   "id": "b5be7212",
   "metadata": {},
   "outputs": [
    {
     "data": {
      "text/plain": [
       "array([28, 35, 21, 48, 70, 75, 68, 43, 49, 48, 13, 53, 23, 97, 69, 10, 99,\n",
       "       63, 75, 90, 20, 64])"
      ]
     },
     "execution_count": 32,
     "metadata": {},
     "output_type": "execute_result"
    }
   ],
   "source": [
    "#Los elementos mayores a 7 (u otra condición a elección)\n",
    "array46[array46>7]"
   ]
  },
  {
   "cell_type": "code",
   "execution_count": 37,
   "id": "b772dbde",
   "metadata": {},
   "outputs": [
    {
     "data": {
      "text/plain": [
       "array([[ 28,  35,   4,  21,  48,  70],\n",
       "       [ 75,  68,  43,  49,  48,  13],\n",
       "       [ 53,  23,  97,  69,  10,   2],\n",
       "       [ 99,  63,  75,  90,  20, 100]])"
      ]
     },
     "execution_count": 37,
     "metadata": {},
     "output_type": "execute_result"
    }
   ],
   "source": [
    "#Al mismo array asignarle el valor 100 al último elemento de la última fila.\n",
    "array46[3,5]=100  # Tambien podemos usar array46[-1,-1]\n",
    "array46"
   ]
  },
  {
   "cell_type": "code",
   "execution_count": 39,
   "id": "d481d5a8",
   "metadata": {},
   "outputs": [
    {
     "data": {
      "text/plain": [
       "array([[ 28,  35,   4,  21,   0,  70],\n",
       "       [ 75,  68,  43,  49,   0,  13],\n",
       "       [ 53,  23,  97,  69,   0,   2],\n",
       "       [ 99,  63,  75,  90,   0, 100]])"
      ]
     },
     "execution_count": 39,
     "metadata": {},
     "output_type": "execute_result"
    }
   ],
   "source": [
    "#Asignarle 0 a la quinta columna.\n",
    "array46[:,4]=0\n",
    "array46"
   ]
  },
  {
   "cell_type": "markdown",
   "id": "102a69f4",
   "metadata": {},
   "source": [
    "## Módulo 03 - Laboratorio 02"
   ]
  },
  {
   "cell_type": "markdown",
   "id": "55064914",
   "metadata": {},
   "source": [
    "**Ejercicios**\n"
   ]
  },
  {
   "cell_type": "markdown",
   "id": "88788443",
   "metadata": {},
   "source": [
    "1. Calcular los cubos de los primeros 15 naturales.\n"
   ]
  },
  {
   "cell_type": "code",
   "execution_count": 44,
   "id": "740b9c92",
   "metadata": {},
   "outputs": [
    {
     "data": {
      "text/plain": [
       "array([ 1,  2,  3,  4,  5,  6,  7,  8,  9, 10, 11, 12, 13, 14, 15])"
      ]
     },
     "execution_count": 44,
     "metadata": {},
     "output_type": "execute_result"
    }
   ],
   "source": [
    "lista_numeros15= np.array([n for n in range(1,16)])\n",
    "lista_numeros15"
   ]
  },
  {
   "cell_type": "markdown",
   "id": "4e0d8f22",
   "metadata": {},
   "source": [
    "2. Sumar la matriz identidad a una matriz llena de unos.\n"
   ]
  },
  {
   "cell_type": "code",
   "execution_count": 54,
   "id": "9fe434a7",
   "metadata": {},
   "outputs": [
    {
     "name": "stdout",
     "output_type": "stream",
     "text": [
      "Matriz de Unos \n",
      " [[1 1 1 1]\n",
      " [1 1 1 1]\n",
      " [1 1 1 1]\n",
      " [1 1 1 1]]\n",
      "Matriz identidad\n",
      " [[1 0 0 0]\n",
      " [0 1 0 0]\n",
      " [0 0 1 0]\n",
      " [0 0 0 1]]\n",
      "Matriz suma\n",
      " [[2 1 1 1]\n",
      " [1 2 1 1]\n",
      " [1 1 2 1]\n",
      " [1 1 1 2]]\n"
     ]
    }
   ],
   "source": [
    "matriz_unos= np.ones((4, 4), dtype=int)\n",
    "print(\"Matriz de Unos \\n\", matriz_unos)\n",
    "matriz_identidad= np.identity(4 , dtype=int)\n",
    "print(\"Matriz identidad\\n\", matriz_identidad)\n",
    "matriz_suma = matriz_identidad + matriz_unos\n",
    "print(\"Matriz suma\\n\", matriz_suma)"
   ]
  },
  {
   "cell_type": "markdown",
   "id": "fab19d99",
   "metadata": {},
   "source": [
    "3. Hacer una función que calcule grados Fahrenheit a partir de un array con grados Celsius.\n"
   ]
  },
  {
   "cell_type": "code",
   "execution_count": 63,
   "id": "f49a413d",
   "metadata": {},
   "outputs": [
    {
     "name": "stdout",
     "output_type": "stream",
     "text": [
      "Temperaturas en Celsius: \n",
      " [35.53476588 11.50326643  7.19696959  4.95316677 41.33246461 40.94722174\n",
      " 49.63457491  2.82702351 33.83457231 23.03578732]\n",
      "Temperaturas en Fahrenheit: \n",
      " [ 95.96257858  52.70587957  44.95454527  40.91570019 106.3984363\n",
      " 105.70499914 121.34223483  37.08864233  92.90223016  73.46441718]\n"
     ]
    }
   ],
   "source": [
    "def celsius_to_fahrenheit(array_en_celsius):\n",
    "    #ºF = (ºC · 1,8) + 32\n",
    "    return (array_en_celsius*1.8 + 32)\n",
    "\n",
    "#Ejemplo:\n",
    "\n",
    "temperaturas= np.random.default_rng().uniform(0,50,10)\n",
    "print(\"Temperaturas en Celsius: \\n\", temperaturas)\n",
    "\n",
    "print(\"Temperaturas en Fahrenheit: \\n\", celsius_to_fahrenheit(temperaturas))"
   ]
  },
  {
   "cell_type": "markdown",
   "id": "fd8b3976",
   "metadata": {},
   "source": [
    "4. Hacer una función que tome dos arrays (peso y altura) y calcule el índice de masa corporal.\n"
   ]
  },
  {
   "cell_type": "code",
   "execution_count": 65,
   "id": "893a2f50",
   "metadata": {},
   "outputs": [
    {
     "name": "stdout",
     "output_type": "stream",
     "text": [
      "Pesos: \n",
      " [58.46943706 71.839487   87.81991682 77.54002844 87.89307537 91.48379239\n",
      " 63.70916195 79.87763629 71.39748824 60.4464169 ]\n",
      "Alturas: \n",
      " [158.15666838 145.49317894 178.025677   184.95614376 166.70070385\n",
      " 170.05893752 139.96211738 145.66463118 137.18749831 140.05346958]\n",
      "IMC: \n",
      " [23.37512257 33.93735226 27.70943876 22.66670706 31.62858724 31.63335367\n",
      " 32.5222725  37.64583876 37.93620299 30.81646493]\n"
     ]
    }
   ],
   "source": [
    "def imc (peso, altura):\n",
    "    return peso/altura/altura*100*100\n",
    "\n",
    "peso=  np.random.default_rng().uniform(40,100,10)\n",
    "altura=  np.random.default_rng().uniform(130,190,10)\n",
    "\n",
    "print(\"Pesos: \\n\", peso)\n",
    "\n",
    "print(\"Alturas: \\n\", altura)\n",
    "\n",
    "print(\"IMC: \\n\", imc(peso, altura))"
   ]
  },
  {
   "cell_type": "markdown",
   "id": "db64831f",
   "metadata": {},
   "source": [
    "5. Crear una matriz de 4x5 llena de ceros. Sumar 10 a la tercera columna usando broadcasting.\n"
   ]
  },
  {
   "cell_type": "code",
   "execution_count": 71,
   "id": "6f17e0a2",
   "metadata": {},
   "outputs": [
    {
     "name": "stdout",
     "output_type": "stream",
     "text": [
      "Matriz de CEROS \n",
      " [[0 0 0 0 0]\n",
      " [0 0 0 0 0]\n",
      " [0 0 0 0 0]\n",
      " [0 0 0 0 0]]\n",
      "Matriz de CEROS \n",
      " [[ 0  0 10  0  0]\n",
      " [ 0  0 10  0  0]\n",
      " [ 0  0 10  0  0]\n",
      " [ 0  0 10  0  0]]\n"
     ]
    }
   ],
   "source": [
    "matriz_ceros= np.zeros((4, 5),  dtype=int)\n",
    "print(\"Matriz de CEROS \\n\", matriz_ceros)\n",
    "matriz_ceros[:,2]=matriz_ceros[:,2] + 10\n",
    "print(\"Matriz de CEROS \\n\", matriz_ceros)"
   ]
  },
  {
   "cell_type": "markdown",
   "id": "1ab93779",
   "metadata": {},
   "source": [
    "6. Encontrar los elementos de un array que son menores a los logaritmos al cuadrado de los elementos de otro array"
   ]
  },
  {
   "cell_type": "code",
   "execution_count": 78,
   "id": "a6f7b688",
   "metadata": {},
   "outputs": [
    {
     "name": "stdout",
     "output_type": "stream",
     "text": [
      "El array inicial es \n",
      " [[12  4  4 19 17  4 11  7  1  4]\n",
      " [ 9  3 11 10 14 19 15  1  5 13]\n",
      " [17  1 12  5  4 15  4  9  6  7]\n",
      " [ 5  9 12  8 19 19 11  9 10  2]\n",
      " [14 14  6 11 19 15 18  9 13 19]\n",
      " [18  6 10 14  8  2 10  4  1  2]\n",
      " [ 8  6  9  4  3 15 19 19 12  7]\n",
      " [ 3  6 18  9  2  5 10 10  8 19]\n",
      " [14 11  1 12  4  5  4 10  1 17]\n",
      " [19 14 13 15 15 11  3 12  6 12]]\n",
      "El array de calculo comparativo  es \n",
      " [[17 12  3  6 11 10 17  6 15  2]\n",
      " [17  1 13 17  5  4  6 10  5  3]\n",
      " [14 16  8 12 19  3 16 14  7  8]\n",
      " [10 16 13  4 12 19  3 14 10 16]\n",
      " [11  8  7 11  7  4 12  5 17  2]\n",
      " [17 19  9 17 17  8 17  6  9 12]\n",
      " [ 5  6  4 14  7 12 19 15  7  7]\n",
      " [ 5  9 19 17  6 14  6  8  6 18]\n",
      " [ 6 17 18 11  2  3  5  9 10 14]\n",
      " [18  9 17 16 19  5  9 19 11 10]]\n",
      "\n",
      "Los elementos de un array que son menores a los logaritmos al cuadrado de los elementos son: \n",
      " [4 4 1 1 1 5 4 4 5 2 6 8 2 1 2 4 3 2 5 1 1 3]\n"
     ]
    }
   ],
   "source": [
    "array_inicial = np.random.randint(1,20,(10,10))\n",
    "array_temporal = np.random.randint(1,20,(10,10))\n",
    "print(\"El array inicial es \\n\", array_inicial)\n",
    "print(\"El array de calculo comparativo  es \\n\", array_temporal)\n",
    "\n",
    "\n",
    "array_resultado= array_inicial[array_inicial< np.log(array_temporal)**2]\n",
    "print(\"\\nLos elementos de un array que son menores a los logaritmos al cuadrado de los elementos son: \\n\", array_resultado)"
   ]
  },
  {
   "cell_type": "markdown",
   "id": "5cb4121e",
   "metadata": {},
   "source": [
    "## Módulo 03 - Laboratorio 03"
   ]
  },
  {
   "cell_type": "markdown",
   "id": "3b8210c4",
   "metadata": {},
   "source": [
    "**Ejercicios**\n",
    "1. Crear un array a partir del archivo “numeros.csv”\n",
    "2. ¿Cuántas filas y columnas tiene?\n",
    "3. Realizar las siguientes estadísticas para todas las columnas: promedio, desviación standard, mínimo y máximo\n",
    "4. ¿Qué columna tiene mayor dispersión?\n",
    "5. ¿Qué columna abarca un rango de números más amplio?"
   ]
  },
  {
   "cell_type": "code",
   "execution_count": 82,
   "id": "3598896c",
   "metadata": {},
   "outputs": [
    {
     "name": "stdout",
     "output_type": "stream",
     "text": [
      "[[ 4.813  3.892 15.295 14.966 -2.629 10.321]\n",
      " [ 6.281  1.71  15.081 11.82  -5.391  9.507]\n",
      " [ 5.923  4.602 14.809  8.604 -2.694  9.48 ]\n",
      " ...\n",
      " [ 4.408  2.114 15.326  8.805 -3.355 11.287]\n",
      " [ 6.437  2.542 15.378 13.038 -4.922 11.014]\n",
      " [ 6.665  0.87  15.143 17.716 -3.466  8.881]]\n"
     ]
    }
   ],
   "source": [
    "#Crear un array a partir del archivo “numeros.csv”\n",
    "from numpy import genfromtxt\n",
    "data = genfromtxt('../Recursos/numeros.csv', delimiter=' ', skip_header = 0)\n",
    "print(data)"
   ]
  },
  {
   "cell_type": "code",
   "execution_count": 99,
   "id": "b734540f",
   "metadata": {},
   "outputs": [
    {
     "name": "stdout",
     "output_type": "stream",
     "text": [
      "Filas: 50000\n",
      "Columnas: 6\n"
     ]
    }
   ],
   "source": [
    "# ¿Cuántas filas y columnas tiene?\n",
    "print(\"Filas:\", data.shape[0])\n",
    "print(\"Columnas:\", data.shape[1])"
   ]
  },
  {
   "cell_type": "code",
   "execution_count": 100,
   "id": "881528dc",
   "metadata": {},
   "outputs": [
    {
     "name": "stdout",
     "output_type": "stream",
     "text": [
      "La suma de todos lo elementos es: \n",
      " 2101382.556\n",
      "La suma de todos lo elementos de cada columna es: \n",
      " [ 299987.07   100346.057  750127.715  601532.993 -150395.556  499784.277]\n",
      "El promedio detodos lo elementos de cada columna es: \n",
      " [ 5.9997414   2.00692114 15.0025543  12.03065986 -3.00791112  9.99568554]\n",
      "El desvio estandard detodos lo elementos de cada columna es: \n",
      " [1.00023883 2.00229762 0.4993279  3.00265157 2.496453   1.50167353]\n",
      "El minimo de todos lo elementos de cada columna es: \n",
      " [  1.639  -6.068  12.767   0.015 -13.386   4.398]\n",
      "El maximo de todos lo elementos de cada columna es: \n",
      " [10.409 11.162 17.09  23.678  7.668 16.516]\n"
     ]
    }
   ],
   "source": [
    "# Realizar las siguientes estadísticas para todas las columnas: promedio, desviación standard, mínimo y máximo\n",
    "print(\"La suma de todos lo elementos es: \\n\" , data.sum() )\n",
    "print(\"La suma de todos lo elementos de cada columna es: \\n\" , data.sum(axis=0) )\n",
    "print(\"El promedio detodos lo elementos de cada columna es: \\n\" , data.mean(axis=0) )\n",
    "print(\"El desvio estandard detodos lo elementos de cada columna es: \\n\" , data.std(axis=0) )\n",
    "print(\"El minimo de todos lo elementos de cada columna es: \\n\" , data.min(axis=0) )\n",
    "print(\"El maximo de todos lo elementos de cada columna es: \\n\" , data.max(axis=0) )\n"
   ]
  },
  {
   "cell_type": "code",
   "execution_count": 93,
   "id": "addb2706",
   "metadata": {},
   "outputs": [
    {
     "name": "stdout",
     "output_type": "stream",
     "text": [
      "La columna con mayor dispersion es : \n",
      " 3\n"
     ]
    }
   ],
   "source": [
    "# ¿Qué columna tiene mayor dispersión?\n",
    "print(\"La columna con mayor dispersion es : \\n\" , np.argmax(data.std(axis=0)) )"
   ]
  },
  {
   "cell_type": "code",
   "execution_count": 98,
   "id": "824e0a13",
   "metadata": {},
   "outputs": [
    {
     "name": "stdout",
     "output_type": "stream",
     "text": [
      "La diferencia entre el valor maximo y minimo de cada columna es: \n",
      " [ 8.77  17.23   4.323 23.663 21.054 12.118]\n",
      "La columna que abarca un rango de numeros mas amplio  es: \n",
      " 3\n"
     ]
    }
   ],
   "source": [
    "#  ¿Qué columna abarca un rango de números más amplio?\n",
    "print(\"La diferencia entre el valor maximo y minimo de cada columna es: \\n\" , data.max(axis=0) - data.min(axis=0)  )\n",
    "print(\"La columna que abarca un rango de numeros mas amplio  es: \\n\" ,np.argmax(data.max(axis=0) - data.min(axis=0) ))"
   ]
  },
  {
   "cell_type": "markdown",
   "id": "5bdb8388",
   "metadata": {},
   "source": [
    "## Módulo 03 - Laboratorio 04"
   ]
  },
  {
   "cell_type": "markdown",
   "id": "990c8452",
   "metadata": {},
   "source": [
    "**Ejercicios**\n",
    "1. Crear un vector de diez números al azar.\n",
    "2. Calcular la norma del vector usando:\n",
    "<ul>\n",
    "a. producto escalar.<br>\n",
    "b. función a tal efecto.\n",
    "</ul>\n",
    "3. Crear una matriz de 2x3 y multiplicarla por su traspuesta.\n",
    "4. Multiplicar la matriz identidad por un vector columna."
   ]
  },
  {
   "cell_type": "code",
   "execution_count": 102,
   "id": "88bf6baf",
   "metadata": {},
   "outputs": [
    {
     "name": "stdout",
     "output_type": "stream",
     "text": [
      "[ 1.05809655 -0.05859757  2.96227287 -0.63014122 -0.0131815   0.19330076\n",
      "  0.76834703 -0.02649708  0.21181833  0.06937685]\n"
     ]
    }
   ],
   "source": [
    "# Crear un vector de diez números al azar.\n",
    "vector= np.random.randn(10)\n",
    "print(vector)"
   ]
  },
  {
   "cell_type": "code",
   "execution_count": 104,
   "id": "815a02c9",
   "metadata": {},
   "outputs": [
    {
     "name": "stdout",
     "output_type": "stream",
     "text": [
      "El producto escalar es(Calculado con dot):  3.3126151087302738\n",
      "El producto escalar es(Calculado con linalg) :  3.3126151087302738\n"
     ]
    }
   ],
   "source": [
    "# Calcular la norma del vector usando:\n",
    "\n",
    "    #a. producto escalar.\n",
    "print(\"El producto escalar es(Calculado con dot): \", np.sqrt(vector.dot(vector)))\n",
    "    #b. función a tal efecto.\n",
    "print(\"El producto escalar es(Calculado con linalg.norm ) : \",    np.linalg.norm(vector))"
   ]
  },
  {
   "cell_type": "code",
   "execution_count": 109,
   "id": "4ffa2b2b",
   "metadata": {},
   "outputs": [
    {
     "name": "stdout",
     "output_type": "stream",
     "text": [
      "La matriz es: \n",
      " [[7 4 3]\n",
      " [1 1 1]]\n",
      "La matriz transpuesta es: \n",
      " [[7 1]\n",
      " [4 1]\n",
      " [3 1]]\n",
      "El producto vectorial con su transpuesta es: \n",
      " [[74 14]\n",
      " [14  3]]\n"
     ]
    }
   ],
   "source": [
    "# Crear una matriz de 2x3 y multiplicarla por su traspuesta.\n",
    "matriz= np.random.randint(0,9,(2,3))\n",
    "print(\"La matriz de 2x3 es: \\n\", matriz)\n",
    "print(\"La matriz transpuesta es: \\n\", matriz.T)\n",
    "print(\"El producto vectorial con su transpuesta es: \\n\", matriz.dot(matriz.T))"
   ]
  },
  {
   "cell_type": "code",
   "execution_count": 110,
   "id": "a9aaad60",
   "metadata": {},
   "outputs": [
    {
     "name": "stdout",
     "output_type": "stream",
     "text": [
      "Matriz identidad: n [[1. 0. 0. 0. 0. 0. 0. 0. 0. 0.]\n",
      " [0. 1. 0. 0. 0. 0. 0. 0. 0. 0.]\n",
      " [0. 0. 1. 0. 0. 0. 0. 0. 0. 0.]\n",
      " [0. 0. 0. 1. 0. 0. 0. 0. 0. 0.]\n",
      " [0. 0. 0. 0. 1. 0. 0. 0. 0. 0.]\n",
      " [0. 0. 0. 0. 0. 1. 0. 0. 0. 0.]\n",
      " [0. 0. 0. 0. 0. 0. 1. 0. 0. 0.]\n",
      " [0. 0. 0. 0. 0. 0. 0. 1. 0. 0.]\n",
      " [0. 0. 0. 0. 0. 0. 0. 0. 1. 0.]\n",
      " [0. 0. 0. 0. 0. 0. 0. 0. 0. 1.]]\n",
      "Vector columna: \n",
      " [[3]\n",
      " [2]\n",
      " [0]\n",
      " [7]\n",
      " [0]\n",
      " [1]\n",
      " [2]\n",
      " [0]\n",
      " [5]\n",
      " [7]]\n",
      "Producto de la matriz identidad por el vector columna: \n",
      " [[3.]\n",
      " [2.]\n",
      " [0.]\n",
      " [7.]\n",
      " [0.]\n",
      " [1.]\n",
      " [2.]\n",
      " [0.]\n",
      " [5.]\n",
      " [7.]]\n"
     ]
    }
   ],
   "source": [
    "# Multiplicar la matriz identidad por un vector columna.\n",
    "I = np.identity(10)\n",
    "vector_columna = np.random.randint(0,9,(10,1))\n",
    "print(\"Matriz identidad: n\", I)\n",
    "print(\"Vector columna: \\n\", vector_columna)\n",
    "print(\"Producto de la matriz identidad por el vector columna: \\n\", I.dot(vector_columna))"
   ]
  },
  {
   "cell_type": "code",
   "execution_count": null,
   "id": "6fe364f8",
   "metadata": {},
   "outputs": [],
   "source": []
  }
 ],
 "metadata": {
  "kernelspec": {
   "display_name": "Python 3 (ipykernel)",
   "language": "python",
   "name": "python3"
  },
  "language_info": {
   "codemirror_mode": {
    "name": "ipython",
    "version": 3
   },
   "file_extension": ".py",
   "mimetype": "text/x-python",
   "name": "python",
   "nbconvert_exporter": "python",
   "pygments_lexer": "ipython3",
   "version": "3.8.12"
  }
 },
 "nbformat": 4,
 "nbformat_minor": 5
}
