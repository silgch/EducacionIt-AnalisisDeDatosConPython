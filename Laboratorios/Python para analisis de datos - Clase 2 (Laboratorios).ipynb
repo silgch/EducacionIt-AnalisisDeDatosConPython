{
 "cells": [
  {
   "cell_type": "markdown",
   "id": "26265a9d",
   "metadata": {},
   "source": [
    "# Python para Análisis de Datos"
   ]
  },
  {
   "cell_type": "markdown",
   "id": "c43f0d78",
   "metadata": {},
   "source": [
    "## Módulo 02 - Laboratorio 01\n"
   ]
  },
  {
   "cell_type": "markdown",
   "id": "2cd05418",
   "metadata": {},
   "source": [
    "**Ejercicio 1**\n",
    "Construir una función que dado un iterable,\n",
    "devuelva un diccionario con las frecuencias\n",
    "de sus elementos."
   ]
  },
  {
   "cell_type": "code",
   "execution_count": 31,
   "id": "ef329fea",
   "metadata": {},
   "outputs": [],
   "source": [
    "def frecuencia(args):\n",
    "    dicc = {}\n",
    "    for arg in args:\n",
    "        if(arg in dicc.keys()):\n",
    "            dicc[arg] +=  1\n",
    "        else:\n",
    "            dicc[arg] = 1\n",
    "    for key in dicc:\n",
    "        print (key, \":\", dicc[key])\n",
    "\n",
    "        \n",
    "    "
   ]
  },
  {
   "cell_type": "code",
   "execution_count": 2,
   "id": "bd557a8a",
   "metadata": {},
   "outputs": [
    {
     "data": {
      "text/plain": [
       "dict_keys(['nombre', 'edad', 'cursos'])"
      ]
     },
     "execution_count": 2,
     "metadata": {},
     "output_type": "execute_result"
    }
   ],
   "source": [
    "diccionario = {'nombre' : 'Carlos', 'edad' : 22, 'cursos': ['Python','Django','JavaScript'] }\n",
    "diccionario.keys()"
   ]
  },
  {
   "cell_type": "code",
   "execution_count": 33,
   "id": "33d8f99e",
   "metadata": {},
   "outputs": [
    {
     "name": "stdout",
     "output_type": "stream",
     "text": [
      "carlos : 2\n",
      "fernando : 1\n",
      "pedro : 1\n",
      "maria : 1\n",
      "juan : 1\n",
      "lolo : 1\n",
      "silvina : 1\n",
      "martina : 1\n",
      "beatriz : 1\n",
      "patricia : 2\n"
     ]
    }
   ],
   "source": [
    "#Probamos como funciona: \n",
    "tupla = (\"carlos\",\"fernando\",\"carlos\",\"pedro\",\"maria\", \"juan\",\"lolo\", \"silvina\",\"martina\",\"beatriz\",\"patricia\",\"patricia\")\n",
    "\n",
    "frecuencia(tupla)"
   ]
  },
  {
   "cell_type": "markdown",
   "id": "046f87e2",
   "metadata": {},
   "source": [
    "**Ejercicio 2** Construir una función que se llame suma_acotados.\n",
    "Esta función debe tomar un número arbitrario de argumentos posicionales y un keyword argument\n",
    "llamado cota, que por defecto debe tener el valor None. Si el argumento cota es None, debe sumar todos los números, si no debe sumar los números\n",
    "que se encuentren entre –cota y cota."
   ]
  },
  {
   "cell_type": "code",
   "execution_count": 44,
   "id": "67d268e7",
   "metadata": {},
   "outputs": [
    {
     "data": {
      "text/plain": [
       "1"
      ]
     },
     "execution_count": 44,
     "metadata": {},
     "output_type": "execute_result"
    }
   ],
   "source": [
    "def suma_acotados(*args, cota= None):\n",
    "    suma = 0\n",
    "    for numero in args:\n",
    "        if(cota==None):\n",
    "            suma += numero\n",
    "        else:\n",
    "            if(-cota <= numero <= cota):\n",
    "                   suma += numero\n",
    "    return suma\n",
    "\n",
    "\n",
    "    "
   ]
  },
  {
   "cell_type": "code",
   "execution_count": 45,
   "id": "2ba69206",
   "metadata": {},
   "outputs": [
    {
     "name": "stdout",
     "output_type": "stream",
     "text": [
      "La suma de 1,2,3 sin cota es:  6\n",
      "La suma de 1,2,3 con  cota  1 es:  1\n",
      "La suma de 1,2,3 con  cota  2 es:  3\n",
      "La suma de 1,2,3 con  cota  10 es:  6\n"
     ]
    }
   ],
   "source": [
    "#Probamos como funciona:\n",
    "print(\"La suma de 1,2,3 sin cota es: \", suma_acotados(1,2,3) )\n",
    "print(\"La suma de 1,2,3 con  cota  1 es: \", suma_acotados(1,2,3, cota=1))\n",
    "print(\"La suma de 1,2,3 con  cota  2 es: \", suma_acotados(1,2,3, cota=2))\n",
    "print(\"La suma de 1,2,3 con  cota  10 es: \", suma_acotados(1,2,3, cota=10))"
   ]
  },
  {
   "cell_type": "markdown",
   "id": "99afbc19",
   "metadata": {},
   "source": [
    "## Módulo 02 - Laboratorio 02 \"Funciones de orden superior\""
   ]
  },
  {
   "cell_type": "markdown",
   "id": "68431366",
   "metadata": {},
   "source": [
    "Se entiende por funciones de orden superior a aquellas funciones que toman a otras funciones como parámetros o devuelven a una función.\n",
    "En Python las funciones son objetos también. \n",
    "Algunas funciones de orden superior incorporadas a Python: \n",
    "<ul>\n",
    "    <li> <b>map() </b>Aplica una funcion a todos sus elementos. Esta función retorna un <b>generador,</b> es decir, sus elementos no son calculados hasta que sea explicitamente requerido.</li>\n",
    "    <li> <b>filter()</b> Permite seleccionar elementos de un iterable utilizando a otra función para decidir  a que elementos seleccionar (La función debe retornar True o False). Esta función retorna un <b>generador,</b></li>\n",
    "</ul>"
   ]
  },
  {
   "cell_type": "markdown",
   "id": "7935309e",
   "metadata": {},
   "source": [
    "**Ejercicio 1**\n",
    "1. Crear una función que dado un string cree una tupla con el string y la cantidad de caracteres del string.\n",
    "2. Luego, dada una lista de strings, crear otra lista con el resultado de aplicar la función a cada string:<br>\n",
    "● Usando bucles <br>\n",
    "● Usando listas por comprensión<br>\n",
    "● Usando la función map<br>"
   ]
  },
  {
   "cell_type": "code",
   "execution_count": 48,
   "id": "d54a28de",
   "metadata": {},
   "outputs": [
    {
     "name": "stdout",
     "output_type": "stream",
     "text": [
      "('Hola', 4)\n"
     ]
    }
   ],
   "source": [
    "def string_len(string):\n",
    "    ''' Retorna una tupla con el string pasado como parametro y la cantidad de caracteres del mismo'''\n",
    "    return  (string,len(string))\n",
    "    \n",
    "print(string_len(\"Hola\"))       "
   ]
  },
  {
   "cell_type": "code",
   "execution_count": 58,
   "id": "6dcb4415",
   "metadata": {},
   "outputs": [
    {
     "name": "stdout",
     "output_type": "stream",
     "text": [
      "BUCLES\n",
      "[('Hola', 4), ('Chau', 4), ('Nos vemos', 9)]\n",
      "\n",
      "LISTAS POR COMPRENSION\n",
      "[('Hola', 4), ('Chau', 4), ('Nos vemos', 9)]\n",
      "\n",
      "MAP\n"
     ]
    },
    {
     "data": {
      "text/plain": [
       "[('Hola', 4), ('Chau', 4), ('Nos vemos', 9)]"
      ]
     },
     "execution_count": 58,
     "metadata": {},
     "output_type": "execute_result"
    }
   ],
   "source": [
    "#dada una lista de strings, crear otra lista con el resultado de aplicar la función a cada string\n",
    "\n",
    "lista = [\"Hola\",\"Chau\",\"Nos vemos\"]\n",
    "\n",
    "#Usando bucles\n",
    "print(\"BUCLES\")\n",
    "resultado=[]\n",
    "for item in lista:\n",
    "    resultado.append(string_len(item))\n",
    "print(resultado)\n",
    "\n",
    "#Usando listas por comprensión\n",
    "print(\"\\nLISTAS POR COMPRENSION\")\n",
    "print([string_len(item) for item in lista])\n",
    "\n",
    "#Usando la función map\n",
    "print(\"\\nMAP\")\n",
    "list( map(string_len, lista) )"
   ]
  },
  {
   "cell_type": "markdown",
   "id": "05b27059",
   "metadata": {},
   "source": [
    "**Ejercicio 2**\n",
    "Dada una lista de números usar filter para seleccionar los números que estén en el rango [8,20] y sean pares."
   ]
  },
  {
   "cell_type": "code",
   "execution_count": 62,
   "id": "be3f3fe3",
   "metadata": {},
   "outputs": [
    {
     "data": {
      "text/plain": [
       "[8, 14, 20]"
      ]
     },
     "execution_count": 62,
     "metadata": {},
     "output_type": "execute_result"
    }
   ],
   "source": [
    "numeros=[2,5,6,8,9,22,45,3,46,97,14,64,20]\n",
    "def cumple(numero):\n",
    "    return 8<=numero<=20 and numero%2==0\n",
    "list(filter(cumple, numeros))"
   ]
  },
  {
   "cell_type": "markdown",
   "id": "9ec5b0e7",
   "metadata": {},
   "source": [
    "## Módulo 02 - Laboratorio 03 \"Funciones anonimas\""
   ]
  },
  {
   "cell_type": "markdown",
   "id": "1116a20b",
   "metadata": {},
   "source": [
    "Python permite definir pequeñas funciones sin nombre: las funciones anónimas o lambda. Estas funciones no tienen nombre y su cuerpo está limitado a una única expresión. Para definirlas se utiliza la **palabra reservada lambda** seguida de los parámetros que tome la función y luego de los dos puntos sigue la expresión a evaluar y devolver."
   ]
  },
  {
   "cell_type": "markdown",
   "id": "b338c400",
   "metadata": {},
   "source": [
    "**Ejercicio 1** Rehacer los ejercicios del laboratorio 2 usando funciones lambda."
   ]
  },
  {
   "cell_type": "code",
   "execution_count": 68,
   "id": "ac82a416",
   "metadata": {},
   "outputs": [
    {
     "data": {
      "text/plain": [
       "[('Hola', 4), ('Chau', 4), ('Nos vemos', 9)]"
      ]
     },
     "execution_count": 68,
     "metadata": {},
     "output_type": "execute_result"
    }
   ],
   "source": [
    "#Ejercicio 1\n",
    "list( map(lambda palabra: (palabra,len(palabra)) ,lista))\n"
   ]
  },
  {
   "cell_type": "code",
   "execution_count": 69,
   "id": "3ccb8760",
   "metadata": {},
   "outputs": [
    {
     "data": {
      "text/plain": [
       "[8, 14, 20]"
      ]
     },
     "execution_count": 69,
     "metadata": {},
     "output_type": "execute_result"
    }
   ],
   "source": [
    "#Ejercicio 2\n",
    "list( filter((lambda numero: 8<=numero<=20 and numero%2==0) ,numeros))"
   ]
  },
  {
   "cell_type": "markdown",
   "id": "9fc56b84",
   "metadata": {},
   "source": [
    "**Ejercicio 2** Dada una lista de strings, usar filter y lambda para seleccionar solamente los strings que tengan más de seis caracteres."
   ]
  },
  {
   "cell_type": "code",
   "execution_count": 75,
   "id": "40c6f1bb",
   "metadata": {},
   "outputs": [
    {
     "data": {
      "text/plain": [
       "['bicicleta']"
      ]
     },
     "execution_count": 75,
     "metadata": {},
     "output_type": "execute_result"
    }
   ],
   "source": [
    "lista_string=[\"Habia\",\"una\",\"vez\",\"un\",\"payaso\",\"con\",\"una\", \"bicicleta\"]\n",
    "list(filter(lambda palabra: len(palabra)>6,lista_string))"
   ]
  },
  {
   "cell_type": "markdown",
   "id": "bec5a51a",
   "metadata": {},
   "source": [
    "**Ejercicio 3**\n",
    "Supongamos que tenemos una lista de tuplas en donde cada una contiene el nombre de un producto y el precio correspondiente (por ejemplo:\n",
    "[(\"Campera\", 3500), (\"Mochila\", 2400), (\"Zapatillas\", 5200), (\"Jean\", 1600)]). Ordenar los productos según su precio de mayor a menor usando sorted, map y funciones lambda."
   ]
  },
  {
   "cell_type": "code",
   "execution_count": 77,
   "id": "b467e082",
   "metadata": {},
   "outputs": [
    {
     "data": {
      "text/plain": [
       "['Zapatillas', 'Campera', 'Mochila', 'Jean']"
      ]
     },
     "execution_count": 77,
     "metadata": {},
     "output_type": "execute_result"
    }
   ],
   "source": [
    "productos= [(\"Campera\", 3500), (\"Mochila\", 2400), (\"Zapatillas\", 5200), (\"Jean\", 1600)]\n",
    "list(map(lambda x: x[0], sorted(productos, key=lambda x: x[1], reverse=True)))"
   ]
  },
  {
   "cell_type": "markdown",
   "id": "71094a52",
   "metadata": {},
   "source": [
    "## Módulo 02 - Laboratorio 04 \"Modulos\""
   ]
  },
  {
   "cell_type": "markdown",
   "id": "6ff3b942",
   "metadata": {},
   "source": [
    "**Ejercicios**\n",
    "1. Importar el módulo random con un alias\n",
    "2. Importar la función sqrt del módulo math\n",
    "3. Generar una lista con cien números aleatorios (usar cualquier distribución).\n",
    "4. A partir de esa lista, generar otra con las raíces cuadradas de esos números."
   ]
  },
  {
   "cell_type": "code",
   "execution_count": 79,
   "id": "c32a5b09",
   "metadata": {},
   "outputs": [],
   "source": [
    "# Importar el módulo random con un alias\n",
    "import random as ran"
   ]
  },
  {
   "cell_type": "code",
   "execution_count": 80,
   "id": "9863fbfc",
   "metadata": {},
   "outputs": [],
   "source": [
    "# Importar la función sqrt del módulo math\n",
    "from math import sqrt"
   ]
  },
  {
   "cell_type": "code",
   "execution_count": 83,
   "id": "68499520",
   "metadata": {},
   "outputs": [
    {
     "name": "stdout",
     "output_type": "stream",
     "text": [
      "[52, 74, 36, 56, 65, 41, 92, 75, 71, 45, 36, 30, 29, 51, 90, 91, 29, 57, 89, 70, 47, 91, 30, 12, 49, 92, 82, 34, 26, 49, 31, 8, 17, 39, 77, 66, 14, 10, 15, 94, 67, 3, 32, 72, 31, 5, 58, 79, 79, 17, 23, 84, 26, 76, 22, 56, 24, 95, 15, 48, 1, 47, 95, 87, 12, 76, 100, 29, 90, 75, 52, 27, 59, 82, 39, 65, 91, 76, 96, 91, 25, 100, 31, 81, 4, 34, 25, 98, 46, 85, 1, 26, 15, 97, 79, 89, 70, 12, 46]\n"
     ]
    }
   ],
   "source": [
    "# Generar una lista con cien números aleatorios (usar cualquier distribución).\n",
    "lista_random=[]\n",
    "for i in range(1,100): \n",
    "    lista_random.append(ran.randint(0,100))\n",
    "    \n",
    "print(lista_random)"
   ]
  },
  {
   "cell_type": "code",
   "execution_count": 87,
   "id": "a7463e4d",
   "metadata": {},
   "outputs": [
    {
     "data": {
      "text/plain": [
       "[7.211102550927978,\n",
       " 8.602325267042627,\n",
       " 6.0,\n",
       " 7.483314773547883,\n",
       " 8.06225774829855,\n",
       " 6.4031242374328485,\n",
       " 9.591663046625438,\n",
       " 8.660254037844387,\n",
       " 8.426149773176359,\n",
       " 6.708203932499369,\n",
       " 6.0,\n",
       " 5.477225575051661,\n",
       " 5.385164807134504,\n",
       " 7.14142842854285,\n",
       " 9.486832980505138,\n",
       " 9.539392014169456,\n",
       " 5.385164807134504,\n",
       " 7.54983443527075,\n",
       " 9.433981132056603,\n",
       " 8.366600265340756,\n",
       " 6.855654600401044,\n",
       " 9.539392014169456,\n",
       " 5.477225575051661,\n",
       " 3.4641016151377544,\n",
       " 7.0,\n",
       " 9.591663046625438,\n",
       " 9.055385138137417,\n",
       " 5.830951894845301,\n",
       " 5.0990195135927845,\n",
       " 7.0,\n",
       " 5.5677643628300215,\n",
       " 2.8284271247461903,\n",
       " 4.123105625617661,\n",
       " 6.244997998398398,\n",
       " 8.774964387392123,\n",
       " 8.12403840463596,\n",
       " 3.7416573867739413,\n",
       " 3.1622776601683795,\n",
       " 3.872983346207417,\n",
       " 9.695359714832659,\n",
       " 8.18535277187245,\n",
       " 1.7320508075688772,\n",
       " 5.656854249492381,\n",
       " 8.48528137423857,\n",
       " 5.5677643628300215,\n",
       " 2.23606797749979,\n",
       " 7.615773105863909,\n",
       " 8.888194417315589,\n",
       " 8.888194417315589,\n",
       " 4.123105625617661,\n",
       " 4.795831523312719,\n",
       " 9.16515138991168,\n",
       " 5.0990195135927845,\n",
       " 8.717797887081348,\n",
       " 4.69041575982343,\n",
       " 7.483314773547883,\n",
       " 4.898979485566356,\n",
       " 9.746794344808963,\n",
       " 3.872983346207417,\n",
       " 6.928203230275509,\n",
       " 1.0,\n",
       " 6.855654600401044,\n",
       " 9.746794344808963,\n",
       " 9.327379053088816,\n",
       " 3.4641016151377544,\n",
       " 8.717797887081348,\n",
       " 10.0,\n",
       " 5.385164807134504,\n",
       " 9.486832980505138,\n",
       " 8.660254037844387,\n",
       " 7.211102550927978,\n",
       " 5.196152422706632,\n",
       " 7.681145747868608,\n",
       " 9.055385138137417,\n",
       " 6.244997998398398,\n",
       " 8.06225774829855,\n",
       " 9.539392014169456,\n",
       " 8.717797887081348,\n",
       " 9.797958971132712,\n",
       " 9.539392014169456,\n",
       " 5.0,\n",
       " 10.0,\n",
       " 5.5677643628300215,\n",
       " 9.0,\n",
       " 2.0,\n",
       " 5.830951894845301,\n",
       " 5.0,\n",
       " 9.899494936611665,\n",
       " 6.782329983125268,\n",
       " 9.219544457292887,\n",
       " 1.0,\n",
       " 5.0990195135927845,\n",
       " 3.872983346207417,\n",
       " 9.848857801796104,\n",
       " 8.888194417315589,\n",
       " 9.433981132056603,\n",
       " 8.366600265340756,\n",
       " 3.4641016151377544,\n",
       " 6.782329983125268]"
      ]
     },
     "execution_count": 87,
     "metadata": {},
     "output_type": "execute_result"
    }
   ],
   "source": [
    "# A partir de esa lista, generar otra con las raíces cuadradas de esos números.\n",
    "\n",
    "list(map(lambda x: sqrt(x),lista_random))\n"
   ]
  },
  {
   "cell_type": "code",
   "execution_count": null,
   "id": "0475b3f2",
   "metadata": {},
   "outputs": [],
   "source": []
  }
 ],
 "metadata": {
  "kernelspec": {
   "display_name": "Python 3 (ipykernel)",
   "language": "python",
   "name": "python3"
  },
  "language_info": {
   "codemirror_mode": {
    "name": "ipython",
    "version": 3
   },
   "file_extension": ".py",
   "mimetype": "text/x-python",
   "name": "python",
   "nbconvert_exporter": "python",
   "pygments_lexer": "ipython3",
   "version": "3.8.12"
  }
 },
 "nbformat": 4,
 "nbformat_minor": 5
}
